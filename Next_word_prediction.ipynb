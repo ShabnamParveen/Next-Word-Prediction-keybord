{
  "nbformat": 4,
  "nbformat_minor": 0,
  "metadata": {
    "colab": {
      "provenance": [],
      "include_colab_link": true
    },
    "kernelspec": {
      "name": "python3",
      "display_name": "Python 3"
    },
    "language_info": {
      "name": "python"
    },
    "gpuClass": "standard",
    "accelerator": "GPU"
  },
  "cells": [
    {
      "cell_type": "markdown",
      "metadata": {
        "id": "view-in-github",
        "colab_type": "text"
      },
      "source": [
        "<a href=\"https://colab.research.google.com/github/ShabnamParveen/BlogSystemWithPython/blob/main/Next_word_prediction.ipynb\" target=\"_parent\"><img src=\"https://colab.research.google.com/assets/colab-badge.svg\" alt=\"Open In Colab\"/></a>"
      ]
    },
    {
      "cell_type": "code",
      "source": [
        "import tensorflow     # to train deep neural network models\n",
        "from tensorflow import keras\n",
        "from keras.preprocessing.text import Tokenizer                #vectorize text corpus\n",
        "from keras.layers import Embedding, Dense, LSTM, Bidirectional, Dropout, GRU,Activation, Conv1D          # neural network layers\n",
        "from keras.models import Sequential         #neural network model for plain stack of layers\n",
        "from tensorflow.keras.utils import to_categorical\n",
        "from tensorflow.keras.optimizers import Adam\n",
        "import pickle\n",
        "import numpy as array_calculate     \n",
        "import os\n",
        "from keras.models import load_model\n",
        "from prompt_toolkit.filters.utils import to_filter\n",
        "from keras.utils.vis_utils import plot_model\n",
        "from keras.callbacks import ModelCheckpoint \n",
        "import matplotlib.pyplot as p_l_t\n",
        "import pandas as pd\n",
        "\n",
        "print(\"impoting done without any failure!\")\n"
      ],
      "metadata": {
        "colab": {
          "base_uri": "https://localhost:8080/"
        },
        "id": "kOx-OBzXF9Y2",
        "outputId": "3ff327e4-b90b-45c3-84de-c6261780c14e"
      },
      "execution_count": null,
      "outputs": [
        {
          "output_type": "stream",
          "name": "stdout",
          "text": [
            "impoting done without any failure!\n"
          ]
        }
      ]
    },
    {
      "cell_type": "markdown",
      "source": [
        "upload the text file as dataset"
      ],
      "metadata": {
        "id": "VtDB3BTp5RoS"
      }
    },
    {
      "cell_type": "code",
      "source": [
        "from google.colab import files\n",
        "_file = files.upload()"
      ],
      "metadata": {
        "colab": {
          "base_uri": "https://localhost:8080/",
          "height": 75
        },
        "id": "1Fq_vtQ75Q0g",
        "outputId": "a1873874-7989-4802-d012-55965a0700f9"
      },
      "execution_count": null,
      "outputs": [
        {
          "output_type": "display_data",
          "data": {
            "text/plain": [
              "<IPython.core.display.HTML object>"
            ],
            "text/html": [
              "\n",
              "     <input type=\"file\" id=\"files-a5f5b743-7600-4892-9bbc-a87c49e2d0ca\" name=\"files[]\" multiple disabled\n",
              "        style=\"border:none\" />\n",
              "     <output id=\"result-a5f5b743-7600-4892-9bbc-a87c49e2d0ca\">\n",
              "      Upload widget is only available when the cell has been executed in the\n",
              "      current browser session. Please rerun this cell to enable.\n",
              "      </output>\n",
              "      <script>// Copyright 2017 Google LLC\n",
              "//\n",
              "// Licensed under the Apache License, Version 2.0 (the \"License\");\n",
              "// you may not use this file except in compliance with the License.\n",
              "// You may obtain a copy of the License at\n",
              "//\n",
              "//      http://www.apache.org/licenses/LICENSE-2.0\n",
              "//\n",
              "// Unless required by applicable law or agreed to in writing, software\n",
              "// distributed under the License is distributed on an \"AS IS\" BASIS,\n",
              "// WITHOUT WARRANTIES OR CONDITIONS OF ANY KIND, either express or implied.\n",
              "// See the License for the specific language governing permissions and\n",
              "// limitations under the License.\n",
              "\n",
              "/**\n",
              " * @fileoverview Helpers for google.colab Python module.\n",
              " */\n",
              "(function(scope) {\n",
              "function span(text, styleAttributes = {}) {\n",
              "  const element = document.createElement('span');\n",
              "  element.textContent = text;\n",
              "  for (const key of Object.keys(styleAttributes)) {\n",
              "    element.style[key] = styleAttributes[key];\n",
              "  }\n",
              "  return element;\n",
              "}\n",
              "\n",
              "// Max number of bytes which will be uploaded at a time.\n",
              "const MAX_PAYLOAD_SIZE = 100 * 1024;\n",
              "\n",
              "function _uploadFiles(inputId, outputId) {\n",
              "  const steps = uploadFilesStep(inputId, outputId);\n",
              "  const outputElement = document.getElementById(outputId);\n",
              "  // Cache steps on the outputElement to make it available for the next call\n",
              "  // to uploadFilesContinue from Python.\n",
              "  outputElement.steps = steps;\n",
              "\n",
              "  return _uploadFilesContinue(outputId);\n",
              "}\n",
              "\n",
              "// This is roughly an async generator (not supported in the browser yet),\n",
              "// where there are multiple asynchronous steps and the Python side is going\n",
              "// to poll for completion of each step.\n",
              "// This uses a Promise to block the python side on completion of each step,\n",
              "// then passes the result of the previous step as the input to the next step.\n",
              "function _uploadFilesContinue(outputId) {\n",
              "  const outputElement = document.getElementById(outputId);\n",
              "  const steps = outputElement.steps;\n",
              "\n",
              "  const next = steps.next(outputElement.lastPromiseValue);\n",
              "  return Promise.resolve(next.value.promise).then((value) => {\n",
              "    // Cache the last promise value to make it available to the next\n",
              "    // step of the generator.\n",
              "    outputElement.lastPromiseValue = value;\n",
              "    return next.value.response;\n",
              "  });\n",
              "}\n",
              "\n",
              "/**\n",
              " * Generator function which is called between each async step of the upload\n",
              " * process.\n",
              " * @param {string} inputId Element ID of the input file picker element.\n",
              " * @param {string} outputId Element ID of the output display.\n",
              " * @return {!Iterable<!Object>} Iterable of next steps.\n",
              " */\n",
              "function* uploadFilesStep(inputId, outputId) {\n",
              "  const inputElement = document.getElementById(inputId);\n",
              "  inputElement.disabled = false;\n",
              "\n",
              "  const outputElement = document.getElementById(outputId);\n",
              "  outputElement.innerHTML = '';\n",
              "\n",
              "  const pickedPromise = new Promise((resolve) => {\n",
              "    inputElement.addEventListener('change', (e) => {\n",
              "      resolve(e.target.files);\n",
              "    });\n",
              "  });\n",
              "\n",
              "  const cancel = document.createElement('button');\n",
              "  inputElement.parentElement.appendChild(cancel);\n",
              "  cancel.textContent = 'Cancel upload';\n",
              "  const cancelPromise = new Promise((resolve) => {\n",
              "    cancel.onclick = () => {\n",
              "      resolve(null);\n",
              "    };\n",
              "  });\n",
              "\n",
              "  // Wait for the user to pick the files.\n",
              "  const files = yield {\n",
              "    promise: Promise.race([pickedPromise, cancelPromise]),\n",
              "    response: {\n",
              "      action: 'starting',\n",
              "    }\n",
              "  };\n",
              "\n",
              "  cancel.remove();\n",
              "\n",
              "  // Disable the input element since further picks are not allowed.\n",
              "  inputElement.disabled = true;\n",
              "\n",
              "  if (!files) {\n",
              "    return {\n",
              "      response: {\n",
              "        action: 'complete',\n",
              "      }\n",
              "    };\n",
              "  }\n",
              "\n",
              "  for (const file of files) {\n",
              "    const li = document.createElement('li');\n",
              "    li.append(span(file.name, {fontWeight: 'bold'}));\n",
              "    li.append(span(\n",
              "        `(${file.type || 'n/a'}) - ${file.size} bytes, ` +\n",
              "        `last modified: ${\n",
              "            file.lastModifiedDate ? file.lastModifiedDate.toLocaleDateString() :\n",
              "                                    'n/a'} - `));\n",
              "    const percent = span('0% done');\n",
              "    li.appendChild(percent);\n",
              "\n",
              "    outputElement.appendChild(li);\n",
              "\n",
              "    const fileDataPromise = new Promise((resolve) => {\n",
              "      const reader = new FileReader();\n",
              "      reader.onload = (e) => {\n",
              "        resolve(e.target.result);\n",
              "      };\n",
              "      reader.readAsArrayBuffer(file);\n",
              "    });\n",
              "    // Wait for the data to be ready.\n",
              "    let fileData = yield {\n",
              "      promise: fileDataPromise,\n",
              "      response: {\n",
              "        action: 'continue',\n",
              "      }\n",
              "    };\n",
              "\n",
              "    // Use a chunked sending to avoid message size limits. See b/62115660.\n",
              "    let position = 0;\n",
              "    do {\n",
              "      const length = Math.min(fileData.byteLength - position, MAX_PAYLOAD_SIZE);\n",
              "      const chunk = new Uint8Array(fileData, position, length);\n",
              "      position += length;\n",
              "\n",
              "      const base64 = btoa(String.fromCharCode.apply(null, chunk));\n",
              "      yield {\n",
              "        response: {\n",
              "          action: 'append',\n",
              "          file: file.name,\n",
              "          data: base64,\n",
              "        },\n",
              "      };\n",
              "\n",
              "      let percentDone = fileData.byteLength === 0 ?\n",
              "          100 :\n",
              "          Math.round((position / fileData.byteLength) * 100);\n",
              "      percent.textContent = `${percentDone}% done`;\n",
              "\n",
              "    } while (position < fileData.byteLength);\n",
              "  }\n",
              "\n",
              "  // All done.\n",
              "  yield {\n",
              "    response: {\n",
              "      action: 'complete',\n",
              "    }\n",
              "  };\n",
              "}\n",
              "\n",
              "scope.google = scope.google || {};\n",
              "scope.google.colab = scope.google.colab || {};\n",
              "scope.google.colab._files = {\n",
              "  _uploadFiles,\n",
              "  _uploadFilesContinue,\n",
              "};\n",
              "})(self);\n",
              "</script> "
            ]
          },
          "metadata": {}
        },
        {
          "output_type": "stream",
          "name": "stdout",
          "text": [
            "Saving my mother india.txt to my mother india.txt\n"
          ]
        }
      ]
    },
    {
      "cell_type": "markdown",
      "source": [
        "Load, preprocess --> dataset"
      ],
      "metadata": {
        "id": "-zRe7CKr5_M4"
      }
    },
    {
      "cell_type": "code",
      "source": [
        "text_sheet = open(\"my mother india.txt\", \"r\",  encoding = \"UTF8\")"
      ],
      "metadata": {
        "id": "0sVwdyet6E6K"
      },
      "execution_count": null,
      "outputs": []
    },
    {
      "cell_type": "markdown",
      "source": [
        "Storing the file into a list datatype"
      ],
      "metadata": {
        "id": "2T4sh2EC6l5w"
      }
    },
    {
      "cell_type": "code",
      "source": [
        "text_lns = []\n",
        "for line in text_sheet:\n",
        "  text_lns.append(line)"
      ],
      "metadata": {
        "id": "PTwTe1nO6sLk"
      },
      "execution_count": null,
      "outputs": []
    },
    {
      "cell_type": "markdown",
      "source": [
        "Typecasting the created list(data) into string datatype"
      ],
      "metadata": {
        "id": "9Mof31ab7AIV"
      }
    },
    {
      "cell_type": "code",
      "source": [
        "text_material = \"\"\n",
        "for j in text_lns:\n",
        "  text_material = ' '.join(text_lns)"
      ],
      "metadata": {
        "id": "0RBLir5I7JIl"
      },
      "execution_count": null,
      "outputs": []
    },
    {
      "cell_type": "markdown",
      "source": [
        "change the escape sequences to a single space"
      ],
      "metadata": {
        "id": "eRJtAqzd9Hxb"
      }
    },
    {
      "cell_type": "code",
      "source": [
        "text_data = text_material.replace('\\n', ' ').replace('\\r', ' ').replace('\\ufeff', ' ').replace('\"', ' ').replace('_', ' ').replace('*', ' ').replace('|', ' ').replace('-', ' ').replace('+', ' ')"
      ],
      "metadata": {
        "id": "4uUut3i3-Jjh"
      },
      "execution_count": null,
      "outputs": []
    },
    {
      "cell_type": "markdown",
      "source": [
        "Remove unnecessary spaces from the dataset"
      ],
      "metadata": {
        "id": "XyW24ES8_zf_"
      }
    },
    {
      "cell_type": "code",
      "source": [
        "text_data = text_data.split()\n",
        "text_data = ' '.join(text_data)"
      ],
      "metadata": {
        "id": "yN0C3QFk_6c7"
      },
      "execution_count": null,
      "outputs": []
    },
    {
      "cell_type": "markdown",
      "source": [
        "printing some part of the dataset"
      ],
      "metadata": {
        "id": "RnHsg8F3Aua3"
      }
    },
    {
      "cell_type": "code",
      "source": [
        "text_data[:5000]"
      ],
      "metadata": {
        "colab": {
          "base_uri": "https://localhost:8080/",
          "height": 122
        },
        "id": "6H15BDN1A2zA",
        "outputId": "3f8370e4-f248-479d-fb84-2bb9a3cba261"
      },
      "execution_count": null,
      "outputs": [
        {
          "output_type": "execute_result",
          "data": {
            "text/plain": [
              "'The Project Gutenberg eBook of My mother India, by Dalip Singh Saund This eBook is for the use of anyone anywhere in the United States and most other parts of the world at no cost and with almost no restrictions whatsoever. You may copy it, give it away or re use it under the terms of the Project Gutenberg License included with this eBook or online at www.gutenberg.org. If you are not located in the United States, you will have to check the laws of the country where you are located before using this eBook. Title: My mother India Author: Dalip Singh Saund Release Date: July 20, 2022 [eBook #68572] Language: English Produced by: Tim Lindell, Martin Pettit and the Online Distributed Proofreading Team at https://www.pgdp.net (This book was produced from images made available by the HathiTrust Digital Library.) START OF THE PROJECT GUTENBERG EBOOK MY MOTHER INDIA Transcriber’s note: Obvious typographic errors have been corrected. MY MOTHER INDIA by DALIP SINGH SAUND, M.A., Ph.D. [Illustration] Published by THE PACIFIC COAST KHALSA DIWAN SOCIETY, INC. (SIKH TEMPLE) STOCKTON, CALIFORNIA. COPYRIGHT, 1930 BY DALIP SINGH SAUND FROM THE PRESS OF WETZEL PUBLISHING CO., INC. LOS ANGELES Dedicated to my beloved friend Dr. Bhagat Singh Thind PREFACE This work was undertaken at the request of THE PACIFIC COAST KHALSA DIWAN SOCIETY, commonly known as the SIKH TEMPLE at Stockton, California. The original plan was to write a comprehensive reply to Katherine Mayo’s book MOTHER INDIA, which was changed later to one of producing a handbook on India for general use by the American public. In view of the momentous changes of worldwide interest, which have taken place in India during recent years, the need for such a book was quite imminent. And it was only fitting that THE PACIFIC COAST KHALSA DIWAN SOCIETY, in its role as the interpreter of Hindu culture and civilization to America, should undertake its publication. Only a few years ago, India, like other countries of the Orient, was a far Eastern problem. To day, if rightly judged, it has already become a near Western issue. Except for the few scholars of oriental history and literature, who occupied themselves diligently in exploring the hidden treasures of Hindu civilization, the name of India was an unknown thing to the rest of the American world. For the average man and woman in the United States the affairs of that oriental country were too remote an issue for them to notice. With the advances made by science during recent times, however, different parts of the world have become so near together, and their business and cultural relations have grown so desperately interlaced, that the affairs of one section of the globe cannot, and should not, remain a matter of comfortable unconcern for the other. It has been my aim in the preparation of this book to answer the various questions that commonly arise in the minds of the American people regarding the cultural and political problems of India. And if I have succeeded in bringing about a better understanding of India by the people of America, I consider myself amply repaid. Wherever feasible I have made free uses of striking passages and phrases from the writings of several authors. Since these were copied from my notes gathered during a course of study extending over several years, it has not always been possible for me to trace the source, for which I wish to be humbly excused. I wish to express my sincerest appreciation to my beloved wife for her untiring assistance in the preparation of the manuscript and the reading of the proofs. I wish also to thank my friend Mr. Anoop Singh Dhillon for valuable suggestions. Los Angeles, California. March, 1930. DALIP SINGH SAUND. CONTENTS CHAPTER PAGE I. WOMAN’S POSITION IN INDIA. IS SHE BOND OR FREE? 9 II. THE HINDU IDEAL OF MARRIAGE 36 III. THE CIVILIZATION AND ETHICS OF INDIA 64 IV. THE CASTE SYSTEM OF INDIA 81 V. GANDHI THE MAN AND HIS MESSAGE 108 VI. INDIA’S EXPERIMENT WITH PASSIVE RESISTANCE 126 VII. JALLIANWALLA MASSACRE AT AMRITSAR 146 VIII. WHY IS INDIA POOR? 162 IX. INDIAN NATIONALISM ITS ORIGIN AND GROWTH 190 CHAPTER I WOMAN’S POSITION IN INDIA. IS SHE BOND OR FREE? “ Where women are honored, there the gods are pleased; but where they are dishonored, no sacred rite yields reward. ” Thus, in the year 200 B. C., wrote Manu, the great law giver of India India, whose mind was full grown when the western nations were yet unborn; India, whose life rolled on while the West, like the dragon fly, lived and died to live again. While Europe was still in a state of primitive barbarism, the Indo Aryans of Bharat (India) had reached an elevated state of moral and spiritual perfection; and in the realm of intellectual culture they had attained an eminence which has not yet been equalled by the most advanced of western countries. Not only had they a perfect alphabet and a symmetrical language, but their literature already contained models of true poetry and remarkable treatises on philosophy, '"
            ],
            "application/vnd.google.colaboratory.intrinsic+json": {
              "type": "string"
            }
          },
          "metadata": {},
          "execution_count": 10
        }
      ]
    },
    {
      "cell_type": "markdown",
      "source": [
        "finding the length of the string stream in the preprocessed file"
      ],
      "metadata": {
        "id": "C6apvLAEbv_3"
      }
    },
    {
      "cell_type": "code",
      "source": [
        "len(text_data)"
      ],
      "metadata": {
        "colab": {
          "base_uri": "https://localhost:8080/"
        },
        "id": "iLYqfi8wbzgX",
        "outputId": "3a3349fc-68fc-4593-ffd2-8d9045e73ef7"
      },
      "execution_count": null,
      "outputs": [
        {
          "output_type": "execute_result",
          "data": {
            "text/plain": [
              "353678"
            ]
          },
          "metadata": {},
          "execution_count": 11
        }
      ]
    },
    {
      "cell_type": "markdown",
      "source": [
        "Apply Tokenization"
      ],
      "metadata": {
        "id": "x4hvjI59b_41"
      }
    },
    {
      "cell_type": "code",
      "source": [
        "data_tknzr = Tokenizer() # breaks down a piece of text into small units called TOKENS\n",
        "data_tknzr.fit_on_texts([text_data]) # breaking text to tokens"
      ],
      "metadata": {
        "id": "OsposEfWcCTO"
      },
      "execution_count": null,
      "outputs": []
    },
    {
      "cell_type": "markdown",
      "source": [
        "~Saving the tolkenizer file for predict function"
      ],
      "metadata": {
        "id": "mKsDsV98gVkZ"
      }
    },
    {
      "cell_type": "markdown",
      "source": [
        "The Pickled file contains the model, the metrics from the testing, a list of variable names and their order in which they have to be inputted, the version of Keras and python used, and if a scaler is used it will also be stored in the file."
      ],
      "metadata": {
        "id": "XF_1PoGxilii"
      }
    },
    {
      "cell_type": "markdown",
      "source": [
        "\n",
        "texts_to_sequences method helps in converting tokens of text corpus into a sequence of integers."
      ],
      "metadata": {
        "id": "_QHFjmsNjtrU"
      }
    },
    {
      "cell_type": "code",
      "source": [
        "pickle.dump(data_tknzr, open('token.pkl', 'wb'))\n",
        "\n",
        "sqnc_of_dta =  data_tknzr.texts_to_sequences([text_data])[0]\n",
        "sqnc_of_dta[:21]"
      ],
      "metadata": {
        "colab": {
          "base_uri": "https://localhost:8080/"
        },
        "id": "chBm3ZcUhSN5",
        "outputId": "1e76f011-47dd-41a1-ac9b-af1f51233a96"
      },
      "execution_count": null,
      "outputs": [
        {
          "output_type": "execute_result",
          "data": {
            "text/plain": [
              "[1,\n",
              " 72,\n",
              " 67,\n",
              " 522,\n",
              " 2,\n",
              " 73,\n",
              " 289,\n",
              " 10,\n",
              " 11,\n",
              " 1344,\n",
              " 619,\n",
              " 1345,\n",
              " 24,\n",
              " 522,\n",
              " 7,\n",
              " 14,\n",
              " 1,\n",
              " 156,\n",
              " 2,\n",
              " 758,\n",
              " 1131]"
            ]
          },
          "metadata": {},
          "execution_count": 13
        }
      ]
    },
    {
      "cell_type": "markdown",
      "source": [
        "printing length of sequence data"
      ],
      "metadata": {
        "id": "erHQ3pdwkK43"
      }
    },
    {
      "cell_type": "code",
      "source": [
        "len(sqnc_of_dta)"
      ],
      "metadata": {
        "colab": {
          "base_uri": "https://localhost:8080/"
        },
        "id": "A5kjLDgzkOWK",
        "outputId": "be0a1a52-ffa8-44d5-d487-1c3d027d99c5"
      },
      "execution_count": null,
      "outputs": [
        {
          "output_type": "execute_result",
          "data": {
            "text/plain": [
              "60894"
            ]
          },
          "metadata": {},
          "execution_count": 14
        }
      ]
    },
    {
      "cell_type": "markdown",
      "source": [
        "The above o/p is less than the original file length, because the above function gives integer values to unique words(words are repeated in the original file). Apart from this the above function also filters the functuation marks and spaces etc."
      ],
      "metadata": {
        "id": "goP-ijRznO6H"
      }
    },
    {
      "cell_type": "markdown",
      "source": [
        "index 0 is reserve for padding so the vocab size will be incresed by 1"
      ],
      "metadata": {
        "id": "m9R6u1eFn3-r"
      }
    },
    {
      "cell_type": "code",
      "source": [
        "vocabulary_length = len(data_tknzr.word_index) + 1\n",
        "vocabulary_length"
      ],
      "metadata": {
        "colab": {
          "base_uri": "https://localhost:8080/"
        },
        "id": "PYfM1G4fm393",
        "outputId": "9f3dccc3-e6e1-47dd-e190-4f3a833713cb"
      },
      "execution_count": null,
      "outputs": [
        {
          "output_type": "execute_result",
          "data": {
            "text/plain": [
              "7649"
            ]
          },
          "metadata": {},
          "execution_count": 15
        }
      ]
    },
    {
      "cell_type": "code",
      "source": [
        "sqncs = [] \n",
        "\n",
        "for e in range(3, len(sqnc_of_dta)):\n",
        "  wrd = sqnc_of_dta[e-3 : e+1]\n",
        "  sqncs.append(wrd)\n",
        "\n",
        "print('Sequence length: ', len(sqncs))\n",
        "sqncs = array_calculate.array(sqncs)\n",
        "sqncs[:20]"
      ],
      "metadata": {
        "colab": {
          "base_uri": "https://localhost:8080/"
        },
        "id": "rBMuZF3JorKK",
        "outputId": "f9361665-116c-478e-ca2e-35ab1076eecb"
      },
      "execution_count": null,
      "outputs": [
        {
          "output_type": "stream",
          "name": "stdout",
          "text": [
            "Sequence length:  60891\n"
          ]
        },
        {
          "output_type": "execute_result",
          "data": {
            "text/plain": [
              "array([[   1,   72,   67,  522],\n",
              "       [  72,   67,  522,    2],\n",
              "       [  67,  522,    2,   73],\n",
              "       [ 522,    2,   73,  289],\n",
              "       [   2,   73,  289,   10],\n",
              "       [  73,  289,   10,   11],\n",
              "       [ 289,   10,   11, 1344],\n",
              "       [  10,   11, 1344,  619],\n",
              "       [  11, 1344,  619, 1345],\n",
              "       [1344,  619, 1345,   24],\n",
              "       [ 619, 1345,   24,  522],\n",
              "       [1345,   24,  522,    7],\n",
              "       [  24,  522,    7,   14],\n",
              "       [ 522,    7,   14,    1],\n",
              "       [   7,   14,    1,  156],\n",
              "       [  14,    1,  156,    2],\n",
              "       [   1,  156,    2,  758],\n",
              "       [ 156,    2,  758, 1131],\n",
              "       [   2,  758, 1131,    4],\n",
              "       [ 758, 1131,    4,    1]])"
            ]
          },
          "metadata": {},
          "execution_count": 16
        }
      ]
    },
    {
      "cell_type": "markdown",
      "source": [
        "separation of dependent and independent variables from the dataset"
      ],
      "metadata": {
        "id": "XFf9yVhmseie"
      }
    },
    {
      "cell_type": "code",
      "source": [
        "X_input = [] \n",
        "y_output = []\n",
        "\n",
        "for seq in sqncs:\n",
        "  X_input.append(seq[0:3])\n",
        "  y_output.append(seq[3])\n",
        "\n",
        "X_input = array_calculate.array(X_input)\n",
        "y_output = array_calculate.array(y_output) "
      ],
      "metadata": {
        "id": "lxtUHrPNskkP"
      },
      "execution_count": null,
      "outputs": []
    },
    {
      "cell_type": "markdown",
      "source": [
        "printing content of x variable"
      ],
      "metadata": {
        "id": "hL3mtGvrtsVQ"
      }
    },
    {
      "cell_type": "code",
      "source": [
        "print('input data vectors: ', X_input[:25])"
      ],
      "metadata": {
        "colab": {
          "base_uri": "https://localhost:8080/"
        },
        "id": "_-gocH8NtyGW",
        "outputId": "bfd5961f-23f1-43e5-c663-d9e50396d7ec"
      },
      "execution_count": null,
      "outputs": [
        {
          "output_type": "stream",
          "name": "stdout",
          "text": [
            "input data vectors:  [[   1   72   67]\n",
            " [  72   67  522]\n",
            " [  67  522    2]\n",
            " [ 522    2   73]\n",
            " [   2   73  289]\n",
            " [  73  289   10]\n",
            " [ 289   10   11]\n",
            " [  10   11 1344]\n",
            " [  11 1344  619]\n",
            " [1344  619 1345]\n",
            " [ 619 1345   24]\n",
            " [1345   24  522]\n",
            " [  24  522    7]\n",
            " [ 522    7   14]\n",
            " [   7   14    1]\n",
            " [  14    1  156]\n",
            " [   1  156    2]\n",
            " [ 156    2  758]\n",
            " [   2  758 1131]\n",
            " [ 758 1131    4]\n",
            " [1131    4    1]\n",
            " [   4    1  194]\n",
            " [   1  194  176]\n",
            " [ 194  176    3]\n",
            " [ 176    3   69]]\n"
          ]
        }
      ]
    },
    {
      "cell_type": "markdown",
      "source": [
        "printing Responses which is y variable"
      ],
      "metadata": {
        "id": "Atjv19qNuHUt"
      }
    },
    {
      "cell_type": "code",
      "source": [
        "print('Response data: ', y_output[:25])"
      ],
      "metadata": {
        "colab": {
          "base_uri": "https://localhost:8080/"
        },
        "id": "VMaVFbMwuPHD",
        "outputId": "c0733731-6758-47b0-8a27-23fb0ca84f02"
      },
      "execution_count": null,
      "outputs": [
        {
          "output_type": "stream",
          "name": "stdout",
          "text": [
            "Response data:  [ 522    2   73  289   10   11 1344  619 1345   24  522    7   14    1\n",
            "  156    2  758 1131    4    1  194  176    3   69   47]\n"
          ]
        }
      ]
    },
    {
      "cell_type": "code",
      "source": [
        "y_output = to_categorical(y_output, num_classes=vocabulary_length)\n",
        "y_output[:25]"
      ],
      "metadata": {
        "colab": {
          "base_uri": "https://localhost:8080/"
        },
        "id": "A-3ItEl1E6dv",
        "outputId": "ec35b4f5-16ae-4994-ba05-d9bd15b92e71"
      },
      "execution_count": null,
      "outputs": [
        {
          "output_type": "execute_result",
          "data": {
            "text/plain": [
              "array([[0., 0., 0., ..., 0., 0., 0.],\n",
              "       [0., 0., 1., ..., 0., 0., 0.],\n",
              "       [0., 0., 0., ..., 0., 0., 0.],\n",
              "       ...,\n",
              "       [0., 0., 0., ..., 0., 0., 0.],\n",
              "       [0., 0., 0., ..., 0., 0., 0.],\n",
              "       [0., 0., 0., ..., 0., 0., 0.]], dtype=float32)"
            ]
          },
          "metadata": {},
          "execution_count": 20
        }
      ]
    },
    {
      "cell_type": "markdown",
      "source": [
        "#Creating the model"
      ],
      "metadata": {
        "id": "3fw7rNL7vj9C"
      }
    },
    {
      "cell_type": "markdown",
      "source": [
        "#sequential()-> for creating deeplearning model\n",
        "embedding->layer\n",
        "vocab_size->input dimension\n",
        "10->o/p dimension\n",
        "i/p_length-> 3-gram language model\n"
      ],
      "metadata": {
        "id": "diZpn4MVww5s"
      }
    },
    {
      "cell_type": "code",
      "source": [
        "mdl_lstm = Sequential()\n",
        "mdl_lstm.add(Embedding(vocabulary_length, 10, input_length=3))\n",
        "mdl_lstm.add(LSTM(1000, return_sequences=True))\n",
        "mdl_lstm.add(LSTM(1000))\n",
        "mdl_lstm.add(Dense(1000, activation=\"relu\"))\n",
        "mdl_lstm.add(Dense(vocabulary_length, activation=\"softmax\"))"
      ],
      "metadata": {
        "id": "zvJhdSpuvmft"
      },
      "execution_count": null,
      "outputs": []
    },
    {
      "cell_type": "code",
      "source": [
        "mdl_lstm.summary()"
      ],
      "metadata": {
        "colab": {
          "base_uri": "https://localhost:8080/"
        },
        "id": "9MmQK1s7x_wo",
        "outputId": "03ba29ec-9804-409f-c7f0-c3101532bd33"
      },
      "execution_count": null,
      "outputs": [
        {
          "output_type": "stream",
          "name": "stdout",
          "text": [
            "Model: \"sequential\"\n",
            "_________________________________________________________________\n",
            " Layer (type)                Output Shape              Param #   \n",
            "=================================================================\n",
            " embedding (Embedding)       (None, 3, 10)             76490     \n",
            "                                                                 \n",
            " lstm (LSTM)                 (None, 3, 1000)           4044000   \n",
            "                                                                 \n",
            " lstm_1 (LSTM)               (None, 1000)              8004000   \n",
            "                                                                 \n",
            " dense (Dense)               (None, 1000)              1001000   \n",
            "                                                                 \n",
            " dense_1 (Dense)             (None, 7649)              7656649   \n",
            "                                                                 \n",
            "=================================================================\n",
            "Total params: 20,782,139\n",
            "Trainable params: 20,782,139\n",
            "Non-trainable params: 0\n",
            "_________________________________________________________________\n"
          ]
        }
      ]
    },
    {
      "cell_type": "markdown",
      "source": [
        "#plot model to visualise it"
      ],
      "metadata": {
        "id": "K7W8N0vLyQ1Q"
      }
    },
    {
      "cell_type": "code",
      "source": [
        "keras.utils.plot_model(mdl_lstm, to_file= 'plotted_lstm_model.png', show_layer_names=True)"
      ],
      "metadata": {
        "colab": {
          "base_uri": "https://localhost:8080/",
          "height": 564
        },
        "id": "2gxPY8U4yWJ_",
        "outputId": "9872c91f-f955-4dd3-c902-b64b1544ba19"
      },
      "execution_count": null,
      "outputs": [
        {
          "output_type": "execute_result",
          "data": {
            "image/png": "[encoded data removed]",
            "text/plain": [
              "<IPython.core.display.Image object>"
            ]
          },
          "metadata": {},
          "execution_count": 21
        }
      ]
    },
    {
      "cell_type": "markdown",
      "source": [
        "# #train ####################################"
      ],
      "metadata": {
        "id": "nG3uryNUzVKe"
      }
    },
    {
      "cell_type": "code",
      "source": [
        "chckpnt = ModelCheckpoint(\"nxt_word_prediction.h5\", monitor=\"loss\", verbose=1, save_best_only=True)\n",
        "mdl_lstm.compile(loss=\"categorical_crossentropy\", optimizer=Adam(learning_rate=0.001), metrics=['accuracy'])\n",
        "training_rcrds = mdl_lstm.fit(X_input, y_output, epochs=100, batch_size=64, callbacks=[chckpnt])\n",
        "print(mdl_lstm)"
      ],
      "metadata": {
        "colab": {
          "base_uri": "https://localhost:8080/"
        },
        "id": "_8Ws-5eOzYcn",
        "outputId": "0b26ec95-4ec1-4121-b408-c3d7de0bf807"
      },
      "execution_count": null,
      "outputs": [
        {
          "output_type": "stream",
          "name": "stdout",
          "text": [
            "Epoch 1/100\n",
            "952/952 [==============================] - ETA: 0s - loss: 6.7700 - accuracy: 0.0943\n",
            "Epoch 1: loss improved from inf to 6.77003, saving model to nxt_word_prediction.h5\n",
            "952/952 [==============================] - 29s 24ms/step - loss: 6.7700 - accuracy: 0.0943\n",
            "Epoch 2/100\n",
            "952/952 [==============================] - ETA: 0s - loss: 6.2356 - accuracy: 0.1254\n",
            "Epoch 2: loss improved from 6.77003 to 6.23564, saving model to nxt_word_prediction.h5\n",
            "952/952 [==============================] - 17s 18ms/step - loss: 6.2356 - accuracy: 0.1254\n",
            "Epoch 3/100\n",
            "951/952 [============================>.] - ETA: 0s - loss: 5.8939 - accuracy: 0.1428\n",
            "Epoch 3: loss improved from 6.23564 to 5.89335, saving model to nxt_word_prediction.h5\n",
            "952/952 [==============================] - 17s 18ms/step - loss: 5.8934 - accuracy: 0.1429\n",
            "Epoch 4/100\n",
            "952/952 [==============================] - ETA: 0s - loss: 5.6041 - accuracy: 0.1574\n",
            "Epoch 4: loss improved from 5.89335 to 5.60413, saving model to nxt_word_prediction.h5\n",
            "952/952 [==============================] - 17s 18ms/step - loss: 5.6041 - accuracy: 0.1574\n",
            "Epoch 5/100\n",
            "949/952 [============================>.] - ETA: 0s - loss: 5.3571 - accuracy: 0.1669\n",
            "Epoch 5: loss improved from 5.60413 to 5.35609, saving model to nxt_word_prediction.h5\n",
            "952/952 [==============================] - 16s 17ms/step - loss: 5.3561 - accuracy: 0.1670\n",
            "Epoch 6/100\n",
            "952/952 [==============================] - ETA: 0s - loss: 5.1189 - accuracy: 0.1782\n",
            "Epoch 6: loss improved from 5.35609 to 5.11892, saving model to nxt_word_prediction.h5\n",
            "952/952 [==============================] - 17s 18ms/step - loss: 5.1189 - accuracy: 0.1782\n",
            "Epoch 7/100\n",
            "952/952 [==============================] - ETA: 0s - loss: 4.8678 - accuracy: 0.1868\n",
            "Epoch 7: loss improved from 5.11892 to 4.86776, saving model to nxt_word_prediction.h5\n",
            "952/952 [==============================] - 17s 18ms/step - loss: 4.8678 - accuracy: 0.1868\n",
            "Epoch 8/100\n",
            "952/952 [==============================] - ETA: 0s - loss: 4.5884 - accuracy: 0.1970\n",
            "Epoch 8: loss improved from 4.86776 to 4.58838, saving model to nxt_word_prediction.h5\n",
            "952/952 [==============================] - 17s 18ms/step - loss: 4.5884 - accuracy: 0.1970\n",
            "Epoch 9/100\n",
            "949/952 [============================>.] - ETA: 0s - loss: 4.2947 - accuracy: 0.2099\n",
            "Epoch 9: loss improved from 4.58838 to 4.29505, saving model to nxt_word_prediction.h5\n",
            "952/952 [==============================] - 17s 17ms/step - loss: 4.2951 - accuracy: 0.2099\n",
            "Epoch 10/100\n",
            "949/952 [============================>.] - ETA: 0s - loss: 3.9924 - accuracy: 0.2268\n",
            "Epoch 10: loss improved from 4.29505 to 3.99295, saving model to nxt_word_prediction.h5\n",
            "952/952 [==============================] - 16s 17ms/step - loss: 3.9929 - accuracy: 0.2267\n",
            "Epoch 11/100\n",
            "952/952 [==============================] - ETA: 0s - loss: 3.6917 - accuracy: 0.2546\n",
            "Epoch 11: loss improved from 3.99295 to 3.69173, saving model to nxt_word_prediction.h5\n",
            "952/952 [==============================] - 17s 18ms/step - loss: 3.6917 - accuracy: 0.2546\n",
            "Epoch 12/100\n",
            "952/952 [==============================] - ETA: 0s - loss: 3.4044 - accuracy: 0.2892\n",
            "Epoch 12: loss improved from 3.69173 to 3.40440, saving model to nxt_word_prediction.h5\n",
            "952/952 [==============================] - 17s 18ms/step - loss: 3.4044 - accuracy: 0.2892\n",
            "Epoch 13/100\n",
            "950/952 [============================>.] - ETA: 0s - loss: 3.1365 - accuracy: 0.3247\n",
            "Epoch 13: loss improved from 3.40440 to 3.13678, saving model to nxt_word_prediction.h5\n",
            "952/952 [==============================] - 17s 17ms/step - loss: 3.1368 - accuracy: 0.3246\n",
            "Epoch 14/100\n",
            "952/952 [==============================] - ETA: 0s - loss: 2.8885 - accuracy: 0.3611\n",
            "Epoch 14: loss improved from 3.13678 to 2.88850, saving model to nxt_word_prediction.h5\n",
            "952/952 [==============================] - 17s 17ms/step - loss: 2.8885 - accuracy: 0.3611\n",
            "Epoch 15/100\n",
            "952/952 [==============================] - ETA: 0s - loss: 2.6555 - accuracy: 0.3970\n",
            "Epoch 15: loss improved from 2.88850 to 2.65549, saving model to nxt_word_prediction.h5\n",
            "952/952 [==============================] - 17s 18ms/step - loss: 2.6555 - accuracy: 0.3970\n",
            "Epoch 16/100\n",
            "952/952 [==============================] - ETA: 0s - loss: 2.4332 - accuracy: 0.4358\n",
            "Epoch 16: loss improved from 2.65549 to 2.43322, saving model to nxt_word_prediction.h5\n",
            "952/952 [==============================] - 17s 17ms/step - loss: 2.4332 - accuracy: 0.4358\n",
            "Epoch 17/100\n",
            "951/952 [============================>.] - ETA: 0s - loss: 2.2292 - accuracy: 0.4709\n",
            "Epoch 17: loss improved from 2.43322 to 2.22930, saving model to nxt_word_prediction.h5\n",
            "952/952 [==============================] - 17s 17ms/step - loss: 2.2293 - accuracy: 0.4709\n",
            "Epoch 18/100\n",
            "952/952 [==============================] - ETA: 0s - loss: 2.0350 - accuracy: 0.5069\n",
            "Epoch 18: loss improved from 2.22930 to 2.03500, saving model to nxt_word_prediction.h5\n",
            "952/952 [==============================] - 17s 18ms/step - loss: 2.0350 - accuracy: 0.5069\n",
            "Epoch 19/100\n",
            "951/952 [============================>.] - ETA: 0s - loss: 1.8431 - accuracy: 0.5450\n",
            "Epoch 19: loss improved from 2.03500 to 1.84339, saving model to nxt_word_prediction.h5\n",
            "952/952 [==============================] - 17s 18ms/step - loss: 1.8434 - accuracy: 0.5449\n",
            "Epoch 20/100\n",
            "952/952 [==============================] - ETA: 0s - loss: 1.6576 - accuracy: 0.5845\n",
            "Epoch 20: loss improved from 1.84339 to 1.65755, saving model to nxt_word_prediction.h5\n",
            "952/952 [==============================] - 17s 18ms/step - loss: 1.6576 - accuracy: 0.5845\n",
            "Epoch 21/100\n",
            "952/952 [==============================] - ETA: 0s - loss: 1.4902 - accuracy: 0.6186\n",
            "Epoch 21: loss improved from 1.65755 to 1.49016, saving model to nxt_word_prediction.h5\n",
            "952/952 [==============================] - 16s 17ms/step - loss: 1.4902 - accuracy: 0.6186\n",
            "Epoch 22/100\n",
            "951/952 [============================>.] - ETA: 0s - loss: 1.3275 - accuracy: 0.6545\n",
            "Epoch 22: loss improved from 1.49016 to 1.32724, saving model to nxt_word_prediction.h5\n",
            "952/952 [==============================] - 17s 17ms/step - loss: 1.3272 - accuracy: 0.6545\n",
            "Epoch 23/100\n",
            "951/952 [============================>.] - ETA: 0s - loss: 1.1884 - accuracy: 0.6886\n",
            "Epoch 23: loss improved from 1.32724 to 1.18850, saving model to nxt_word_prediction.h5\n",
            "952/952 [==============================] - 17s 17ms/step - loss: 1.1885 - accuracy: 0.6886\n",
            "Epoch 24/100\n",
            "950/952 [============================>.] - ETA: 0s - loss: 1.0584 - accuracy: 0.7204\n",
            "Epoch 24: loss improved from 1.18850 to 1.05846, saving model to nxt_word_prediction.h5\n",
            "952/952 [==============================] - 17s 17ms/step - loss: 1.0585 - accuracy: 0.7204\n",
            "Epoch 25/100\n",
            "951/952 [============================>.] - ETA: 0s - loss: 0.9429 - accuracy: 0.7516\n",
            "Epoch 25: loss improved from 1.05846 to 0.94295, saving model to nxt_word_prediction.h5\n",
            "952/952 [==============================] - 16s 17ms/step - loss: 0.9430 - accuracy: 0.7516\n",
            "Epoch 26/100\n",
            "952/952 [==============================] - ETA: 0s - loss: 0.8555 - accuracy: 0.7717\n",
            "Epoch 26: loss improved from 0.94295 to 0.85551, saving model to nxt_word_prediction.h5\n",
            "952/952 [==============================] - 17s 18ms/step - loss: 0.8555 - accuracy: 0.7717\n",
            "Epoch 27/100\n",
            "952/952 [==============================] - ETA: 0s - loss: 0.7737 - accuracy: 0.7943\n",
            "Epoch 27: loss improved from 0.85551 to 0.77373, saving model to nxt_word_prediction.h5\n",
            "952/952 [==============================] - 17s 18ms/step - loss: 0.7737 - accuracy: 0.7943\n",
            "Epoch 28/100\n",
            "950/952 [============================>.] - ETA: 0s - loss: 0.7084 - accuracy: 0.8135\n",
            "Epoch 28: loss improved from 0.77373 to 0.70842, saving model to nxt_word_prediction.h5\n",
            "952/952 [==============================] - 16s 17ms/step - loss: 0.7084 - accuracy: 0.8135\n",
            "Epoch 29/100\n",
            "952/952 [==============================] - ETA: 0s - loss: 0.6551 - accuracy: 0.8252\n",
            "Epoch 29: loss improved from 0.70842 to 0.65510, saving model to nxt_word_prediction.h5\n",
            "952/952 [==============================] - 17s 18ms/step - loss: 0.6551 - accuracy: 0.8252\n",
            "Epoch 30/100\n",
            "952/952 [==============================] - ETA: 0s - loss: 0.6158 - accuracy: 0.8349\n",
            "Epoch 30: loss improved from 0.65510 to 0.61585, saving model to nxt_word_prediction.h5\n",
            "952/952 [==============================] - 17s 17ms/step - loss: 0.6158 - accuracy: 0.8349\n",
            "Epoch 31/100\n",
            "949/952 [============================>.] - ETA: 0s - loss: 0.5704 - accuracy: 0.8466\n",
            "Epoch 31: loss improved from 0.61585 to 0.57051, saving model to nxt_word_prediction.h5\n",
            "952/952 [==============================] - 17s 17ms/step - loss: 0.5705 - accuracy: 0.8466\n",
            "Epoch 32/100\n",
            "952/952 [==============================] - ETA: 0s - loss: 0.5447 - accuracy: 0.8520\n",
            "Epoch 32: loss improved from 0.57051 to 0.54474, saving model to nxt_word_prediction.h5\n",
            "952/952 [==============================] - 17s 18ms/step - loss: 0.5447 - accuracy: 0.8520\n",
            "Epoch 33/100\n",
            "950/952 [============================>.] - ETA: 0s - loss: 0.5229 - accuracy: 0.8577\n",
            "Epoch 33: loss improved from 0.54474 to 0.52252, saving model to nxt_word_prediction.h5\n",
            "952/952 [==============================] - 16s 17ms/step - loss: 0.5225 - accuracy: 0.8577\n",
            "Epoch 34/100\n",
            "952/952 [==============================] - ETA: 0s - loss: 0.4944 - accuracy: 0.8619\n",
            "Epoch 34: loss improved from 0.52252 to 0.49444, saving model to nxt_word_prediction.h5\n",
            "952/952 [==============================] - 16s 17ms/step - loss: 0.4944 - accuracy: 0.8619\n",
            "Epoch 35/100\n",
            "951/952 [============================>.] - ETA: 0s - loss: 0.4790 - accuracy: 0.8661\n",
            "Epoch 35: loss improved from 0.49444 to 0.47918, saving model to nxt_word_prediction.h5\n",
            "952/952 [==============================] - 17s 18ms/step - loss: 0.4792 - accuracy: 0.8661\n",
            "Epoch 36/100\n",
            "952/952 [==============================] - ETA: 0s - loss: 0.4620 - accuracy: 0.8683\n",
            "Epoch 36: loss improved from 0.47918 to 0.46196, saving model to nxt_word_prediction.h5\n",
            "952/952 [==============================] - 17s 17ms/step - loss: 0.4620 - accuracy: 0.8683\n",
            "Epoch 37/100\n",
            "949/952 [============================>.] - ETA: 0s - loss: 0.4470 - accuracy: 0.8718\n",
            "Epoch 37: loss improved from 0.46196 to 0.44747, saving model to nxt_word_prediction.h5\n",
            "952/952 [==============================] - 17s 18ms/step - loss: 0.4475 - accuracy: 0.8717\n",
            "Epoch 38/100\n",
            "952/952 [==============================] - ETA: 0s - loss: 0.4320 - accuracy: 0.8730\n",
            "Epoch 38: loss improved from 0.44747 to 0.43196, saving model to nxt_word_prediction.h5\n",
            "952/952 [==============================] - 17s 18ms/step - loss: 0.4320 - accuracy: 0.8730\n",
            "Epoch 39/100\n",
            "949/952 [============================>.] - ETA: 0s - loss: 0.4276 - accuracy: 0.8749\n",
            "Epoch 39: loss improved from 0.43196 to 0.42768, saving model to nxt_word_prediction.h5\n",
            "952/952 [==============================] - 17s 17ms/step - loss: 0.4277 - accuracy: 0.8748\n",
            "Epoch 40/100\n",
            "951/952 [============================>.] - ETA: 0s - loss: 0.4235 - accuracy: 0.8745\n",
            "Epoch 40: loss improved from 0.42768 to 0.42356, saving model to nxt_word_prediction.h5\n",
            "952/952 [==============================] - 17s 17ms/step - loss: 0.4236 - accuracy: 0.8745\n",
            "Epoch 41/100\n",
            "951/952 [============================>.] - ETA: 0s - loss: 0.3994 - accuracy: 0.8782\n",
            "Epoch 41: loss improved from 0.42356 to 0.39948, saving model to nxt_word_prediction.h5\n",
            "952/952 [==============================] - 17s 18ms/step - loss: 0.3995 - accuracy: 0.8782\n",
            "Epoch 42/100\n",
            "952/952 [==============================] - ETA: 0s - loss: 0.3916 - accuracy: 0.8787\n",
            "Epoch 42: loss improved from 0.39948 to 0.39162, saving model to nxt_word_prediction.h5\n",
            "952/952 [==============================] - 17s 18ms/step - loss: 0.3916 - accuracy: 0.8787\n",
            "Epoch 43/100\n",
            "950/952 [============================>.] - ETA: 0s - loss: 0.3858 - accuracy: 0.8795\n",
            "Epoch 43: loss improved from 0.39162 to 0.38618, saving model to nxt_word_prediction.h5\n",
            "952/952 [==============================] - 17s 18ms/step - loss: 0.3862 - accuracy: 0.8793\n",
            "Epoch 44/100\n",
            "952/952 [==============================] - ETA: 0s - loss: 0.3850 - accuracy: 0.8786\n",
            "Epoch 44: loss improved from 0.38618 to 0.38498, saving model to nxt_word_prediction.h5\n",
            "952/952 [==============================] - 17s 18ms/step - loss: 0.3850 - accuracy: 0.8786\n",
            "Epoch 45/100\n",
            "949/952 [============================>.] - ETA: 0s - loss: 0.3756 - accuracy: 0.8810\n",
            "Epoch 45: loss improved from 0.38498 to 0.37577, saving model to nxt_word_prediction.h5\n",
            "952/952 [==============================] - 17s 17ms/step - loss: 0.3758 - accuracy: 0.8809\n",
            "Epoch 46/100\n",
            "951/952 [============================>.] - ETA: 0s - loss: 0.3659 - accuracy: 0.8812\n",
            "Epoch 46: loss improved from 0.37577 to 0.36591, saving model to nxt_word_prediction.h5\n",
            "952/952 [==============================] - 17s 18ms/step - loss: 0.3659 - accuracy: 0.8812\n",
            "Epoch 47/100\n",
            "952/952 [==============================] - ETA: 0s - loss: 0.3558 - accuracy: 0.8841\n",
            "Epoch 47: loss improved from 0.36591 to 0.35580, saving model to nxt_word_prediction.h5\n",
            "952/952 [==============================] - 17s 17ms/step - loss: 0.3558 - accuracy: 0.8841\n",
            "Epoch 48/100\n",
            "950/952 [============================>.] - ETA: 0s - loss: 0.3496 - accuracy: 0.8836\n",
            "Epoch 48: loss improved from 0.35580 to 0.35017, saving model to nxt_word_prediction.h5\n",
            "952/952 [==============================] - 17s 18ms/step - loss: 0.3502 - accuracy: 0.8834\n",
            "Epoch 49/100\n",
            "952/952 [==============================] - ETA: 0s - loss: 0.3536 - accuracy: 0.8819\n",
            "Epoch 49: loss did not improve from 0.35017\n",
            "952/952 [==============================] - 16s 17ms/step - loss: 0.3536 - accuracy: 0.8819\n",
            "Epoch 50/100\n",
            "950/952 [============================>.] - ETA: 0s - loss: 0.3492 - accuracy: 0.8813\n",
            "Epoch 50: loss improved from 0.35017 to 0.34954, saving model to nxt_word_prediction.h5\n",
            "952/952 [==============================] - 17s 17ms/step - loss: 0.3495 - accuracy: 0.8812\n",
            "Epoch 51/100\n",
            "951/952 [============================>.] - ETA: 0s - loss: 0.3353 - accuracy: 0.8850\n",
            "Epoch 51: loss improved from 0.34954 to 0.33529, saving model to nxt_word_prediction.h5\n",
            "952/952 [==============================] - 17s 17ms/step - loss: 0.3353 - accuracy: 0.8850\n",
            "Epoch 52/100\n",
            "950/952 [============================>.] - ETA: 0s - loss: 0.3337 - accuracy: 0.8845\n",
            "Epoch 52: loss improved from 0.33529 to 0.33385, saving model to nxt_word_prediction.h5\n",
            "952/952 [==============================] - 17s 18ms/step - loss: 0.3338 - accuracy: 0.8844\n",
            "Epoch 53/100\n",
            "949/952 [============================>.] - ETA: 0s - loss: 0.3338 - accuracy: 0.8837\n",
            "Epoch 53: loss did not improve from 0.33385\n",
            "952/952 [==============================] - 17s 17ms/step - loss: 0.3340 - accuracy: 0.8835\n",
            "Epoch 54/100\n",
            "951/952 [============================>.] - ETA: 0s - loss: 0.3252 - accuracy: 0.8845\n",
            "Epoch 54: loss improved from 0.33385 to 0.32514, saving model to nxt_word_prediction.h5\n",
            "952/952 [==============================] - 16s 17ms/step - loss: 0.3251 - accuracy: 0.8845\n",
            "Epoch 55/100\n",
            "952/952 [==============================] - ETA: 0s - loss: 0.3226 - accuracy: 0.8848\n",
            "Epoch 55: loss improved from 0.32514 to 0.32256, saving model to nxt_word_prediction.h5\n",
            "952/952 [==============================] - 17s 18ms/step - loss: 0.3226 - accuracy: 0.8848\n",
            "Epoch 56/100\n",
            "949/952 [============================>.] - ETA: 0s - loss: 0.3142 - accuracy: 0.8859\n",
            "Epoch 56: loss improved from 0.32256 to 0.31423, saving model to nxt_word_prediction.h5\n",
            "952/952 [==============================] - 17s 18ms/step - loss: 0.3142 - accuracy: 0.8859\n",
            "Epoch 57/100\n",
            "952/952 [==============================] - ETA: 0s - loss: 0.3204 - accuracy: 0.8839\n",
            "Epoch 57: loss did not improve from 0.31423\n",
            "952/952 [==============================] - 16s 17ms/step - loss: 0.3204 - accuracy: 0.8839\n",
            "Epoch 58/100\n",
            "950/952 [============================>.] - ETA: 0s - loss: 0.3147 - accuracy: 0.8856\n",
            "Epoch 58: loss did not improve from 0.31423\n",
            "952/952 [==============================] - 16s 17ms/step - loss: 0.3147 - accuracy: 0.8856\n",
            "Epoch 59/100\n",
            "952/952 [==============================] - ETA: 0s - loss: 0.3074 - accuracy: 0.8863\n",
            "Epoch 59: loss improved from 0.31423 to 0.30736, saving model to nxt_word_prediction.h5\n",
            "952/952 [==============================] - 17s 18ms/step - loss: 0.3074 - accuracy: 0.8863\n",
            "Epoch 60/100\n",
            "951/952 [============================>.] - ETA: 0s - loss: 0.3012 - accuracy: 0.8861\n",
            "Epoch 60: loss improved from 0.30736 to 0.30114, saving model to nxt_word_prediction.h5\n",
            "952/952 [==============================] - 17s 18ms/step - loss: 0.3011 - accuracy: 0.8861\n",
            "Epoch 61/100\n",
            "950/952 [============================>.] - ETA: 0s - loss: 0.2995 - accuracy: 0.8874\n",
            "Epoch 61: loss improved from 0.30114 to 0.29949, saving model to nxt_word_prediction.h5\n",
            "952/952 [==============================] - 17s 18ms/step - loss: 0.2995 - accuracy: 0.8874\n",
            "Epoch 62/100\n",
            "949/952 [============================>.] - ETA: 0s - loss: 0.3006 - accuracy: 0.8863\n",
            "Epoch 62: loss did not improve from 0.29949\n",
            "952/952 [==============================] - 16s 17ms/step - loss: 0.3006 - accuracy: 0.8863\n",
            "Epoch 63/100\n",
            "951/952 [============================>.] - ETA: 0s - loss: 0.3056 - accuracy: 0.8850\n",
            "Epoch 63: loss did not improve from 0.29949\n",
            "952/952 [==============================] - 16s 17ms/step - loss: 0.3056 - accuracy: 0.8850\n",
            "Epoch 64/100\n",
            "950/952 [============================>.] - ETA: 0s - loss: 0.2957 - accuracy: 0.8860\n",
            "Epoch 64: loss improved from 0.29949 to 0.29574, saving model to nxt_word_prediction.h5\n",
            "952/952 [==============================] - 17s 18ms/step - loss: 0.2957 - accuracy: 0.8860\n",
            "Epoch 65/100\n",
            "950/952 [============================>.] - ETA: 0s - loss: 0.2878 - accuracy: 0.8875\n",
            "Epoch 65: loss improved from 0.29574 to 0.28770, saving model to nxt_word_prediction.h5\n",
            "952/952 [==============================] - 17s 17ms/step - loss: 0.2877 - accuracy: 0.8875\n",
            "Epoch 66/100\n",
            "949/952 [============================>.] - ETA: 0s - loss: 0.2836 - accuracy: 0.8876\n",
            "Epoch 66: loss improved from 0.28770 to 0.28383, saving model to nxt_word_prediction.h5\n",
            "952/952 [==============================] - 17s 17ms/step - loss: 0.2838 - accuracy: 0.8875\n",
            "Epoch 67/100\n",
            "950/952 [============================>.] - ETA: 0s - loss: 0.2931 - accuracy: 0.8859\n",
            "Epoch 67: loss did not improve from 0.28383\n",
            "952/952 [==============================] - 16s 17ms/step - loss: 0.2929 - accuracy: 0.8860\n",
            "Epoch 68/100\n",
            "950/952 [============================>.] - ETA: 0s - loss: 0.2905 - accuracy: 0.8853\n",
            "Epoch 68: loss did not improve from 0.28383\n",
            "952/952 [==============================] - 16s 17ms/step - loss: 0.2904 - accuracy: 0.8854\n",
            "Epoch 69/100\n",
            "951/952 [============================>.] - ETA: 0s - loss: 0.2812 - accuracy: 0.8878\n",
            "Epoch 69: loss improved from 0.28383 to 0.28116, saving model to nxt_word_prediction.h5\n",
            "952/952 [==============================] - 17s 17ms/step - loss: 0.2812 - accuracy: 0.8879\n",
            "Epoch 70/100\n",
            "949/952 [============================>.] - ETA: 0s - loss: 0.2766 - accuracy: 0.8875\n",
            "Epoch 70: loss improved from 0.28116 to 0.27640, saving model to nxt_word_prediction.h5\n",
            "952/952 [==============================] - 17s 18ms/step - loss: 0.2764 - accuracy: 0.8877\n",
            "Epoch 71/100\n",
            "951/952 [============================>.] - ETA: 0s - loss: 0.2755 - accuracy: 0.8885\n",
            "Epoch 71: loss improved from 0.27640 to 0.27553, saving model to nxt_word_prediction.h5\n",
            "952/952 [==============================] - 17s 18ms/step - loss: 0.2755 - accuracy: 0.8884\n",
            "Epoch 72/100\n",
            "950/952 [============================>.] - ETA: 0s - loss: 0.2769 - accuracy: 0.8885\n",
            "Epoch 72: loss did not improve from 0.27553\n",
            "952/952 [==============================] - 16s 17ms/step - loss: 0.2768 - accuracy: 0.8886\n",
            "Epoch 73/100\n",
            "951/952 [============================>.] - ETA: 0s - loss: 0.2788 - accuracy: 0.8862\n",
            "Epoch 73: loss did not improve from 0.27553\n",
            "952/952 [==============================] - 16s 17ms/step - loss: 0.2788 - accuracy: 0.8862\n",
            "Epoch 74/100\n",
            "951/952 [============================>.] - ETA: 0s - loss: 0.2771 - accuracy: 0.8873\n",
            "Epoch 74: loss did not improve from 0.27553\n",
            "952/952 [==============================] - 16s 17ms/step - loss: 0.2771 - accuracy: 0.8874\n",
            "Epoch 75/100\n",
            "950/952 [============================>.] - ETA: 0s - loss: 0.2654 - accuracy: 0.8890\n",
            "Epoch 75: loss improved from 0.27553 to 0.26553, saving model to nxt_word_prediction.h5\n",
            "952/952 [==============================] - 17s 17ms/step - loss: 0.2655 - accuracy: 0.8889\n",
            "Epoch 76/100\n",
            "951/952 [============================>.] - ETA: 0s - loss: 0.2680 - accuracy: 0.8884\n",
            "Epoch 76: loss did not improve from 0.26553\n",
            "952/952 [==============================] - 16s 17ms/step - loss: 0.2681 - accuracy: 0.8884\n",
            "Epoch 77/100\n",
            "949/952 [============================>.] - ETA: 0s - loss: 0.2707 - accuracy: 0.8880\n",
            "Epoch 77: loss did not improve from 0.26553\n",
            "952/952 [==============================] - 16s 17ms/step - loss: 0.2711 - accuracy: 0.8880\n",
            "Epoch 78/100\n",
            "952/952 [==============================] - ETA: 0s - loss: 0.2705 - accuracy: 0.8869\n",
            "Epoch 78: loss did not improve from 0.26553\n",
            "952/952 [==============================] - 16s 17ms/step - loss: 0.2705 - accuracy: 0.8869\n",
            "Epoch 79/100\n",
            "949/952 [============================>.] - ETA: 0s - loss: 0.2629 - accuracy: 0.8890\n",
            "Epoch 79: loss improved from 0.26553 to 0.26309, saving model to nxt_word_prediction.h5\n",
            "952/952 [==============================] - 17s 17ms/step - loss: 0.2631 - accuracy: 0.8889\n",
            "Epoch 80/100\n",
            "949/952 [============================>.] - ETA: 0s - loss: 0.2619 - accuracy: 0.8882\n",
            "Epoch 80: loss improved from 0.26309 to 0.26213, saving model to nxt_word_prediction.h5\n",
            "952/952 [==============================] - 17s 18ms/step - loss: 0.2621 - accuracy: 0.8881\n",
            "Epoch 81/100\n",
            "949/952 [============================>.] - ETA: 0s - loss: 0.2615 - accuracy: 0.8882\n",
            "Epoch 81: loss improved from 0.26213 to 0.26145, saving model to nxt_word_prediction.h5\n",
            "952/952 [==============================] - 17s 18ms/step - loss: 0.2615 - accuracy: 0.8882\n",
            "Epoch 82/100\n",
            "952/952 [==============================] - ETA: 0s - loss: 0.2629 - accuracy: 0.8881\n",
            "Epoch 82: loss did not improve from 0.26145\n",
            "952/952 [==============================] - 16s 17ms/step - loss: 0.2629 - accuracy: 0.8881\n",
            "Epoch 83/100\n",
            "951/952 [============================>.] - ETA: 0s - loss: 0.2619 - accuracy: 0.8872\n",
            "Epoch 83: loss did not improve from 0.26145\n",
            "952/952 [==============================] - 16s 17ms/step - loss: 0.2619 - accuracy: 0.8872\n",
            "Epoch 84/100\n",
            "949/952 [============================>.] - ETA: 0s - loss: 0.2586 - accuracy: 0.8885\n",
            "Epoch 84: loss improved from 0.26145 to 0.25860, saving model to nxt_word_prediction.h5\n",
            "952/952 [==============================] - 17s 17ms/step - loss: 0.2586 - accuracy: 0.8884\n",
            "Epoch 85/100\n",
            "950/952 [============================>.] - ETA: 0s - loss: 0.2495 - accuracy: 0.8898\n",
            "Epoch 85: loss improved from 0.25860 to 0.24957, saving model to nxt_word_prediction.h5\n",
            "952/952 [==============================] - 17s 18ms/step - loss: 0.2496 - accuracy: 0.8898\n",
            "Epoch 86/100\n",
            "949/952 [============================>.] - ETA: 0s - loss: 0.2516 - accuracy: 0.8898\n",
            "Epoch 86: loss did not improve from 0.24957\n",
            "952/952 [==============================] - 16s 17ms/step - loss: 0.2517 - accuracy: 0.8898\n",
            "Epoch 87/100\n",
            "951/952 [============================>.] - ETA: 0s - loss: 0.2610 - accuracy: 0.8885\n",
            "Epoch 87: loss did not improve from 0.24957\n",
            "952/952 [==============================] - 16s 17ms/step - loss: 0.2610 - accuracy: 0.8885\n",
            "Epoch 88/100\n",
            "950/952 [============================>.] - ETA: 0s - loss: 0.2625 - accuracy: 0.8867\n",
            "Epoch 88: loss did not improve from 0.24957\n",
            "952/952 [==============================] - 16s 17ms/step - loss: 0.2624 - accuracy: 0.8867\n",
            "Epoch 89/100\n",
            "952/952 [==============================] - ETA: 0s - loss: 0.2548 - accuracy: 0.8886\n",
            "Epoch 89: loss did not improve from 0.24957\n",
            "952/952 [==============================] - 16s 17ms/step - loss: 0.2548 - accuracy: 0.8886\n",
            "Epoch 90/100\n",
            "949/952 [============================>.] - ETA: 0s - loss: 0.2495 - accuracy: 0.8889\n",
            "Epoch 90: loss improved from 0.24957 to 0.24953, saving model to nxt_word_prediction.h5\n",
            "952/952 [==============================] - 17s 18ms/step - loss: 0.2495 - accuracy: 0.8889\n",
            "Epoch 91/100\n",
            "950/952 [============================>.] - ETA: 0s - loss: 0.2447 - accuracy: 0.8900\n",
            "Epoch 91: loss improved from 0.24953 to 0.24462, saving model to nxt_word_prediction.h5\n",
            "952/952 [==============================] - 17s 18ms/step - loss: 0.2446 - accuracy: 0.8901\n",
            "Epoch 92/100\n",
            "951/952 [============================>.] - ETA: 0s - loss: 0.2455 - accuracy: 0.8900\n",
            "Epoch 92: loss did not improve from 0.24462\n",
            "952/952 [==============================] - 16s 17ms/step - loss: 0.2455 - accuracy: 0.8899\n",
            "Epoch 93/100\n",
            "950/952 [============================>.] - ETA: 0s - loss: 0.2604 - accuracy: 0.8877\n",
            "Epoch 93: loss did not improve from 0.24462\n",
            "952/952 [==============================] - 16s 17ms/step - loss: 0.2603 - accuracy: 0.8877\n",
            "Epoch 94/100\n",
            "952/952 [==============================] - ETA: 0s - loss: 0.2531 - accuracy: 0.8879\n",
            "Epoch 94: loss did not improve from 0.24462\n",
            "952/952 [==============================] - 16s 17ms/step - loss: 0.2531 - accuracy: 0.8879\n",
            "Epoch 95/100\n",
            "951/952 [============================>.] - ETA: 0s - loss: 0.2481 - accuracy: 0.8888\n",
            "Epoch 95: loss did not improve from 0.24462\n",
            "952/952 [==============================] - 16s 17ms/step - loss: 0.2482 - accuracy: 0.8888\n",
            "Epoch 96/100\n",
            "949/952 [============================>.] - ETA: 0s - loss: 0.2424 - accuracy: 0.8904\n",
            "Epoch 96: loss improved from 0.24462 to 0.24238, saving model to nxt_word_prediction.h5\n",
            "952/952 [==============================] - 17s 18ms/step - loss: 0.2424 - accuracy: 0.8904\n",
            "Epoch 97/100\n",
            "952/952 [==============================] - ETA: 0s - loss: 0.2413 - accuracy: 0.8903\n",
            "Epoch 97: loss improved from 0.24238 to 0.24126, saving model to nxt_word_prediction.h5\n",
            "952/952 [==============================] - 17s 18ms/step - loss: 0.2413 - accuracy: 0.8903\n",
            "Epoch 98/100\n",
            "951/952 [============================>.] - ETA: 0s - loss: 0.2448 - accuracy: 0.8891\n",
            "Epoch 98: loss did not improve from 0.24126\n",
            "952/952 [==============================] - 16s 17ms/step - loss: 0.2447 - accuracy: 0.8891\n",
            "Epoch 99/100\n",
            "951/952 [============================>.] - ETA: 0s - loss: 0.2449 - accuracy: 0.8893\n",
            "Epoch 99: loss did not improve from 0.24126\n",
            "952/952 [==============================] - 16s 17ms/step - loss: 0.2449 - accuracy: 0.8892\n",
            "Epoch 100/100\n",
            "951/952 [============================>.] - ETA: 0s - loss: 0.2475 - accuracy: 0.8894\n",
            "Epoch 100: loss did not improve from 0.24126\n",
            "952/952 [==============================] - 16s 17ms/step - loss: 0.2475 - accuracy: 0.8894\n",
            "<keras.engine.sequential.Sequential object at 0x7f5ade8a7970>\n"
          ]
        }
      ]
    },
    {
      "cell_type": "markdown",
      "source": [
        "#plotting the model accuracy"
      ],
      "metadata": {
        "id": "9wI8kWX1Vsif"
      }
    },
    {
      "cell_type": "code",
      "source": [
        "def ploting_achivement(hstry, infrmsn_lbl):\n",
        "    p_l_t.plot(hstry.history[infrmsn_lbl])\n",
        "    p_l_t.xlabel(\"Epochs\")\n",
        "    p_l_t.ylabel(infrmsn_lbl)\n",
        "    p_l_t.show()"
      ],
      "metadata": {
        "id": "v4jmtYWjVw-L"
      },
      "execution_count": null,
      "outputs": []
    },
    {
      "cell_type": "code",
      "source": [
        "ploting_achivement(training_rcrds, 'accuracy')"
      ],
      "metadata": {
        "colab": {
          "base_uri": "https://localhost:8080/",
          "height": 449
        },
        "id": "tPr9uQWlV9sA",
        "outputId": "5ba7e875-5663-4c16-d02a-f0a74658b0dd"
      },
      "execution_count": null,
      "outputs": [
        {
          "output_type": "display_data",
          "data": {
            "text/plain": [
              "<Figure size 640x480 with 1 Axes>"
            ],
            "image/png": "[encoded data removed]"
          },
          "metadata": {}
        }
      ]
    },
    {
      "cell_type": "code",
      "source": [
        "ploting_achivement(training_rcrds, 'loss')"
      ],
      "metadata": {
        "colab": {
          "base_uri": "https://localhost:8080/",
          "height": 450
        },
        "id": "M4X4uZa8WBPC",
        "outputId": "87717cae-4153-45ea-8764-fdd19acc65e7"
      },
      "execution_count": null,
      "outputs": [
        {
          "output_type": "display_data",
          "data": {
            "text/plain": [
              "<Figure size 640x480 with 1 Axes>"
            ],
            "image/png": "[encoded data removed]"
          },
          "metadata": {}
        }
      ]
    },
    {
      "cell_type": "code",
      "source": [
        "#accuracy calculation\n",
        "lstm_loss_and_metrics = mdl_lstm.evaluate(X_input, y_output, batch_size=64)\n",
        "print(\"The accuracy of LSTM model is: \"+str(lstm_loss_and_metrics[1]))"
      ],
      "metadata": {
        "colab": {
          "base_uri": "https://localhost:8080/"
        },
        "id": "SW_RtKB1mJtG",
        "outputId": "d5babd99-5239-41f4-bbdb-e4dd40536006"
      },
      "execution_count": null,
      "outputs": [
        {
          "output_type": "stream",
          "name": "stdout",
          "text": [
            "952/952 [==============================] - 9s 8ms/step - loss: 0.1962 - accuracy: 0.9137\n",
            "The accuracy of LSTM model is: 0.9137310981750488\n"
          ]
        }
      ]
    },
    {
      "cell_type": "markdown",
      "source": [
        "#prediction"
      ],
      "metadata": {
        "id": "G2HGe15RMR9F"
      }
    },
    {
      "cell_type": "markdown",
      "source": [
        "# #loading learner, tokenizer"
      ],
      "metadata": {
        "id": "KIYnsBEeMpf0"
      }
    },
    {
      "cell_type": "code",
      "source": [
        "mdl_lstm = load_model(\"nxt_word_prediction.h5\")\n",
        "data_tknzr = pickle.load(open('token.pkl', 'rb'))"
      ],
      "metadata": {
        "id": "MLGo7g6BMtUu"
      },
      "execution_count": null,
      "outputs": []
    },
    {
      "cell_type": "markdown",
      "source": [
        "#defining function for prediction"
      ],
      "metadata": {
        "id": "v44GPaX4NSu2"
      }
    },
    {
      "cell_type": "code",
      "source": [
        "def Foretell_Succeeding_Word(lrnr_mdl, tknzr, enteredTxt):\n",
        "    sqnc = tknzr.texts_to_sequences([enteredTxt])\n",
        "    sqnc = array_calculate.array(sqnc)\n",
        "    divination = array_calculate.argmax(lrnr_mdl.predict(sqnc))\n",
        "    nxt_wrd_res =\"\"\n",
        "\n",
        "    for key, value in tknzr.word_index.items():\n",
        "        if value == divination:\n",
        "            nxt_wrd_res = key\n",
        "            break\n",
        "    print(nxt_wrd_res)\n",
        "    return nxt_wrd_res"
      ],
      "metadata": {
        "id": "IV3ZAqB4NX29"
      },
      "execution_count": null,
      "outputs": []
    },
    {
      "cell_type": "code",
      "source": [
        "def keyboard(lrnr, tknzr):\n",
        "    while(1):\n",
        "        take = input(\"Enter string:  \")\n",
        "\n",
        "        if take==\"0\":\n",
        "            print('Execution Finished...')\n",
        "            break;\n",
        "        else:\n",
        "            try:\n",
        "                take = take.split(\" \")\n",
        "                take = take[-3:]\n",
        "                print(take)\n",
        "\n",
        "                Foretell_Succeeding_Word(lrnr, tknzr, take)\n",
        "\n",
        "            except Exception as e:\n",
        "                print('Something went wrong: ', e)\n",
        "                continue"
      ],
      "metadata": {
        "id": "YlU-gknIEhnH"
      },
      "execution_count": null,
      "outputs": []
    },
    {
      "cell_type": "code",
      "source": [
        "def keyboard_test(lrnr, tknzr):\n",
        "    \n",
        "      take = \"Are you feeling\"\n",
        "      #\"In the second selection Rama is heard answering to the entreaties of Bharata, who has tried in vain to dissuade him from carrying out\"\n",
        "      #\"The epic poems of _Ramayna_ and _Mahabharata_ consist of stories and legends which form a splendid superstructure on the teachings contained in the earlier scriptures of the _Vedas_. By relating what the men and women of those times thought, said, and did, these poems illustrate in a highly instructive manner the general character and culture of the early Hindus. The stories contained in these poems, which, in fact, rival the best known epic poems of the\"\n",
        "      #\"I am a good\"\n",
        "      #\"India, whose life rolled on while the West, like the dragon fly, lived and died to\"\n",
        "\n",
        "      if take==\"0\":\n",
        "          print('Execution Finished...')\n",
        "      else:\n",
        "          try:\n",
        "              take = take.split(\" \")\n",
        "              take = take[-3:]\n",
        "              print(take)\n",
        "\n",
        "              Foretell_Succeeding_Word(lrnr, tknzr, take)\n",
        "\n",
        "          except Exception as e:\n",
        "              print('Something went wrong: ', e)"
      ],
      "metadata": {
        "id": "MN_1S2Pa1WcK"
      },
      "execution_count": null,
      "outputs": []
    },
    {
      "cell_type": "markdown",
      "source": [
        "#time efficiency measurement"
      ],
      "metadata": {
        "id": "uAclv_0dyLU7"
      }
    },
    {
      "cell_type": "code",
      "source": [
        "import time\n",
        "t1 = time.time()\n",
        "keyboard(mdl_lstm, data_tknzr)\n",
        "t2 = time.time()\n",
        "print(t2-t1)"
      ],
      "metadata": {
        "colab": {
          "base_uri": "https://localhost:8080/"
        },
        "id": "tXK5fbJVyP2-",
        "outputId": "068befa9-6de5-4bab-c929-dee4621e1e5a"
      },
      "execution_count": null,
      "outputs": [
        {
          "output_type": "stream",
          "name": "stdout",
          "text": [
            "Enter string: I am a good\n",
            "['am', 'a', 'good']\n",
            "1/1 [==============================] - 0s 27ms/step\n",
            "of\n",
            "Enter string: 0\n",
            "Execution Finished...\n",
            "7.510773420333862\n"
          ]
        }
      ]
    },
    {
      "cell_type": "markdown",
      "source": [
        "#first test"
      ],
      "metadata": {
        "id": "MWM3jgYhGRrG"
      }
    },
    {
      "cell_type": "code",
      "source": [
        "\n",
        "import time\n",
        "t1 = time.time()\n",
        "keyboard_test(mdl_lstm, data_tknzr)\n",
        "t2 = time.time()\n",
        "print(t2-t1)"
      ],
      "metadata": {
        "colab": {
          "base_uri": "https://localhost:8080/"
        },
        "id": "k4sMEeAa0-m7",
        "outputId": "f218b991-bc8f-4f29-d3dc-f15d48b304bc"
      },
      "execution_count": null,
      "outputs": [
        {
          "output_type": "stream",
          "name": "stdout",
          "text": [
            "['am', 'a', 'good']\n",
            "1/1 [==============================] - 1s 846ms/step\n",
            "of\n",
            "0.9075741767883301\n"
          ]
        }
      ]
    },
    {
      "cell_type": "markdown",
      "source": [
        "#second test"
      ],
      "metadata": {
        "id": "-1_TRSsZGVRN"
      }
    },
    {
      "cell_type": "code",
      "source": [
        "t1 = time.time()\n",
        "keyboard_test(mdl_lstm, data_tknzr)\n",
        "t2 = time.time()\n",
        "print(t2-t1)"
      ],
      "metadata": {
        "colab": {
          "base_uri": "https://localhost:8080/"
        },
        "id": "j58FSalGFFAp",
        "outputId": "fd65136b-d249-46a9-8812-e824b52ec8e8"
      },
      "execution_count": null,
      "outputs": [
        {
          "output_type": "stream",
          "name": "stdout",
          "text": [
            "['and', 'died', 'to']\n",
            "1/1 [==============================] - 0s 23ms/step\n",
            "live\n",
            "0.06631612777709961\n"
          ]
        }
      ]
    },
    {
      "cell_type": "markdown",
      "source": [
        "#third test"
      ],
      "metadata": {
        "id": "123Vx-qNGZg_"
      }
    },
    {
      "cell_type": "code",
      "source": [
        "t1 = time.time()\n",
        "keyboard_test(mdl_lstm, data_tknzr)\n",
        "t2 = time.time()\n",
        "print(t2-t1)"
      ],
      "metadata": {
        "colab": {
          "base_uri": "https://localhost:8080/"
        },
        "id": "TvN6C1gJGBaC",
        "outputId": "43d5ff4d-2a6b-44aa-be5f-434432a1fc67"
      },
      "execution_count": null,
      "outputs": [
        {
          "output_type": "stream",
          "name": "stdout",
          "text": [
            "['poems', 'of', 'the']\n",
            "1/1 [==============================] - 0s 23ms/step\n",
            "world\n",
            "0.07481837272644043\n"
          ]
        }
      ]
    },
    {
      "cell_type": "markdown",
      "source": [
        "#fourth test"
      ],
      "metadata": {
        "id": "KCqVs81pHt-1"
      }
    },
    {
      "cell_type": "code",
      "source": [
        "t1 = time.time()\n",
        "keyboard_test(mdl_lstm, data_tknzr)\n",
        "t2 = time.time()\n",
        "print(t2-t1)"
      ],
      "metadata": {
        "colab": {
          "base_uri": "https://localhost:8080/"
        },
        "id": "es_h3oXMHxqp",
        "outputId": "2e7d9553-f7f6-494d-e63a-4531cb1f6a00"
      },
      "execution_count": null,
      "outputs": [
        {
          "output_type": "stream",
          "name": "stdout",
          "text": [
            "['from', 'carrying', 'out']\n",
            "1/1 [==============================] - 0s 21ms/step\n",
            "his\n",
            "0.06366515159606934\n"
          ]
        }
      ]
    },
    {
      "cell_type": "code",
      "source": [
        "t1 = time.time()\n",
        "keyboard_test(mdl_lstm, data_tknzr)\n",
        "t2 = time.time()\n",
        "print(t2-t1)"
      ],
      "metadata": {
        "colab": {
          "base_uri": "https://localhost:8080/"
        },
        "id": "LMQeJqJsH7Om",
        "outputId": "6e57c1c1-78c9-4456-a4cf-a548e66425ee"
      },
      "execution_count": null,
      "outputs": [
        {
          "output_type": "stream",
          "name": "stdout",
          "text": [
            "['Are', 'you', 'feeling']\n",
            "1/1 [==============================] - 0s 22ms/step\n",
            "and\n",
            "0.06611323356628418\n"
          ]
        }
      ]
    },
    {
      "cell_type": "code",
      "source": [
        "keyboard(mdl_lstm, data_tknzr)"
      ],
      "metadata": {
        "colab": {
          "base_uri": "https://localhost:8080/"
        },
        "id": "2Pe_sno7FVPk",
        "outputId": "36c37ca4-2f3b-4035-8b12-6bdf2745a14e"
      },
      "execution_count": null,
      "outputs": [
        {
          "output_type": "stream",
          "name": "stdout",
          "text": [
            "Enter string: The Project Gutenberg eBook\n",
            "['Project', 'Gutenberg', 'eBook']\n",
            "my\n",
            "Enter string: This eBook is for the use\n",
            "['for', 'the', 'use']\n",
            "of\n",
            "Enter string: I am a good\n",
            "['am', 'a', 'good']\n",
            "man\n",
            "Enter string: I am not going\n",
            "['am', 'not', 'going']\n",
            "we\n",
            "Enter string: the country where you are located\n",
            "['you', 'are', 'located']\n",
            "also\n",
            "Enter string: when this brave and virtuous\n",
            "['brave', 'and', 'virtuous']\n",
            "man\n",
            "Enter string: The law-givers of India, taking their lessons from the\n",
            "['lessons', 'from', 'the']\n",
            "vedas\n",
            "Enter string: I am with\n",
            "['I', 'am', 'with']\n",
            "their\n",
            "Enter string: You are a good\n",
            "['are', 'a', 'good']\n",
            "general\n",
            "Enter string: The name of Rani Jhansi\n",
            "['of', 'Rani', 'Jhansi']\n",
            "would\n",
            "Enter string: 0\n",
            "Execution Finished...\n"
          ]
        }
      ]
    },
    {
      "cell_type": "markdown",
      "source": [
        "#creating biLSTM to compare the accuracy and finding a better approach"
      ],
      "metadata": {
        "id": "0toQ2rt1aJrF"
      }
    },
    {
      "cell_type": "markdown",
      "source": [
        "#Bi-LSTM neural network creation and training"
      ],
      "metadata": {
        "id": "xTkYCFpCbc-1"
      }
    },
    {
      "cell_type": "code",
      "source": [
        "#vocab_size, 10, input_length=3\n",
        "\n",
        "mdl_bilstm = Sequential()\n",
        "mdl_bilstm.add(Embedding(vocabulary_length, 10, input_length=3))\n",
        "mdl_bilstm.add(Bidirectional(LSTM(1000, return_sequences=True)))\n",
        "mdl_bilstm.add(Dropout(0.5))\n",
        "mdl_bilstm.add(Bidirectional(LSTM(1000)))\n",
        "mdl_bilstm.add(Dense(1000, activation=\"relu\"))\n",
        "mdl_bilstm.add(Dense(vocabulary_length, activation='softmax'))"
      ],
      "metadata": {
        "id": "21zsCV0JbkDC"
      },
      "execution_count": null,
      "outputs": []
    },
    {
      "cell_type": "code",
      "source": [
        "mdl_bilstm.summary()"
      ],
      "metadata": {
        "colab": {
          "base_uri": "https://localhost:8080/"
        },
        "id": "xLLBjmxhpUKV",
        "outputId": "d0ddc08f-7eda-4589-f8e2-8320a7985973"
      },
      "execution_count": null,
      "outputs": [
        {
          "output_type": "stream",
          "name": "stdout",
          "text": [
            "Model: \"sequential_1\"\n",
            "_________________________________________________________________\n",
            " Layer (type)                Output Shape              Param #   \n",
            "=================================================================\n",
            " embedding_1 (Embedding)     (None, 3, 10)             76490     \n",
            "                                                                 \n",
            " bidirectional (Bidirectiona  (None, 3, 2000)          8088000   \n",
            " l)                                                              \n",
            "                                                                 \n",
            " dropout (Dropout)           (None, 3, 2000)           0         \n",
            "                                                                 \n",
            " bidirectional_1 (Bidirectio  (None, 2000)             24008000  \n",
            " nal)                                                            \n",
            "                                                                 \n",
            " dense_2 (Dense)             (None, 1000)              2001000   \n",
            "                                                                 \n",
            " dense_3 (Dense)             (None, 7649)              7656649   \n",
            "                                                                 \n",
            "=================================================================\n",
            "Total params: 41,830,139\n",
            "Trainable params: 41,830,139\n",
            "Non-trainable params: 0\n",
            "_________________________________________________________________\n"
          ]
        }
      ]
    },
    {
      "cell_type": "code",
      "source": [
        "keras.utils.plot_model(mdl_bilstm, to_file= 'plot_bilstm_lrnr.png', show_layer_names=True)"
      ],
      "metadata": {
        "colab": {
          "base_uri": "https://localhost:8080/",
          "height": 661
        },
        "id": "3wJh12OPpiCn",
        "outputId": "0ed988a3-4239-4473-93a0-b276b4f72470"
      },
      "execution_count": null,
      "outputs": [
        {
          "output_type": "execute_result",
          "data": {
            "image/png": "[encoded data removed]",
            "text/plain": [
              "<IPython.core.display.Image object>"
            ]
          },
          "metadata": {},
          "execution_count": 33
        }
      ]
    },
    {
      "cell_type": "code",
      "source": [
        "chckpnt_bilstm = ModelCheckpoint(\"next_word_prediction_by_bilstm.h5\", monitor=\"loss\", verbose=1, save_best_only=True)\n",
        "mdl_bilstm.compile(loss=\"categorical_crossentropy\", optimizer=Adam(learning_rate=0.001), metrics=['accuracy'])\n",
        "training_hstry_bilstm = mdl_bilstm.fit(X_input, y_output, epochs=100, batch_size=64, callbacks=[chckpnt_bilstm])\n",
        "print(mdl_bilstm)"
      ],
      "metadata": {
        "colab": {
          "base_uri": "https://localhost:8080/"
        },
        "id": "nKRTXL4Jnksa",
        "outputId": "9ccc8748-8257-433f-adf3-c03cd7c15a08"
      },
      "execution_count": null,
      "outputs": [
        {
          "output_type": "stream",
          "name": "stdout",
          "text": [
            "Epoch 1/100\n",
            "951/952 [============================>.] - ETA: 0s - loss: 6.6664 - accuracy: 0.1057\n",
            "Epoch 1: loss improved from inf to 6.66594, saving model to next_word_prediction_by_bilstm.h5\n",
            "952/952 [==============================] - 40s 36ms/step - loss: 6.6659 - accuracy: 0.1058\n",
            "Epoch 2/100\n",
            "952/952 [==============================] - ETA: 0s - loss: 6.1156 - accuracy: 0.1341\n",
            "Epoch 2: loss improved from 6.66594 to 6.11559, saving model to next_word_prediction_by_bilstm.h5\n",
            "952/952 [==============================] - 34s 36ms/step - loss: 6.1156 - accuracy: 0.1341\n",
            "Epoch 3/100\n",
            "952/952 [==============================] - ETA: 0s - loss: 5.7831 - accuracy: 0.1541\n",
            "Epoch 3: loss improved from 6.11559 to 5.78314, saving model to next_word_prediction_by_bilstm.h5\n",
            "952/952 [==============================] - 34s 36ms/step - loss: 5.7831 - accuracy: 0.1541\n",
            "Epoch 4/100\n",
            "951/952 [============================>.] - ETA: 0s - loss: 5.4806 - accuracy: 0.1677\n",
            "Epoch 4: loss improved from 5.78314 to 5.48061, saving model to next_word_prediction_by_bilstm.h5\n",
            "952/952 [==============================] - 34s 36ms/step - loss: 5.4806 - accuracy: 0.1676\n",
            "Epoch 5/100\n",
            "952/952 [==============================] - ETA: 0s - loss: 5.2032 - accuracy: 0.1798\n",
            "Epoch 5: loss improved from 5.48061 to 5.20324, saving model to next_word_prediction_by_bilstm.h5\n",
            "952/952 [==============================] - 35s 36ms/step - loss: 5.2032 - accuracy: 0.1798\n",
            "Epoch 6/100\n",
            "951/952 [============================>.] - ETA: 0s - loss: 4.9316 - accuracy: 0.1896\n",
            "Epoch 6: loss improved from 5.20324 to 4.93164, saving model to next_word_prediction_by_bilstm.h5\n",
            "952/952 [==============================] - 34s 36ms/step - loss: 4.9316 - accuracy: 0.1895\n",
            "Epoch 7/100\n",
            "951/952 [============================>.] - ETA: 0s - loss: 4.6699 - accuracy: 0.1991\n",
            "Epoch 7: loss improved from 4.93164 to 4.66998, saving model to next_word_prediction_by_bilstm.h5\n",
            "952/952 [==============================] - 34s 36ms/step - loss: 4.6700 - accuracy: 0.1991\n",
            "Epoch 8/100\n",
            "951/952 [============================>.] - ETA: 0s - loss: 4.3982 - accuracy: 0.2127\n",
            "Epoch 8: loss improved from 4.66998 to 4.39842, saving model to next_word_prediction_by_bilstm.h5\n",
            "952/952 [==============================] - 34s 36ms/step - loss: 4.3984 - accuracy: 0.2126\n",
            "Epoch 9/100\n",
            "952/952 [==============================] - ETA: 0s - loss: 4.1186 - accuracy: 0.2266\n",
            "Epoch 9: loss improved from 4.39842 to 4.11865, saving model to next_word_prediction_by_bilstm.h5\n",
            "952/952 [==============================] - 34s 36ms/step - loss: 4.1186 - accuracy: 0.2266\n",
            "Epoch 10/100\n",
            "951/952 [============================>.] - ETA: 0s - loss: 3.8396 - accuracy: 0.2465\n",
            "Epoch 10: loss improved from 4.11865 to 3.83969, saving model to next_word_prediction_by_bilstm.h5\n",
            "952/952 [==============================] - 34s 36ms/step - loss: 3.8397 - accuracy: 0.2465\n",
            "Epoch 11/100\n",
            "951/952 [============================>.] - ETA: 0s - loss: 3.5729 - accuracy: 0.2758\n",
            "Epoch 11: loss improved from 3.83969 to 3.57317, saving model to next_word_prediction_by_bilstm.h5\n",
            "952/952 [==============================] - 35s 36ms/step - loss: 3.5732 - accuracy: 0.2757\n",
            "Epoch 12/100\n",
            "951/952 [============================>.] - ETA: 0s - loss: 3.3231 - accuracy: 0.3053\n",
            "Epoch 12: loss improved from 3.57317 to 3.32315, saving model to next_word_prediction_by_bilstm.h5\n",
            "952/952 [==============================] - 34s 36ms/step - loss: 3.3232 - accuracy: 0.3053\n",
            "Epoch 13/100\n",
            "951/952 [============================>.] - ETA: 0s - loss: 3.0927 - accuracy: 0.3340\n",
            "Epoch 13: loss improved from 3.32315 to 3.09287, saving model to next_word_prediction_by_bilstm.h5\n",
            "952/952 [==============================] - 34s 36ms/step - loss: 3.0929 - accuracy: 0.3340\n",
            "Epoch 14/100\n",
            "951/952 [============================>.] - ETA: 0s - loss: 2.8700 - accuracy: 0.3648\n",
            "Epoch 14: loss improved from 3.09287 to 2.86996, saving model to next_word_prediction_by_bilstm.h5\n",
            "952/952 [==============================] - 34s 36ms/step - loss: 2.8700 - accuracy: 0.3648\n",
            "Epoch 15/100\n",
            "951/952 [============================>.] - ETA: 0s - loss: 2.6614 - accuracy: 0.3972\n",
            "Epoch 15: loss improved from 2.86996 to 2.66170, saving model to next_word_prediction_by_bilstm.h5\n",
            "952/952 [==============================] - 34s 36ms/step - loss: 2.6617 - accuracy: 0.3972\n",
            "Epoch 16/100\n",
            "951/952 [============================>.] - ETA: 0s - loss: 2.4567 - accuracy: 0.4292\n",
            "Epoch 16: loss improved from 2.66170 to 2.45675, saving model to next_word_prediction_by_bilstm.h5\n",
            "952/952 [==============================] - 34s 36ms/step - loss: 2.4568 - accuracy: 0.4292\n",
            "Epoch 17/100\n",
            "951/952 [============================>.] - ETA: 0s - loss: 2.2503 - accuracy: 0.4636\n",
            "Epoch 17: loss improved from 2.45675 to 2.25040, saving model to next_word_prediction_by_bilstm.h5\n",
            "952/952 [==============================] - 34s 36ms/step - loss: 2.2504 - accuracy: 0.4636\n",
            "Epoch 18/100\n",
            "951/952 [============================>.] - ETA: 0s - loss: 2.0440 - accuracy: 0.5071\n",
            "Epoch 18: loss improved from 2.25040 to 2.04406, saving model to next_word_prediction_by_bilstm.h5\n",
            "952/952 [==============================] - 34s 36ms/step - loss: 2.0441 - accuracy: 0.5071\n",
            "Epoch 19/100\n",
            "951/952 [============================>.] - ETA: 0s - loss: 1.8512 - accuracy: 0.5440\n",
            "Epoch 19: loss improved from 2.04406 to 1.85130, saving model to next_word_prediction_by_bilstm.h5\n",
            "952/952 [==============================] - 34s 36ms/step - loss: 1.8513 - accuracy: 0.5440\n",
            "Epoch 20/100\n",
            "951/952 [============================>.] - ETA: 0s - loss: 1.6643 - accuracy: 0.5804\n",
            "Epoch 20: loss improved from 1.85130 to 1.66441, saving model to next_word_prediction_by_bilstm.h5\n",
            "952/952 [==============================] - 34s 36ms/step - loss: 1.6644 - accuracy: 0.5803\n",
            "Epoch 21/100\n",
            "951/952 [============================>.] - ETA: 0s - loss: 1.4870 - accuracy: 0.6201\n",
            "Epoch 21: loss improved from 1.66441 to 1.48748, saving model to next_word_prediction_by_bilstm.h5\n",
            "952/952 [==============================] - 34s 36ms/step - loss: 1.4875 - accuracy: 0.6200\n",
            "Epoch 22/100\n",
            "951/952 [============================>.] - ETA: 0s - loss: 1.3245 - accuracy: 0.6573\n",
            "Epoch 22: loss improved from 1.48748 to 1.32471, saving model to next_word_prediction_by_bilstm.h5\n",
            "952/952 [==============================] - 34s 36ms/step - loss: 1.3247 - accuracy: 0.6572\n",
            "Epoch 23/100\n",
            "951/952 [============================>.] - ETA: 0s - loss: 1.1855 - accuracy: 0.6908\n",
            "Epoch 23: loss improved from 1.32471 to 1.18558, saving model to next_word_prediction_by_bilstm.h5\n",
            "952/952 [==============================] - 34s 36ms/step - loss: 1.1856 - accuracy: 0.6907\n",
            "Epoch 24/100\n",
            "951/952 [============================>.] - ETA: 0s - loss: 1.0459 - accuracy: 0.7252\n",
            "Epoch 24: loss improved from 1.18558 to 1.04615, saving model to next_word_prediction_by_bilstm.h5\n",
            "952/952 [==============================] - 34s 36ms/step - loss: 1.0461 - accuracy: 0.7251\n",
            "Epoch 25/100\n",
            "951/952 [============================>.] - ETA: 0s - loss: 0.9417 - accuracy: 0.7506\n",
            "Epoch 25: loss improved from 1.04615 to 0.94169, saving model to next_word_prediction_by_bilstm.h5\n",
            "952/952 [==============================] - 34s 36ms/step - loss: 0.9417 - accuracy: 0.7506\n",
            "Epoch 26/100\n",
            "951/952 [============================>.] - ETA: 0s - loss: 0.8569 - accuracy: 0.7693\n",
            "Epoch 26: loss improved from 0.94169 to 0.85729, saving model to next_word_prediction_by_bilstm.h5\n",
            "952/952 [==============================] - 34s 36ms/step - loss: 0.8573 - accuracy: 0.7692\n",
            "Epoch 27/100\n",
            "951/952 [============================>.] - ETA: 0s - loss: 0.7791 - accuracy: 0.7917\n",
            "Epoch 27: loss improved from 0.85729 to 0.77899, saving model to next_word_prediction_by_bilstm.h5\n",
            "952/952 [==============================] - 34s 36ms/step - loss: 0.7790 - accuracy: 0.7917\n",
            "Epoch 28/100\n",
            "951/952 [============================>.] - ETA: 0s - loss: 0.7135 - accuracy: 0.8075\n",
            "Epoch 28: loss improved from 0.77899 to 0.71362, saving model to next_word_prediction_by_bilstm.h5\n",
            "952/952 [==============================] - 34s 36ms/step - loss: 0.7136 - accuracy: 0.8075\n",
            "Epoch 29/100\n",
            "951/952 [============================>.] - ETA: 0s - loss: 0.6591 - accuracy: 0.8226\n",
            "Epoch 29: loss improved from 0.71362 to 0.65930, saving model to next_word_prediction_by_bilstm.h5\n",
            "952/952 [==============================] - 34s 36ms/step - loss: 0.6593 - accuracy: 0.8225\n",
            "Epoch 30/100\n",
            "951/952 [============================>.] - ETA: 0s - loss: 0.6225 - accuracy: 0.8304\n",
            "Epoch 30: loss improved from 0.65930 to 0.62243, saving model to next_word_prediction_by_bilstm.h5\n",
            "952/952 [==============================] - 34s 36ms/step - loss: 0.6224 - accuracy: 0.8304\n",
            "Epoch 31/100\n",
            "951/952 [============================>.] - ETA: 0s - loss: 0.5918 - accuracy: 0.8375\n",
            "Epoch 31: loss improved from 0.62243 to 0.59163, saving model to next_word_prediction_by_bilstm.h5\n",
            "952/952 [==============================] - 34s 36ms/step - loss: 0.5916 - accuracy: 0.8375\n",
            "Epoch 32/100\n",
            "951/952 [============================>.] - ETA: 0s - loss: 0.5641 - accuracy: 0.8434\n",
            "Epoch 32: loss improved from 0.59163 to 0.56424, saving model to next_word_prediction_by_bilstm.h5\n",
            "952/952 [==============================] - 34s 36ms/step - loss: 0.5642 - accuracy: 0.8433\n",
            "Epoch 33/100\n",
            "951/952 [============================>.] - ETA: 0s - loss: 0.5386 - accuracy: 0.8505\n",
            "Epoch 33: loss improved from 0.56424 to 0.53857, saving model to next_word_prediction_by_bilstm.h5\n",
            "952/952 [==============================] - 34s 35ms/step - loss: 0.5386 - accuracy: 0.8505\n",
            "Epoch 34/100\n",
            "951/952 [============================>.] - ETA: 0s - loss: 0.5142 - accuracy: 0.8563\n",
            "Epoch 34: loss improved from 0.53857 to 0.51429, saving model to next_word_prediction_by_bilstm.h5\n",
            "952/952 [==============================] - 34s 36ms/step - loss: 0.5143 - accuracy: 0.8563\n",
            "Epoch 35/100\n",
            "951/952 [============================>.] - ETA: 0s - loss: 0.5074 - accuracy: 0.8550\n",
            "Epoch 35: loss improved from 0.51429 to 0.50745, saving model to next_word_prediction_by_bilstm.h5\n",
            "952/952 [==============================] - 34s 36ms/step - loss: 0.5075 - accuracy: 0.8550\n",
            "Epoch 36/100\n",
            "951/952 [============================>.] - ETA: 0s - loss: 0.4815 - accuracy: 0.8608\n",
            "Epoch 36: loss improved from 0.50745 to 0.48160, saving model to next_word_prediction_by_bilstm.h5\n",
            "952/952 [==============================] - 34s 36ms/step - loss: 0.4816 - accuracy: 0.8608\n",
            "Epoch 37/100\n",
            "951/952 [============================>.] - ETA: 0s - loss: 0.4631 - accuracy: 0.8658\n",
            "Epoch 37: loss improved from 0.48160 to 0.46353, saving model to next_word_prediction_by_bilstm.h5\n",
            "952/952 [==============================] - 34s 36ms/step - loss: 0.4635 - accuracy: 0.8657\n",
            "Epoch 38/100\n",
            "951/952 [============================>.] - ETA: 0s - loss: 0.4557 - accuracy: 0.8668\n",
            "Epoch 38: loss improved from 0.46353 to 0.45570, saving model to next_word_prediction_by_bilstm.h5\n",
            "952/952 [==============================] - 34s 36ms/step - loss: 0.4557 - accuracy: 0.8668\n",
            "Epoch 39/100\n",
            "951/952 [============================>.] - ETA: 0s - loss: 0.4491 - accuracy: 0.8661\n",
            "Epoch 39: loss improved from 0.45570 to 0.44912, saving model to next_word_prediction_by_bilstm.h5\n",
            "952/952 [==============================] - 34s 36ms/step - loss: 0.4491 - accuracy: 0.8661\n",
            "Epoch 40/100\n",
            "951/952 [============================>.] - ETA: 0s - loss: 0.4380 - accuracy: 0.8686\n",
            "Epoch 40: loss improved from 0.44912 to 0.43791, saving model to next_word_prediction_by_bilstm.h5\n",
            "952/952 [==============================] - 34s 36ms/step - loss: 0.4379 - accuracy: 0.8686\n",
            "Epoch 41/100\n",
            "951/952 [============================>.] - ETA: 0s - loss: 0.4248 - accuracy: 0.8713\n",
            "Epoch 41: loss improved from 0.43791 to 0.42471, saving model to next_word_prediction_by_bilstm.h5\n",
            "952/952 [==============================] - 34s 36ms/step - loss: 0.4247 - accuracy: 0.8714\n",
            "Epoch 42/100\n",
            "951/952 [============================>.] - ETA: 0s - loss: 0.4203 - accuracy: 0.8714\n",
            "Epoch 42: loss improved from 0.42471 to 0.42053, saving model to next_word_prediction_by_bilstm.h5\n",
            "952/952 [==============================] - 34s 36ms/step - loss: 0.4205 - accuracy: 0.8714\n",
            "Epoch 43/100\n",
            "951/952 [============================>.] - ETA: 0s - loss: 0.4126 - accuracy: 0.8716\n",
            "Epoch 43: loss improved from 0.42053 to 0.41245, saving model to next_word_prediction_by_bilstm.h5\n",
            "952/952 [==============================] - 34s 35ms/step - loss: 0.4125 - accuracy: 0.8716\n",
            "Epoch 44/100\n",
            "951/952 [============================>.] - ETA: 0s - loss: 0.3994 - accuracy: 0.8741\n",
            "Epoch 44: loss improved from 0.41245 to 0.39938, saving model to next_word_prediction_by_bilstm.h5\n",
            "952/952 [==============================] - 34s 36ms/step - loss: 0.3994 - accuracy: 0.8741\n",
            "Epoch 45/100\n",
            "951/952 [============================>.] - ETA: 0s - loss: 0.3906 - accuracy: 0.8755\n",
            "Epoch 45: loss improved from 0.39938 to 0.39069, saving model to next_word_prediction_by_bilstm.h5\n",
            "952/952 [==============================] - 34s 36ms/step - loss: 0.3907 - accuracy: 0.8755\n",
            "Epoch 46/100\n",
            "951/952 [============================>.] - ETA: 0s - loss: 0.3942 - accuracy: 0.8726\n",
            "Epoch 46: loss did not improve from 0.39069\n",
            "952/952 [==============================] - 32s 34ms/step - loss: 0.3945 - accuracy: 0.8725\n",
            "Epoch 47/100\n",
            "951/952 [============================>.] - ETA: 0s - loss: 0.3835 - accuracy: 0.8762\n",
            "Epoch 47: loss improved from 0.39069 to 0.38353, saving model to next_word_prediction_by_bilstm.h5\n",
            "952/952 [==============================] - 34s 36ms/step - loss: 0.3835 - accuracy: 0.8762\n",
            "Epoch 48/100\n",
            "951/952 [============================>.] - ETA: 0s - loss: 0.3730 - accuracy: 0.8774\n",
            "Epoch 48: loss improved from 0.38353 to 0.37322, saving model to next_word_prediction_by_bilstm.h5\n",
            "952/952 [==============================] - 34s 36ms/step - loss: 0.3732 - accuracy: 0.8774\n",
            "Epoch 49/100\n",
            "952/952 [==============================] - ETA: 0s - loss: 0.3679 - accuracy: 0.8777\n",
            "Epoch 49: loss improved from 0.37322 to 0.36789, saving model to next_word_prediction_by_bilstm.h5\n",
            "952/952 [==============================] - 34s 36ms/step - loss: 0.3679 - accuracy: 0.8777\n",
            "Epoch 50/100\n",
            "951/952 [============================>.] - ETA: 0s - loss: 0.3684 - accuracy: 0.8769\n",
            "Epoch 50: loss did not improve from 0.36789\n",
            "952/952 [==============================] - 33s 34ms/step - loss: 0.3684 - accuracy: 0.8769\n",
            "Epoch 51/100\n",
            "951/952 [============================>.] - ETA: 0s - loss: 0.3635 - accuracy: 0.8775\n",
            "Epoch 51: loss improved from 0.36789 to 0.36350, saving model to next_word_prediction_by_bilstm.h5\n",
            "952/952 [==============================] - 34s 36ms/step - loss: 0.3635 - accuracy: 0.8776\n",
            "Epoch 52/100\n",
            "952/952 [==============================] - ETA: 0s - loss: 0.3520 - accuracy: 0.8796\n",
            "Epoch 52: loss improved from 0.36350 to 0.35199, saving model to next_word_prediction_by_bilstm.h5\n",
            "952/952 [==============================] - 35s 36ms/step - loss: 0.3520 - accuracy: 0.8796\n",
            "Epoch 53/100\n",
            "951/952 [============================>.] - ETA: 0s - loss: 0.3533 - accuracy: 0.8797\n",
            "Epoch 53: loss did not improve from 0.35199\n",
            "952/952 [==============================] - 33s 34ms/step - loss: 0.3533 - accuracy: 0.8797\n",
            "Epoch 54/100\n",
            "951/952 [============================>.] - ETA: 0s - loss: 0.3512 - accuracy: 0.8799\n",
            "Epoch 54: loss improved from 0.35199 to 0.35116, saving model to next_word_prediction_by_bilstm.h5\n",
            "952/952 [==============================] - 34s 36ms/step - loss: 0.3512 - accuracy: 0.8799\n",
            "Epoch 55/100\n",
            "951/952 [============================>.] - ETA: 0s - loss: 0.3434 - accuracy: 0.8798\n",
            "Epoch 55: loss improved from 0.35116 to 0.34343, saving model to next_word_prediction_by_bilstm.h5\n",
            "952/952 [==============================] - 35s 36ms/step - loss: 0.3434 - accuracy: 0.8798\n",
            "Epoch 56/100\n",
            "951/952 [============================>.] - ETA: 0s - loss: 0.3337 - accuracy: 0.8813\n",
            "Epoch 56: loss improved from 0.34343 to 0.33385, saving model to next_word_prediction_by_bilstm.h5\n",
            "952/952 [==============================] - 35s 36ms/step - loss: 0.3339 - accuracy: 0.8812\n",
            "Epoch 57/100\n",
            "951/952 [============================>.] - ETA: 0s - loss: 0.3374 - accuracy: 0.8809\n",
            "Epoch 57: loss did not improve from 0.33385\n",
            "952/952 [==============================] - 33s 34ms/step - loss: 0.3376 - accuracy: 0.8809\n",
            "Epoch 58/100\n",
            "951/952 [============================>.] - ETA: 0s - loss: 0.3363 - accuracy: 0.8805\n",
            "Epoch 58: loss did not improve from 0.33385\n",
            "952/952 [==============================] - 33s 34ms/step - loss: 0.3363 - accuracy: 0.8805\n",
            "Epoch 59/100\n",
            "951/952 [============================>.] - ETA: 0s - loss: 0.3300 - accuracy: 0.8800\n",
            "Epoch 59: loss improved from 0.33385 to 0.32995, saving model to next_word_prediction_by_bilstm.h5\n",
            "952/952 [==============================] - 34s 36ms/step - loss: 0.3299 - accuracy: 0.8801\n",
            "Epoch 60/100\n",
            "951/952 [============================>.] - ETA: 0s - loss: 0.3311 - accuracy: 0.8804\n",
            "Epoch 60: loss did not improve from 0.32995\n",
            "952/952 [==============================] - 33s 34ms/step - loss: 0.3311 - accuracy: 0.8804\n",
            "Epoch 61/100\n",
            "951/952 [============================>.] - ETA: 0s - loss: 0.3213 - accuracy: 0.8821\n",
            "Epoch 61: loss improved from 0.32995 to 0.32123, saving model to next_word_prediction_by_bilstm.h5\n",
            "952/952 [==============================] - 35s 36ms/step - loss: 0.3212 - accuracy: 0.8822\n",
            "Epoch 62/100\n",
            "952/952 [==============================] - ETA: 0s - loss: 0.3176 - accuracy: 0.8825\n",
            "Epoch 62: loss improved from 0.32123 to 0.31760, saving model to next_word_prediction_by_bilstm.h5\n",
            "952/952 [==============================] - 35s 37ms/step - loss: 0.3176 - accuracy: 0.8825\n",
            "Epoch 63/100\n",
            "951/952 [============================>.] - ETA: 0s - loss: 0.3197 - accuracy: 0.8822\n",
            "Epoch 63: loss did not improve from 0.31760\n",
            "952/952 [==============================] - 33s 35ms/step - loss: 0.3198 - accuracy: 0.8822\n",
            "Epoch 64/100\n",
            "951/952 [============================>.] - ETA: 0s - loss: 0.3130 - accuracy: 0.8829\n",
            "Epoch 64: loss improved from 0.31760 to 0.31301, saving model to next_word_prediction_by_bilstm.h5\n",
            "952/952 [==============================] - 35s 37ms/step - loss: 0.3130 - accuracy: 0.8829\n",
            "Epoch 65/100\n",
            "951/952 [============================>.] - ETA: 0s - loss: 0.3109 - accuracy: 0.8839\n",
            "Epoch 65: loss improved from 0.31301 to 0.31089, saving model to next_word_prediction_by_bilstm.h5\n",
            "952/952 [==============================] - 35s 37ms/step - loss: 0.3109 - accuracy: 0.8839\n",
            "Epoch 66/100\n",
            "952/952 [==============================] - ETA: 0s - loss: 0.3046 - accuracy: 0.8836\n",
            "Epoch 66: loss improved from 0.31089 to 0.30462, saving model to next_word_prediction_by_bilstm.h5\n",
            "952/952 [==============================] - 35s 37ms/step - loss: 0.3046 - accuracy: 0.8836\n",
            "Epoch 67/100\n",
            "951/952 [============================>.] - ETA: 0s - loss: 0.3085 - accuracy: 0.8832\n",
            "Epoch 67: loss did not improve from 0.30462\n",
            "952/952 [==============================] - 33s 35ms/step - loss: 0.3085 - accuracy: 0.8832\n",
            "Epoch 68/100\n",
            "951/952 [============================>.] - ETA: 0s - loss: 0.3080 - accuracy: 0.8825\n",
            "Epoch 68: loss did not improve from 0.30462\n",
            "952/952 [==============================] - 33s 35ms/step - loss: 0.3080 - accuracy: 0.8825\n",
            "Epoch 69/100\n",
            "951/952 [============================>.] - ETA: 0s - loss: 0.3009 - accuracy: 0.8834\n",
            "Epoch 69: loss improved from 0.30462 to 0.30073, saving model to next_word_prediction_by_bilstm.h5\n",
            "952/952 [==============================] - 35s 37ms/step - loss: 0.3007 - accuracy: 0.8835\n",
            "Epoch 70/100\n",
            "951/952 [============================>.] - ETA: 0s - loss: 0.3044 - accuracy: 0.8828\n",
            "Epoch 70: loss did not improve from 0.30073\n",
            "952/952 [==============================] - 33s 34ms/step - loss: 0.3046 - accuracy: 0.8827\n",
            "Epoch 71/100\n",
            "951/952 [============================>.] - ETA: 0s - loss: 0.3003 - accuracy: 0.8830\n",
            "Epoch 71: loss improved from 0.30073 to 0.30039, saving model to next_word_prediction_by_bilstm.h5\n",
            "952/952 [==============================] - 35s 36ms/step - loss: 0.3004 - accuracy: 0.8830\n",
            "Epoch 72/100\n",
            "951/952 [============================>.] - ETA: 0s - loss: 0.2931 - accuracy: 0.8844\n",
            "Epoch 72: loss improved from 0.30039 to 0.29329, saving model to next_word_prediction_by_bilstm.h5\n",
            "952/952 [==============================] - 35s 37ms/step - loss: 0.2933 - accuracy: 0.8843\n",
            "Epoch 73/100\n",
            "951/952 [============================>.] - ETA: 0s - loss: 0.2943 - accuracy: 0.8828\n",
            "Epoch 73: loss did not improve from 0.29329\n",
            "952/952 [==============================] - 33s 35ms/step - loss: 0.2942 - accuracy: 0.8829\n",
            "Epoch 74/100\n",
            "951/952 [============================>.] - ETA: 0s - loss: 0.2963 - accuracy: 0.8835\n",
            "Epoch 74: loss did not improve from 0.29329\n",
            "952/952 [==============================] - 33s 35ms/step - loss: 0.2963 - accuracy: 0.8835\n",
            "Epoch 75/100\n",
            "952/952 [==============================] - ETA: 0s - loss: 0.2930 - accuracy: 0.8840\n",
            "Epoch 75: loss improved from 0.29329 to 0.29298, saving model to next_word_prediction_by_bilstm.h5\n",
            "952/952 [==============================] - 35s 37ms/step - loss: 0.2930 - accuracy: 0.8840\n",
            "Epoch 76/100\n",
            "951/952 [============================>.] - ETA: 0s - loss: 0.2878 - accuracy: 0.8849\n",
            "Epoch 76: loss improved from 0.29298 to 0.28778, saving model to next_word_prediction_by_bilstm.h5\n",
            "952/952 [==============================] - 35s 37ms/step - loss: 0.2878 - accuracy: 0.8849\n",
            "Epoch 77/100\n",
            "951/952 [============================>.] - ETA: 0s - loss: 0.2910 - accuracy: 0.8838\n",
            "Epoch 77: loss did not improve from 0.28778\n",
            "952/952 [==============================] - 33s 35ms/step - loss: 0.2911 - accuracy: 0.8837\n",
            "Epoch 78/100\n",
            "951/952 [============================>.] - ETA: 0s - loss: 0.2890 - accuracy: 0.8831\n",
            "Epoch 78: loss did not improve from 0.28778\n",
            "952/952 [==============================] - 33s 35ms/step - loss: 0.2889 - accuracy: 0.8832\n",
            "Epoch 79/100\n",
            "951/952 [============================>.] - ETA: 0s - loss: 0.2868 - accuracy: 0.8832\n",
            "Epoch 79: loss improved from 0.28778 to 0.28672, saving model to next_word_prediction_by_bilstm.h5\n",
            "952/952 [==============================] - 35s 37ms/step - loss: 0.2867 - accuracy: 0.8832\n",
            "Epoch 80/100\n",
            "952/952 [==============================] - ETA: 0s - loss: 0.2781 - accuracy: 0.8865\n",
            "Epoch 80: loss improved from 0.28672 to 0.27806, saving model to next_word_prediction_by_bilstm.h5\n",
            "952/952 [==============================] - 35s 37ms/step - loss: 0.2781 - accuracy: 0.8865\n",
            "Epoch 81/100\n",
            "951/952 [============================>.] - ETA: 0s - loss: 0.2788 - accuracy: 0.8865\n",
            "Epoch 81: loss did not improve from 0.27806\n",
            "952/952 [==============================] - 33s 35ms/step - loss: 0.2789 - accuracy: 0.8865\n",
            "Epoch 82/100\n",
            "951/952 [============================>.] - ETA: 0s - loss: 0.2867 - accuracy: 0.8840\n",
            "Epoch 82: loss did not improve from 0.27806\n",
            "952/952 [==============================] - 33s 35ms/step - loss: 0.2866 - accuracy: 0.8840\n",
            "Epoch 83/100\n",
            "951/952 [============================>.] - ETA: 0s - loss: 0.2795 - accuracy: 0.8846\n",
            "Epoch 83: loss did not improve from 0.27806\n",
            "952/952 [==============================] - 33s 35ms/step - loss: 0.2796 - accuracy: 0.8846\n",
            "Epoch 84/100\n",
            "951/952 [============================>.] - ETA: 0s - loss: 0.2813 - accuracy: 0.8844\n",
            "Epoch 84: loss did not improve from 0.27806\n",
            "952/952 [==============================] - 33s 35ms/step - loss: 0.2813 - accuracy: 0.8844\n",
            "Epoch 85/100\n",
            "951/952 [============================>.] - ETA: 0s - loss: 0.2732 - accuracy: 0.8860\n",
            "Epoch 85: loss improved from 0.27806 to 0.27325, saving model to next_word_prediction_by_bilstm.h5\n",
            "952/952 [==============================] - 35s 37ms/step - loss: 0.2732 - accuracy: 0.8860\n",
            "Epoch 86/100\n",
            "951/952 [============================>.] - ETA: 0s - loss: 0.2731 - accuracy: 0.8855\n",
            "Epoch 86: loss did not improve from 0.27325\n",
            "952/952 [==============================] - 34s 35ms/step - loss: 0.2733 - accuracy: 0.8855\n",
            "Epoch 87/100\n",
            "951/952 [============================>.] - ETA: 0s - loss: 0.2727 - accuracy: 0.8875\n",
            "Epoch 87: loss improved from 0.27325 to 0.27273, saving model to next_word_prediction_by_bilstm.h5\n",
            "952/952 [==============================] - 35s 37ms/step - loss: 0.2727 - accuracy: 0.8875\n",
            "Epoch 88/100\n",
            "951/952 [============================>.] - ETA: 0s - loss: 0.2726 - accuracy: 0.8854\n",
            "Epoch 88: loss improved from 0.27273 to 0.27268, saving model to next_word_prediction_by_bilstm.h5\n",
            "952/952 [==============================] - 35s 37ms/step - loss: 0.2727 - accuracy: 0.8854\n",
            "Epoch 89/100\n",
            "951/952 [============================>.] - ETA: 0s - loss: 0.2705 - accuracy: 0.8861\n",
            "Epoch 89: loss improved from 0.27268 to 0.27063, saving model to next_word_prediction_by_bilstm.h5\n",
            "952/952 [==============================] - 35s 36ms/step - loss: 0.2706 - accuracy: 0.8861\n",
            "Epoch 90/100\n",
            "951/952 [============================>.] - ETA: 0s - loss: 0.2687 - accuracy: 0.8870\n",
            "Epoch 90: loss improved from 0.27063 to 0.26867, saving model to next_word_prediction_by_bilstm.h5\n",
            "952/952 [==============================] - 35s 36ms/step - loss: 0.2687 - accuracy: 0.8870\n",
            "Epoch 91/100\n",
            "951/952 [============================>.] - ETA: 0s - loss: 0.2653 - accuracy: 0.8877\n",
            "Epoch 91: loss improved from 0.26867 to 0.26540, saving model to next_word_prediction_by_bilstm.h5\n",
            "952/952 [==============================] - 35s 36ms/step - loss: 0.2654 - accuracy: 0.8876\n",
            "Epoch 92/100\n",
            "951/952 [============================>.] - ETA: 0s - loss: 0.2745 - accuracy: 0.8845\n",
            "Epoch 92: loss did not improve from 0.26540\n",
            "952/952 [==============================] - 33s 35ms/step - loss: 0.2744 - accuracy: 0.8845\n",
            "Epoch 93/100\n",
            "951/952 [============================>.] - ETA: 0s - loss: 0.2665 - accuracy: 0.8860\n",
            "Epoch 93: loss did not improve from 0.26540\n",
            "952/952 [==============================] - 33s 35ms/step - loss: 0.2666 - accuracy: 0.8860\n",
            "Epoch 94/100\n",
            "951/952 [============================>.] - ETA: 0s - loss: 0.2657 - accuracy: 0.8870\n",
            "Epoch 94: loss did not improve from 0.26540\n",
            "952/952 [==============================] - 33s 35ms/step - loss: 0.2656 - accuracy: 0.8870\n",
            "Epoch 95/100\n",
            "951/952 [============================>.] - ETA: 0s - loss: 0.2686 - accuracy: 0.8859\n",
            "Epoch 95: loss did not improve from 0.26540\n",
            "952/952 [==============================] - 33s 35ms/step - loss: 0.2686 - accuracy: 0.8858\n",
            "Epoch 96/100\n",
            "951/952 [============================>.] - ETA: 0s - loss: 0.2649 - accuracy: 0.8866\n",
            "Epoch 96: loss improved from 0.26540 to 0.26486, saving model to next_word_prediction_by_bilstm.h5\n",
            "952/952 [==============================] - 35s 37ms/step - loss: 0.2649 - accuracy: 0.8866\n",
            "Epoch 97/100\n",
            "951/952 [============================>.] - ETA: 0s - loss: 0.2605 - accuracy: 0.8874\n",
            "Epoch 97: loss improved from 0.26486 to 0.26040, saving model to next_word_prediction_by_bilstm.h5\n",
            "952/952 [==============================] - 35s 37ms/step - loss: 0.2604 - accuracy: 0.8874\n",
            "Epoch 98/100\n",
            "951/952 [============================>.] - ETA: 0s - loss: 0.2612 - accuracy: 0.8871\n",
            "Epoch 98: loss did not improve from 0.26040\n",
            "952/952 [==============================] - 33s 35ms/step - loss: 0.2611 - accuracy: 0.8871\n",
            "Epoch 99/100\n",
            "951/952 [============================>.] - ETA: 0s - loss: 0.2625 - accuracy: 0.8872\n",
            "Epoch 99: loss did not improve from 0.26040\n",
            "952/952 [==============================] - 33s 35ms/step - loss: 0.2625 - accuracy: 0.8872\n",
            "Epoch 100/100\n",
            "951/952 [============================>.] - ETA: 0s - loss: 0.2664 - accuracy: 0.8866\n",
            "Epoch 100: loss did not improve from 0.26040\n",
            "952/952 [==============================] - 33s 35ms/step - loss: 0.2664 - accuracy: 0.8866\n",
            "<keras.engine.sequential.Sequential object at 0x7f6b76d54e10>\n"
          ]
        }
      ]
    },
    {
      "cell_type": "code",
      "source": [
        "ploting_achivement(training_hstry_bilstm, 'accuracy')"
      ],
      "metadata": {
        "colab": {
          "base_uri": "https://localhost:8080/",
          "height": 279
        },
        "id": "U4sddPdchDgK",
        "outputId": "8ac037c3-2cce-4051-899f-9974552fe1b3"
      },
      "execution_count": null,
      "outputs": [
        {
          "output_type": "display_data",
          "data": {
            "text/plain": [
              "<Figure size 432x288 with 1 Axes>"
            ],
            "image/png": "[encoded data removed]"
          },
          "metadata": {
            "needs_background": "light"
          }
        }
      ]
    },
    {
      "cell_type": "code",
      "source": [
        "ploting_achivement(training_hstry_bilstm, 'loss')"
      ],
      "metadata": {
        "colab": {
          "base_uri": "https://localhost:8080/",
          "height": 279
        },
        "id": "XRi0tsm_hGX1",
        "outputId": "355109ed-4cb6-4d72-b56a-c33b116b83d4"
      },
      "execution_count": null,
      "outputs": [
        {
          "output_type": "display_data",
          "data": {
            "text/plain": [
              "<Figure size 432x288 with 1 Axes>"
            ],
            "image/png": "[encoded data removed]"
          },
          "metadata": {
            "needs_background": "light"
          }
        }
      ]
    },
    {
      "cell_type": "code",
      "source": [
        "# ACCURACY calculation\n",
        "bilstm_loss_and_metrics = mdl_bilstm.evaluate(X_input, y_output, batch_size=64)\n",
        "print(\"The accuracy of bi-LSTM model is: \"+str(bilstm_loss_and_metrics[1]))"
      ],
      "metadata": {
        "colab": {
          "base_uri": "https://localhost:8080/"
        },
        "id": "dZ5cDCX3_r0Q",
        "outputId": "b213bf6d-0830-4a7a-eabf-71df2abcac8f"
      },
      "execution_count": null,
      "outputs": [
        {
          "output_type": "stream",
          "name": "stdout",
          "text": [
            "952/952 [==============================] - 16s 15ms/step - loss: 0.1928 - accuracy: 0.9152\n",
            "The accuracy of bi-LSTM model is: 0.9152091145515442\n"
          ]
        }
      ]
    },
    {
      "cell_type": "markdown",
      "source": [
        "#prediction"
      ],
      "metadata": {
        "id": "thXXdOLQjvNW"
      }
    },
    {
      "cell_type": "code",
      "source": [
        "mdl_bilstm = load_model(\"next_word_prediction_by_bilstm.h5\")"
      ],
      "metadata": {
        "id": "76hxflcWeKq2"
      },
      "execution_count": null,
      "outputs": []
    },
    {
      "cell_type": "code",
      "source": [
        "keyboard(mdl_bilstm, data_tknzr)"
      ],
      "metadata": {
        "colab": {
          "base_uri": "https://localhost:8080/"
        },
        "id": "Hu4OrEVcWTOu",
        "outputId": "332f5ed3-3dce-4b7e-e12b-7bb916ec4c94"
      },
      "execution_count": null,
      "outputs": [
        {
          "output_type": "stream",
          "name": "stdout",
          "text": [
            "Enter string: The name of Rani Jhansi\n",
            "['of', 'Rani', 'Jhansi']\n",
            "would\n",
            "Enter string: I am a good\n",
            "['am', 'a', 'good']\n",
            "of\n",
            "Enter string: a woman entering into practical\n",
            "['entering', 'into', 'practical']\n",
            "affairs\n",
            "Enter string: The heroic command\n",
            "['The', 'heroic', 'command']\n",
            "of\n",
            "Enter string: the colour of the\n",
            "['colour', 'of', 'the']\n",
            "Something went wrong:  in user code:\n",
            "\n",
            "    File \"/usr/local/lib/python3.7/dist-packages/keras/engine/training.py\", line 1801, in predict_function  *\n",
            "        return step_function(self, iterator)\n",
            "    File \"/usr/local/lib/python3.7/dist-packages/keras/engine/training.py\", line 1790, in step_function  **\n",
            "        outputs = model.distribute_strategy.run(run_step, args=(data,))\n",
            "    File \"/usr/local/lib/python3.7/dist-packages/keras/engine/training.py\", line 1783, in run_step  **\n",
            "        outputs = model.predict_step(data)\n",
            "    File \"/usr/local/lib/python3.7/dist-packages/keras/engine/training.py\", line 1751, in predict_step\n",
            "        return self(x, training=False)\n",
            "    File \"/usr/local/lib/python3.7/dist-packages/keras/utils/traceback_utils.py\", line 67, in error_handler\n",
            "        raise e.with_traceback(filtered_tb) from None\n",
            "    File \"/usr/local/lib/python3.7/dist-packages/keras/engine/input_spec.py\", line 264, in assert_input_compatibility\n",
            "        raise ValueError(f'Input {input_index} of layer \"{layer_name}\" is '\n",
            "\n",
            "    ValueError: Input 0 of layer \"sequential_1\" is incompatible with the layer: expected shape=(None, 3), found shape=(None, 2)\n",
            "\n",
            "Enter string: The color of the\n",
            "['color', 'of', 'the']\n",
            "community\n",
            "Enter string: Indian society is not opposed to the active participation of\n",
            "['active', 'participation', 'of']\n",
            "its\n",
            "Enter string: 0\n",
            "Execution Finished...\n"
          ]
        }
      ]
    },
    {
      "cell_type": "markdown",
      "source": [
        "#GRU model for prediction "
      ],
      "metadata": {
        "id": "XBJWJR1O6tuz"
      }
    },
    {
      "cell_type": "code",
      "source": [
        "mdl_gru = Sequential()\n",
        "mdl_gru.add(Embedding(vocabulary_length, 10, input_length=3))\n",
        "mdl_gru.add(GRU(1000, return_sequences=True))\n",
        "mdl_gru.add(GRU(1000))\n",
        "mdl_gru.add(Dense(1000, activation=\"relu\"))\n",
        "mdl_gru.add(Dense(vocabulary_length, activation=\"softmax\"))\n"
      ],
      "metadata": {
        "id": "w-FmUsfj63Sl"
      },
      "execution_count": null,
      "outputs": []
    },
    {
      "cell_type": "code",
      "source": [
        "mdl_gru.summary()"
      ],
      "metadata": {
        "colab": {
          "base_uri": "https://localhost:8080/"
        },
        "id": "rLfuUToeL0ae",
        "outputId": "4d24b0be-149f-4272-a4e1-ef611d38da47"
      },
      "execution_count": null,
      "outputs": [
        {
          "output_type": "stream",
          "name": "stdout",
          "text": [
            "Model: \"sequential_3\"\n",
            "_________________________________________________________________\n",
            " Layer (type)                Output Shape              Param #   \n",
            "=================================================================\n",
            " embedding_2 (Embedding)     (None, 3, 10)             76490     \n",
            "                                                                 \n",
            " gru (GRU)                   (None, 3, 1000)           3036000   \n",
            "                                                                 \n",
            " gru_1 (GRU)                 (None, 1000)              6006000   \n",
            "                                                                 \n",
            " dense_4 (Dense)             (None, 1000)              1001000   \n",
            "                                                                 \n",
            " dense_5 (Dense)             (None, 7649)              7656649   \n",
            "                                                                 \n",
            "=================================================================\n",
            "Total params: 17,776,139\n",
            "Trainable params: 17,776,139\n",
            "Non-trainable params: 0\n",
            "_________________________________________________________________\n"
          ]
        }
      ]
    },
    {
      "cell_type": "code",
      "source": [
        "keras.utils.plot_model(mdl_gru, to_file= 'image_of_gru_model.png', show_layer_names=True)"
      ],
      "metadata": {
        "colab": {
          "base_uri": "https://localhost:8080/",
          "height": 564
        },
        "id": "ZCCEdfQ6Lywk",
        "outputId": "393325c1-cb6f-482f-98c1-2b66e45d59f5"
      },
      "execution_count": null,
      "outputs": [
        {
          "output_type": "execute_result",
          "data": {
            "image/png": "[encoded data removed]",
            "text/plain": [
              "<IPython.core.display.Image object>"
            ]
          },
          "metadata": {},
          "execution_count": 42
        }
      ]
    },
    {
      "cell_type": "code",
      "source": [
        "chckpnt_gru = ModelCheckpoint(\"nxt_word_prediction_by_gru.h5\", monitor=\"loss\", verbose=1, save_best_only=True)\n",
        "mdl_gru.compile(loss=\"categorical_crossentropy\", optimizer=Adam(learning_rate=0.001), metrics=['accuracy'])"
      ],
      "metadata": {
        "id": "wE0E4fj0MbcJ"
      },
      "execution_count": null,
      "outputs": []
    },
    {
      "cell_type": "code",
      "source": [
        "training_hstry_gru = mdl_gru.fit(X_input, y_output, epochs=100, batch_size=64, callbacks=[chckpnt_gru])\n",
        "print(mdl_gru)"
      ],
      "metadata": {
        "colab": {
          "base_uri": "https://localhost:8080/"
        },
        "id": "VJ770AYBM5nm",
        "outputId": "e68b24dd-b28f-4de7-a736-e31884e06318"
      },
      "execution_count": null,
      "outputs": [
        {
          "output_type": "stream",
          "name": "stdout",
          "text": [
            "Epoch 1/100\n",
            "950/952 [============================>.] - ETA: 0s - loss: 6.6568 - accuracy: 0.1069\n",
            "Epoch 1: loss improved from inf to 6.65722, saving model to nxt_word_prediction_by_gru.h5\n",
            "952/952 [==============================] - 19s 16ms/step - loss: 6.6572 - accuracy: 0.1069\n",
            "Epoch 2/100\n",
            "951/952 [============================>.] - ETA: 0s - loss: 6.1021 - accuracy: 0.1361\n",
            "Epoch 2: loss improved from 6.65722 to 6.10224, saving model to nxt_word_prediction_by_gru.h5\n",
            "952/952 [==============================] - 16s 17ms/step - loss: 6.1022 - accuracy: 0.1361\n",
            "Epoch 3/100\n",
            "952/952 [==============================] - ETA: 0s - loss: 5.7632 - accuracy: 0.1543\n",
            "Epoch 3: loss improved from 6.10224 to 5.76321, saving model to nxt_word_prediction_by_gru.h5\n",
            "952/952 [==============================] - 16s 17ms/step - loss: 5.7632 - accuracy: 0.1543\n",
            "Epoch 4/100\n",
            "950/952 [============================>.] - ETA: 0s - loss: 5.4613 - accuracy: 0.1664\n",
            "Epoch 4: loss improved from 5.76321 to 5.46095, saving model to nxt_word_prediction_by_gru.h5\n",
            "952/952 [==============================] - 16s 17ms/step - loss: 5.4610 - accuracy: 0.1665\n",
            "Epoch 5/100\n",
            "950/952 [============================>.] - ETA: 0s - loss: 5.1868 - accuracy: 0.1785\n",
            "Epoch 5: loss improved from 5.46095 to 5.18659, saving model to nxt_word_prediction_by_gru.h5\n",
            "952/952 [==============================] - 16s 17ms/step - loss: 5.1866 - accuracy: 0.1785\n",
            "Epoch 6/100\n",
            "951/952 [============================>.] - ETA: 0s - loss: 4.8943 - accuracy: 0.1896\n",
            "Epoch 6: loss improved from 5.18659 to 4.89444, saving model to nxt_word_prediction_by_gru.h5\n",
            "952/952 [==============================] - 16s 17ms/step - loss: 4.8944 - accuracy: 0.1896\n",
            "Epoch 7/100\n",
            "950/952 [============================>.] - ETA: 0s - loss: 4.5762 - accuracy: 0.2014\n",
            "Epoch 7: loss improved from 4.89444 to 4.57667, saving model to nxt_word_prediction_by_gru.h5\n",
            "952/952 [==============================] - 16s 16ms/step - loss: 4.5767 - accuracy: 0.2015\n",
            "Epoch 8/100\n",
            "951/952 [============================>.] - ETA: 0s - loss: 4.2229 - accuracy: 0.2169\n",
            "Epoch 8: loss improved from 4.57667 to 4.22292, saving model to nxt_word_prediction_by_gru.h5\n",
            "952/952 [==============================] - 16s 17ms/step - loss: 4.2229 - accuracy: 0.2169\n",
            "Epoch 9/100\n",
            "949/952 [============================>.] - ETA: 0s - loss: 3.8507 - accuracy: 0.2431\n",
            "Epoch 9: loss improved from 4.22292 to 3.85047, saving model to nxt_word_prediction_by_gru.h5\n",
            "952/952 [==============================] - 16s 16ms/step - loss: 3.8505 - accuracy: 0.2431\n",
            "Epoch 10/100\n",
            "951/952 [============================>.] - ETA: 0s - loss: 3.4911 - accuracy: 0.2829\n",
            "Epoch 10: loss improved from 3.85047 to 3.49117, saving model to nxt_word_prediction_by_gru.h5\n",
            "952/952 [==============================] - 16s 16ms/step - loss: 3.4912 - accuracy: 0.2829\n",
            "Epoch 11/100\n",
            "951/952 [============================>.] - ETA: 0s - loss: 3.1537 - accuracy: 0.3267\n",
            "Epoch 11: loss improved from 3.49117 to 3.15402, saving model to nxt_word_prediction_by_gru.h5\n",
            "952/952 [==============================] - 16s 17ms/step - loss: 3.1540 - accuracy: 0.3267\n",
            "Epoch 12/100\n",
            "951/952 [============================>.] - ETA: 0s - loss: 2.8401 - accuracy: 0.3716\n",
            "Epoch 12: loss improved from 3.15402 to 2.84018, saving model to nxt_word_prediction_by_gru.h5\n",
            "952/952 [==============================] - 16s 17ms/step - loss: 2.8402 - accuracy: 0.3716\n",
            "Epoch 13/100\n",
            "952/952 [==============================] - ETA: 0s - loss: 2.5451 - accuracy: 0.4203\n",
            "Epoch 13: loss improved from 2.84018 to 2.54510, saving model to nxt_word_prediction_by_gru.h5\n",
            "952/952 [==============================] - 16s 17ms/step - loss: 2.5451 - accuracy: 0.4203\n",
            "Epoch 14/100\n",
            "949/952 [============================>.] - ETA: 0s - loss: 2.2701 - accuracy: 0.4675\n",
            "Epoch 14: loss improved from 2.54510 to 2.27094, saving model to nxt_word_prediction_by_gru.h5\n",
            "952/952 [==============================] - 16s 17ms/step - loss: 2.2709 - accuracy: 0.4674\n",
            "Epoch 15/100\n",
            "951/952 [============================>.] - ETA: 0s - loss: 2.0103 - accuracy: 0.5171\n",
            "Epoch 15: loss improved from 2.27094 to 2.01024, saving model to nxt_word_prediction_by_gru.h5\n",
            "952/952 [==============================] - 16s 17ms/step - loss: 2.0102 - accuracy: 0.5171\n",
            "Epoch 16/100\n",
            "952/952 [==============================] - ETA: 0s - loss: 1.7722 - accuracy: 0.5639\n",
            "Epoch 16: loss improved from 2.01024 to 1.77219, saving model to nxt_word_prediction_by_gru.h5\n",
            "952/952 [==============================] - 16s 17ms/step - loss: 1.7722 - accuracy: 0.5639\n",
            "Epoch 17/100\n",
            "951/952 [============================>.] - ETA: 0s - loss: 1.5549 - accuracy: 0.6082\n",
            "Epoch 17: loss improved from 1.77219 to 1.55523, saving model to nxt_word_prediction_by_gru.h5\n",
            "952/952 [==============================] - 16s 17ms/step - loss: 1.5552 - accuracy: 0.6081\n",
            "Epoch 18/100\n",
            "951/952 [============================>.] - ETA: 0s - loss: 1.3485 - accuracy: 0.6536\n",
            "Epoch 18: loss improved from 1.55523 to 1.34877, saving model to nxt_word_prediction_by_gru.h5\n",
            "952/952 [==============================] - 16s 17ms/step - loss: 1.3488 - accuracy: 0.6535\n",
            "Epoch 19/100\n",
            "952/952 [==============================] - ETA: 0s - loss: 1.1786 - accuracy: 0.6937\n",
            "Epoch 19: loss improved from 1.34877 to 1.17859, saving model to nxt_word_prediction_by_gru.h5\n",
            "952/952 [==============================] - 16s 17ms/step - loss: 1.1786 - accuracy: 0.6937\n",
            "Epoch 20/100\n",
            "949/952 [============================>.] - ETA: 0s - loss: 1.0371 - accuracy: 0.7289\n",
            "Epoch 20: loss improved from 1.17859 to 1.03682, saving model to nxt_word_prediction_by_gru.h5\n",
            "952/952 [==============================] - 16s 17ms/step - loss: 1.0368 - accuracy: 0.7289\n",
            "Epoch 21/100\n",
            "949/952 [============================>.] - ETA: 0s - loss: 0.9264 - accuracy: 0.7578\n",
            "Epoch 21: loss improved from 1.03682 to 0.92750, saving model to nxt_word_prediction_by_gru.h5\n",
            "952/952 [==============================] - 16s 17ms/step - loss: 0.9275 - accuracy: 0.7575\n",
            "Epoch 22/100\n",
            "949/952 [============================>.] - ETA: 0s - loss: 0.8156 - accuracy: 0.7832\n",
            "Epoch 22: loss improved from 0.92750 to 0.81586, saving model to nxt_word_prediction_by_gru.h5\n",
            "952/952 [==============================] - 16s 17ms/step - loss: 0.8159 - accuracy: 0.7831\n",
            "Epoch 23/100\n",
            "951/952 [============================>.] - ETA: 0s - loss: 0.7455 - accuracy: 0.8024\n",
            "Epoch 23: loss improved from 0.81586 to 0.74543, saving model to nxt_word_prediction_by_gru.h5\n",
            "952/952 [==============================] - 16s 17ms/step - loss: 0.7454 - accuracy: 0.8024\n",
            "Epoch 24/100\n",
            "950/952 [============================>.] - ETA: 0s - loss: 0.6869 - accuracy: 0.8174\n",
            "Epoch 24: loss improved from 0.74543 to 0.68717, saving model to nxt_word_prediction_by_gru.h5\n",
            "952/952 [==============================] - 16s 17ms/step - loss: 0.6872 - accuracy: 0.8173\n",
            "Epoch 25/100\n",
            "949/952 [============================>.] - ETA: 0s - loss: 0.6393 - accuracy: 0.8290\n",
            "Epoch 25: loss improved from 0.68717 to 0.63913, saving model to nxt_word_prediction_by_gru.h5\n",
            "952/952 [==============================] - 16s 17ms/step - loss: 0.6391 - accuracy: 0.8290\n",
            "Epoch 26/100\n",
            "951/952 [============================>.] - ETA: 0s - loss: 0.5987 - accuracy: 0.8381\n",
            "Epoch 26: loss improved from 0.63913 to 0.59885, saving model to nxt_word_prediction_by_gru.h5\n",
            "952/952 [==============================] - 16s 16ms/step - loss: 0.5988 - accuracy: 0.8380\n",
            "Epoch 27/100\n",
            "951/952 [============================>.] - ETA: 0s - loss: 0.5658 - accuracy: 0.8461\n",
            "Epoch 27: loss improved from 0.59885 to 0.56572, saving model to nxt_word_prediction_by_gru.h5\n",
            "952/952 [==============================] - 16s 17ms/step - loss: 0.5657 - accuracy: 0.8461\n",
            "Epoch 28/100\n",
            "951/952 [============================>.] - ETA: 0s - loss: 0.5372 - accuracy: 0.8535\n",
            "Epoch 28: loss improved from 0.56572 to 0.53719, saving model to nxt_word_prediction_by_gru.h5\n",
            "952/952 [==============================] - 16s 16ms/step - loss: 0.5372 - accuracy: 0.8535\n",
            "Epoch 29/100\n",
            "952/952 [==============================] - ETA: 0s - loss: 0.5130 - accuracy: 0.8589\n",
            "Epoch 29: loss improved from 0.53719 to 0.51303, saving model to nxt_word_prediction_by_gru.h5\n",
            "952/952 [==============================] - 16s 17ms/step - loss: 0.5130 - accuracy: 0.8589\n",
            "Epoch 30/100\n",
            "951/952 [============================>.] - ETA: 0s - loss: 0.4998 - accuracy: 0.8608\n",
            "Epoch 30: loss improved from 0.51303 to 0.49984, saving model to nxt_word_prediction_by_gru.h5\n",
            "952/952 [==============================] - 16s 17ms/step - loss: 0.4998 - accuracy: 0.8608\n",
            "Epoch 31/100\n",
            "949/952 [============================>.] - ETA: 0s - loss: 0.4788 - accuracy: 0.8650\n",
            "Epoch 31: loss improved from 0.49984 to 0.47920, saving model to nxt_word_prediction_by_gru.h5\n",
            "952/952 [==============================] - 16s 17ms/step - loss: 0.4792 - accuracy: 0.8648\n",
            "Epoch 32/100\n",
            "951/952 [============================>.] - ETA: 0s - loss: 0.4616 - accuracy: 0.8682\n",
            "Epoch 32: loss improved from 0.47920 to 0.46145, saving model to nxt_word_prediction_by_gru.h5\n",
            "952/952 [==============================] - 16s 17ms/step - loss: 0.4614 - accuracy: 0.8683\n",
            "Epoch 33/100\n",
            "951/952 [============================>.] - ETA: 0s - loss: 0.4552 - accuracy: 0.8692\n",
            "Epoch 33: loss improved from 0.46145 to 0.45514, saving model to nxt_word_prediction_by_gru.h5\n",
            "952/952 [==============================] - 16s 17ms/step - loss: 0.4551 - accuracy: 0.8692\n",
            "Epoch 34/100\n",
            "950/952 [============================>.] - ETA: 0s - loss: 0.4457 - accuracy: 0.8697\n",
            "Epoch 34: loss improved from 0.45514 to 0.44582, saving model to nxt_word_prediction_by_gru.h5\n",
            "952/952 [==============================] - 16s 17ms/step - loss: 0.4458 - accuracy: 0.8697\n",
            "Epoch 35/100\n",
            "952/952 [==============================] - ETA: 0s - loss: 0.4278 - accuracy: 0.8728\n",
            "Epoch 35: loss improved from 0.44582 to 0.42779, saving model to nxt_word_prediction_by_gru.h5\n",
            "952/952 [==============================] - 16s 17ms/step - loss: 0.4278 - accuracy: 0.8728\n",
            "Epoch 36/100\n",
            "951/952 [============================>.] - ETA: 0s - loss: 0.4210 - accuracy: 0.8731\n",
            "Epoch 36: loss improved from 0.42779 to 0.42120, saving model to nxt_word_prediction_by_gru.h5\n",
            "952/952 [==============================] - 16s 17ms/step - loss: 0.4212 - accuracy: 0.8731\n",
            "Epoch 37/100\n",
            "949/952 [============================>.] - ETA: 0s - loss: 0.4056 - accuracy: 0.8768\n",
            "Epoch 37: loss improved from 0.42120 to 0.40589, saving model to nxt_word_prediction_by_gru.h5\n",
            "952/952 [==============================] - 16s 17ms/step - loss: 0.4059 - accuracy: 0.8767\n",
            "Epoch 38/100\n",
            "951/952 [============================>.] - ETA: 0s - loss: 0.4020 - accuracy: 0.8757\n",
            "Epoch 38: loss improved from 0.40589 to 0.40207, saving model to nxt_word_prediction_by_gru.h5\n",
            "952/952 [==============================] - 16s 17ms/step - loss: 0.4021 - accuracy: 0.8757\n",
            "Epoch 39/100\n",
            "949/952 [============================>.] - ETA: 0s - loss: 0.3957 - accuracy: 0.8772\n",
            "Epoch 39: loss improved from 0.40207 to 0.39625, saving model to nxt_word_prediction_by_gru.h5\n",
            "952/952 [==============================] - 16s 17ms/step - loss: 0.3963 - accuracy: 0.8771\n",
            "Epoch 40/100\n",
            "949/952 [============================>.] - ETA: 0s - loss: 0.3883 - accuracy: 0.8772\n",
            "Epoch 40: loss improved from 0.39625 to 0.38853, saving model to nxt_word_prediction_by_gru.h5\n",
            "952/952 [==============================] - 16s 17ms/step - loss: 0.3885 - accuracy: 0.8770\n",
            "Epoch 41/100\n",
            "950/952 [============================>.] - ETA: 0s - loss: 0.3799 - accuracy: 0.8793\n",
            "Epoch 41: loss improved from 0.38853 to 0.38021, saving model to nxt_word_prediction_by_gru.h5\n",
            "952/952 [==============================] - 16s 17ms/step - loss: 0.3802 - accuracy: 0.8793\n",
            "Epoch 42/100\n",
            "949/952 [============================>.] - ETA: 0s - loss: 0.3762 - accuracy: 0.8796\n",
            "Epoch 42: loss improved from 0.38021 to 0.37671, saving model to nxt_word_prediction_by_gru.h5\n",
            "952/952 [==============================] - 16s 17ms/step - loss: 0.3767 - accuracy: 0.8794\n",
            "Epoch 43/100\n",
            "951/952 [============================>.] - ETA: 0s - loss: 0.3692 - accuracy: 0.8795\n",
            "Epoch 43: loss improved from 0.37671 to 0.36928, saving model to nxt_word_prediction_by_gru.h5\n",
            "952/952 [==============================] - 16s 17ms/step - loss: 0.3693 - accuracy: 0.8794\n",
            "Epoch 44/100\n",
            "949/952 [============================>.] - ETA: 0s - loss: 0.3616 - accuracy: 0.8805\n",
            "Epoch 44: loss improved from 0.36928 to 0.36167, saving model to nxt_word_prediction_by_gru.h5\n",
            "952/952 [==============================] - 16s 17ms/step - loss: 0.3617 - accuracy: 0.8806\n",
            "Epoch 45/100\n",
            "952/952 [==============================] - ETA: 0s - loss: 0.3554 - accuracy: 0.8821\n",
            "Epoch 45: loss improved from 0.36167 to 0.35541, saving model to nxt_word_prediction_by_gru.h5\n",
            "952/952 [==============================] - 16s 17ms/step - loss: 0.3554 - accuracy: 0.8821\n",
            "Epoch 46/100\n",
            "950/952 [============================>.] - ETA: 0s - loss: 0.3522 - accuracy: 0.8819\n",
            "Epoch 46: loss improved from 0.35541 to 0.35229, saving model to nxt_word_prediction_by_gru.h5\n",
            "952/952 [==============================] - 16s 17ms/step - loss: 0.3523 - accuracy: 0.8819\n",
            "Epoch 47/100\n",
            "950/952 [============================>.] - ETA: 0s - loss: 0.3482 - accuracy: 0.8822\n",
            "Epoch 47: loss improved from 0.35229 to 0.34821, saving model to nxt_word_prediction_by_gru.h5\n",
            "952/952 [==============================] - 16s 17ms/step - loss: 0.3482 - accuracy: 0.8822\n",
            "Epoch 48/100\n",
            "950/952 [============================>.] - ETA: 0s - loss: 0.3481 - accuracy: 0.8820\n",
            "Epoch 48: loss did not improve from 0.34821\n",
            "952/952 [==============================] - 15s 16ms/step - loss: 0.3484 - accuracy: 0.8819\n",
            "Epoch 49/100\n",
            "951/952 [============================>.] - ETA: 0s - loss: 0.3389 - accuracy: 0.8827\n",
            "Epoch 49: loss improved from 0.34821 to 0.33890, saving model to nxt_word_prediction_by_gru.h5\n",
            "952/952 [==============================] - 16s 17ms/step - loss: 0.3389 - accuracy: 0.8827\n",
            "Epoch 50/100\n",
            "949/952 [============================>.] - ETA: 0s - loss: 0.3392 - accuracy: 0.8820\n",
            "Epoch 50: loss did not improve from 0.33890\n",
            "952/952 [==============================] - 15s 16ms/step - loss: 0.3394 - accuracy: 0.8820\n",
            "Epoch 51/100\n",
            "950/952 [============================>.] - ETA: 0s - loss: 0.3389 - accuracy: 0.8816\n",
            "Epoch 51: loss did not improve from 0.33890\n",
            "952/952 [==============================] - 16s 17ms/step - loss: 0.3391 - accuracy: 0.8815\n",
            "Epoch 52/100\n",
            "951/952 [============================>.] - ETA: 0s - loss: 0.3263 - accuracy: 0.8842\n",
            "Epoch 52: loss improved from 0.33890 to 0.32629, saving model to nxt_word_prediction_by_gru.h5\n",
            "952/952 [==============================] - 16s 17ms/step - loss: 0.3263 - accuracy: 0.8842\n",
            "Epoch 53/100\n",
            "949/952 [============================>.] - ETA: 0s - loss: 0.3226 - accuracy: 0.8852\n",
            "Epoch 53: loss improved from 0.32629 to 0.32288, saving model to nxt_word_prediction_by_gru.h5\n",
            "952/952 [==============================] - 16s 17ms/step - loss: 0.3229 - accuracy: 0.8851\n",
            "Epoch 54/100\n",
            "949/952 [============================>.] - ETA: 0s - loss: 0.3196 - accuracy: 0.8843\n",
            "Epoch 54: loss improved from 0.32288 to 0.31970, saving model to nxt_word_prediction_by_gru.h5\n",
            "952/952 [==============================] - 16s 17ms/step - loss: 0.3197 - accuracy: 0.8843\n",
            "Epoch 55/100\n",
            "951/952 [============================>.] - ETA: 0s - loss: 0.3214 - accuracy: 0.8832\n",
            "Epoch 55: loss did not improve from 0.31970\n",
            "952/952 [==============================] - 15s 16ms/step - loss: 0.3213 - accuracy: 0.8833\n",
            "Epoch 56/100\n",
            "950/952 [============================>.] - ETA: 0s - loss: 0.3188 - accuracy: 0.8830\n",
            "Epoch 56: loss improved from 0.31970 to 0.31877, saving model to nxt_word_prediction_by_gru.h5\n",
            "952/952 [==============================] - 16s 17ms/step - loss: 0.3188 - accuracy: 0.8831\n",
            "Epoch 57/100\n",
            "951/952 [============================>.] - ETA: 0s - loss: 0.3083 - accuracy: 0.8845\n",
            "Epoch 57: loss improved from 0.31877 to 0.30825, saving model to nxt_word_prediction_by_gru.h5\n",
            "952/952 [==============================] - 16s 17ms/step - loss: 0.3082 - accuracy: 0.8845\n",
            "Epoch 58/100\n",
            "950/952 [============================>.] - ETA: 0s - loss: 0.3037 - accuracy: 0.8859\n",
            "Epoch 58: loss improved from 0.30825 to 0.30402, saving model to nxt_word_prediction_by_gru.h5\n",
            "952/952 [==============================] - 16s 17ms/step - loss: 0.3040 - accuracy: 0.8858\n",
            "Epoch 59/100\n",
            "951/952 [============================>.] - ETA: 0s - loss: 0.3119 - accuracy: 0.8841\n",
            "Epoch 59: loss did not improve from 0.30402\n",
            "952/952 [==============================] - 15s 16ms/step - loss: 0.3118 - accuracy: 0.8841\n",
            "Epoch 60/100\n",
            "950/952 [============================>.] - ETA: 0s - loss: 0.3056 - accuracy: 0.8848\n",
            "Epoch 60: loss did not improve from 0.30402\n",
            "952/952 [==============================] - 15s 16ms/step - loss: 0.3058 - accuracy: 0.8847\n",
            "Epoch 61/100\n",
            "952/952 [==============================] - ETA: 0s - loss: 0.3030 - accuracy: 0.8860\n",
            "Epoch 61: loss improved from 0.30402 to 0.30295, saving model to nxt_word_prediction_by_gru.h5\n",
            "952/952 [==============================] - 16s 17ms/step - loss: 0.3030 - accuracy: 0.8860\n",
            "Epoch 62/100\n",
            "951/952 [============================>.] - ETA: 0s - loss: 0.3005 - accuracy: 0.8850\n",
            "Epoch 62: loss improved from 0.30295 to 0.30044, saving model to nxt_word_prediction_by_gru.h5\n",
            "952/952 [==============================] - 16s 17ms/step - loss: 0.3004 - accuracy: 0.8850\n",
            "Epoch 63/100\n",
            "949/952 [============================>.] - ETA: 0s - loss: 0.2988 - accuracy: 0.8850\n",
            "Epoch 63: loss improved from 0.30044 to 0.29891, saving model to nxt_word_prediction_by_gru.h5\n",
            "952/952 [==============================] - 16s 17ms/step - loss: 0.2989 - accuracy: 0.8850\n",
            "Epoch 64/100\n",
            "949/952 [============================>.] - ETA: 0s - loss: 0.2956 - accuracy: 0.8863\n",
            "Epoch 64: loss improved from 0.29891 to 0.29579, saving model to nxt_word_prediction_by_gru.h5\n",
            "952/952 [==============================] - 16s 17ms/step - loss: 0.2958 - accuracy: 0.8863\n",
            "Epoch 65/100\n",
            "951/952 [============================>.] - ETA: 0s - loss: 0.2918 - accuracy: 0.8859\n",
            "Epoch 65: loss improved from 0.29579 to 0.29177, saving model to nxt_word_prediction_by_gru.h5\n",
            "952/952 [==============================] - 16s 17ms/step - loss: 0.2918 - accuracy: 0.8859\n",
            "Epoch 66/100\n",
            "951/952 [============================>.] - ETA: 0s - loss: 0.2925 - accuracy: 0.8854\n",
            "Epoch 66: loss did not improve from 0.29177\n",
            "952/952 [==============================] - 15s 16ms/step - loss: 0.2925 - accuracy: 0.8855\n",
            "Epoch 67/100\n",
            "949/952 [============================>.] - ETA: 0s - loss: 0.2906 - accuracy: 0.8849\n",
            "Epoch 67: loss improved from 0.29177 to 0.29077, saving model to nxt_word_prediction_by_gru.h5\n",
            "952/952 [==============================] - 16s 17ms/step - loss: 0.2908 - accuracy: 0.8848\n",
            "Epoch 68/100\n",
            "951/952 [============================>.] - ETA: 0s - loss: 0.2860 - accuracy: 0.8872\n",
            "Epoch 68: loss improved from 0.29077 to 0.28613, saving model to nxt_word_prediction_by_gru.h5\n",
            "952/952 [==============================] - 16s 17ms/step - loss: 0.2861 - accuracy: 0.8871\n",
            "Epoch 69/100\n",
            "952/952 [==============================] - ETA: 0s - loss: 0.2892 - accuracy: 0.8850\n",
            "Epoch 69: loss did not improve from 0.28613\n",
            "952/952 [==============================] - 15s 16ms/step - loss: 0.2892 - accuracy: 0.8850\n",
            "Epoch 70/100\n",
            "951/952 [============================>.] - ETA: 0s - loss: 0.2839 - accuracy: 0.8860\n",
            "Epoch 70: loss improved from 0.28613 to 0.28397, saving model to nxt_word_prediction_by_gru.h5\n",
            "952/952 [==============================] - 16s 17ms/step - loss: 0.2840 - accuracy: 0.8860\n",
            "Epoch 71/100\n",
            "950/952 [============================>.] - ETA: 0s - loss: 0.2829 - accuracy: 0.8867\n",
            "Epoch 71: loss improved from 0.28397 to 0.28311, saving model to nxt_word_prediction_by_gru.h5\n",
            "952/952 [==============================] - 16s 17ms/step - loss: 0.2831 - accuracy: 0.8866\n",
            "Epoch 72/100\n",
            "952/952 [==============================] - ETA: 0s - loss: 0.2753 - accuracy: 0.8891\n",
            "Epoch 72: loss improved from 0.28311 to 0.27532, saving model to nxt_word_prediction_by_gru.h5\n",
            "952/952 [==============================] - 16s 17ms/step - loss: 0.2753 - accuracy: 0.8891\n",
            "Epoch 73/100\n",
            "951/952 [============================>.] - ETA: 0s - loss: 0.2806 - accuracy: 0.8877\n",
            "Epoch 73: loss did not improve from 0.27532\n",
            "952/952 [==============================] - 15s 16ms/step - loss: 0.2807 - accuracy: 0.8877\n",
            "Epoch 74/100\n",
            "950/952 [============================>.] - ETA: 0s - loss: 0.2878 - accuracy: 0.8842\n",
            "Epoch 74: loss did not improve from 0.27532\n",
            "952/952 [==============================] - 15s 16ms/step - loss: 0.2880 - accuracy: 0.8842\n",
            "Epoch 75/100\n",
            "949/952 [============================>.] - ETA: 0s - loss: 0.2782 - accuracy: 0.8867\n",
            "Epoch 75: loss did not improve from 0.27532\n",
            "952/952 [==============================] - 16s 17ms/step - loss: 0.2784 - accuracy: 0.8865\n",
            "Epoch 76/100\n",
            "952/952 [==============================] - ETA: 0s - loss: 0.2675 - accuracy: 0.8881\n",
            "Epoch 76: loss improved from 0.27532 to 0.26751, saving model to nxt_word_prediction_by_gru.h5\n",
            "952/952 [==============================] - 16s 17ms/step - loss: 0.2675 - accuracy: 0.8881\n",
            "Epoch 77/100\n",
            "950/952 [============================>.] - ETA: 0s - loss: 0.2688 - accuracy: 0.8882\n",
            "Epoch 77: loss did not improve from 0.26751\n",
            "952/952 [==============================] - 15s 16ms/step - loss: 0.2688 - accuracy: 0.8882\n",
            "Epoch 78/100\n",
            "952/952 [==============================] - ETA: 0s - loss: 0.2717 - accuracy: 0.8879\n",
            "Epoch 78: loss did not improve from 0.26751\n",
            "952/952 [==============================] - 15s 16ms/step - loss: 0.2717 - accuracy: 0.8879\n",
            "Epoch 79/100\n",
            "950/952 [============================>.] - ETA: 0s - loss: 0.2750 - accuracy: 0.8872\n",
            "Epoch 79: loss did not improve from 0.26751\n",
            "952/952 [==============================] - 15s 16ms/step - loss: 0.2751 - accuracy: 0.8872\n",
            "Epoch 80/100\n",
            "951/952 [============================>.] - ETA: 0s - loss: 0.2734 - accuracy: 0.8868\n",
            "Epoch 80: loss did not improve from 0.26751\n",
            "952/952 [==============================] - 15s 16ms/step - loss: 0.2735 - accuracy: 0.8867\n",
            "Epoch 81/100\n",
            "952/952 [==============================] - ETA: 0s - loss: 0.2691 - accuracy: 0.8876\n",
            "Epoch 81: loss did not improve from 0.26751\n",
            "952/952 [==============================] - 15s 16ms/step - loss: 0.2691 - accuracy: 0.8876\n",
            "Epoch 82/100\n",
            "952/952 [==============================] - ETA: 0s - loss: 0.2722 - accuracy: 0.8867\n",
            "Epoch 82: loss did not improve from 0.26751\n",
            "952/952 [==============================] - 15s 16ms/step - loss: 0.2722 - accuracy: 0.8867\n",
            "Epoch 83/100\n",
            "949/952 [============================>.] - ETA: 0s - loss: 0.2684 - accuracy: 0.8878\n",
            "Epoch 83: loss did not improve from 0.26751\n",
            "952/952 [==============================] - 15s 16ms/step - loss: 0.2688 - accuracy: 0.8876\n",
            "Epoch 84/100\n",
            "951/952 [============================>.] - ETA: 0s - loss: 0.2645 - accuracy: 0.8888\n",
            "Epoch 84: loss improved from 0.26751 to 0.26458, saving model to nxt_word_prediction_by_gru.h5\n",
            "952/952 [==============================] - 16s 16ms/step - loss: 0.2646 - accuracy: 0.8888\n",
            "Epoch 85/100\n",
            "949/952 [============================>.] - ETA: 0s - loss: 0.2621 - accuracy: 0.8883\n",
            "Epoch 85: loss improved from 0.26458 to 0.26213, saving model to nxt_word_prediction_by_gru.h5\n",
            "952/952 [==============================] - 16s 17ms/step - loss: 0.2621 - accuracy: 0.8883\n",
            "Epoch 86/100\n",
            "950/952 [============================>.] - ETA: 0s - loss: 0.2646 - accuracy: 0.8874\n",
            "Epoch 86: loss did not improve from 0.26213\n",
            "952/952 [==============================] - 15s 16ms/step - loss: 0.2646 - accuracy: 0.8874\n",
            "Epoch 87/100\n",
            "951/952 [============================>.] - ETA: 0s - loss: 0.2662 - accuracy: 0.8869\n",
            "Epoch 87: loss did not improve from 0.26213\n",
            "952/952 [==============================] - 15s 16ms/step - loss: 0.2664 - accuracy: 0.8868\n",
            "Epoch 88/100\n",
            "952/952 [==============================] - ETA: 0s - loss: 0.2679 - accuracy: 0.8857\n",
            "Epoch 88: loss did not improve from 0.26213\n",
            "952/952 [==============================] - 15s 16ms/step - loss: 0.2679 - accuracy: 0.8857\n",
            "Epoch 89/100\n",
            "952/952 [==============================] - ETA: 0s - loss: 0.2572 - accuracy: 0.8882\n",
            "Epoch 89: loss improved from 0.26213 to 0.25721, saving model to nxt_word_prediction_by_gru.h5\n",
            "952/952 [==============================] - 16s 16ms/step - loss: 0.2572 - accuracy: 0.8882\n",
            "Epoch 90/100\n",
            "950/952 [============================>.] - ETA: 0s - loss: 0.2591 - accuracy: 0.8879\n",
            "Epoch 90: loss did not improve from 0.25721\n",
            "952/952 [==============================] - 15s 16ms/step - loss: 0.2591 - accuracy: 0.8879\n",
            "Epoch 91/100\n",
            "950/952 [============================>.] - ETA: 0s - loss: 0.2646 - accuracy: 0.8870\n",
            "Epoch 91: loss did not improve from 0.25721\n",
            "952/952 [==============================] - 15s 16ms/step - loss: 0.2647 - accuracy: 0.8870\n",
            "Epoch 92/100\n",
            "952/952 [==============================] - ETA: 0s - loss: 0.2553 - accuracy: 0.8884\n",
            "Epoch 92: loss improved from 0.25721 to 0.25533, saving model to nxt_word_prediction_by_gru.h5\n",
            "952/952 [==============================] - 16s 16ms/step - loss: 0.2553 - accuracy: 0.8884\n",
            "Epoch 93/100\n",
            "949/952 [============================>.] - ETA: 0s - loss: 0.2530 - accuracy: 0.8897\n",
            "Epoch 93: loss improved from 0.25533 to 0.25332, saving model to nxt_word_prediction_by_gru.h5\n",
            "952/952 [==============================] - 16s 16ms/step - loss: 0.2533 - accuracy: 0.8895\n",
            "Epoch 94/100\n",
            "950/952 [============================>.] - ETA: 0s - loss: 0.2537 - accuracy: 0.8896\n",
            "Epoch 94: loss did not improve from 0.25332\n",
            "952/952 [==============================] - 16s 16ms/step - loss: 0.2538 - accuracy: 0.8895\n",
            "Epoch 95/100\n",
            "951/952 [============================>.] - ETA: 0s - loss: 0.2567 - accuracy: 0.8888\n",
            "Epoch 95: loss did not improve from 0.25332\n",
            "952/952 [==============================] - 15s 16ms/step - loss: 0.2566 - accuracy: 0.8888\n",
            "Epoch 96/100\n",
            "952/952 [==============================] - ETA: 0s - loss: 0.2579 - accuracy: 0.8880\n",
            "Epoch 96: loss did not improve from 0.25332\n",
            "952/952 [==============================] - 15s 16ms/step - loss: 0.2579 - accuracy: 0.8880\n",
            "Epoch 97/100\n",
            "949/952 [============================>.] - ETA: 0s - loss: 0.2569 - accuracy: 0.8885\n",
            "Epoch 97: loss did not improve from 0.25332\n",
            "952/952 [==============================] - 15s 16ms/step - loss: 0.2571 - accuracy: 0.8884\n",
            "Epoch 98/100\n",
            "952/952 [==============================] - ETA: 0s - loss: 0.2515 - accuracy: 0.8885\n",
            "Epoch 98: loss improved from 0.25332 to 0.25151, saving model to nxt_word_prediction_by_gru.h5\n",
            "952/952 [==============================] - 16s 16ms/step - loss: 0.2515 - accuracy: 0.8885\n",
            "Epoch 99/100\n",
            "952/952 [==============================] - ETA: 0s - loss: 0.2528 - accuracy: 0.8889\n",
            "Epoch 99: loss did not improve from 0.25151\n",
            "952/952 [==============================] - 15s 16ms/step - loss: 0.2528 - accuracy: 0.8889\n",
            "Epoch 100/100\n",
            "951/952 [============================>.] - ETA: 0s - loss: 0.2544 - accuracy: 0.8884\n",
            "Epoch 100: loss did not improve from 0.25151\n",
            "952/952 [==============================] - 15s 16ms/step - loss: 0.2545 - accuracy: 0.8884\n",
            "<keras.engine.sequential.Sequential object at 0x7f6af232b8d0>\n"
          ]
        }
      ]
    },
    {
      "cell_type": "code",
      "source": [
        "mdl_gru = load_model(\"nxt_word_prediction_by_gru.h5\")"
      ],
      "metadata": {
        "id": "gx1YCce0UkjN"
      },
      "execution_count": null,
      "outputs": []
    },
    {
      "cell_type": "code",
      "source": [
        "keyboard(mdl_gru, data_tknzr)"
      ],
      "metadata": {
        "colab": {
          "base_uri": "https://localhost:8080/"
        },
        "id": "qJ6yh1oCYABR",
        "outputId": "7aa8fbfe-fda9-463f-84eb-dafa02160111"
      },
      "execution_count": null,
      "outputs": [
        {
          "output_type": "stream",
          "name": "stdout",
          "text": [
            "Enter string: Indian society is not opposed to the active participation of\n",
            "['active', 'participation', 'of']\n",
            "its\n",
            "Enter string: of its women in the higher\n",
            "['in', 'the', 'higher']\n",
            "affairs\n",
            "Enter string: she rode at the head of her\n",
            "['head', 'of', 'her']\n",
            "troops\n",
            "Enter string: If the positive declarations of a group\n",
            "['of', 'a', 'group']\n",
            "of\n",
            "Enter string: I am a good\n",
            "['am', 'a', 'good']\n",
            "man\n",
            "Enter string: You are a good\n",
            "['are', 'a', 'good']\n",
            "boy\n",
            "Enter string: The color of the\n",
            "['color', 'of', 'the']\n",
            "rest\n",
            "Enter string: Trees are green\n",
            "['Trees', 'are', 'green']\n",
            "“hewers\n",
            "Enter string: it is now by even the most orthodox of old Hindu\n",
            "['of', 'old', 'Hindu']\n",
            "ladies\n",
            "Enter string: The name of Rani Jhansi is mentioned among the renowned heroes of the\n",
            "['heroes', 'of', 'the']\n",
            "country\n",
            "Enter string: 0\n",
            "Execution Finished...\n"
          ]
        }
      ]
    },
    {
      "cell_type": "code",
      "source": [
        "ploting_achivement(training_hstry_gru, 'accuracy')"
      ],
      "metadata": {
        "colab": {
          "base_uri": "https://localhost:8080/",
          "height": 279
        },
        "id": "gKv3Eu516Y69",
        "outputId": "8e8456b8-5100-463b-dc69-62446f6a3f90"
      },
      "execution_count": null,
      "outputs": [
        {
          "output_type": "display_data",
          "data": {
            "text/plain": [
              "<Figure size 432x288 with 1 Axes>"
            ],
            "image/png": "[encoded data removed]"
          },
          "metadata": {
            "needs_background": "light"
          }
        }
      ]
    },
    {
      "cell_type": "code",
      "source": [
        "ploting_achivement(training_hstry_gru, 'loss')"
      ],
      "metadata": {
        "colab": {
          "base_uri": "https://localhost:8080/",
          "height": 279
        },
        "id": "MYma923P6olu",
        "outputId": "66d9428e-1ee4-4f79-bc24-6849dd7c0552"
      },
      "execution_count": null,
      "outputs": [
        {
          "output_type": "display_data",
          "data": {
            "text/plain": [
              "<Figure size 432x288 with 1 Axes>"
            ],
            "image/png": "[encoded data removed]"
          },
          "metadata": {
            "needs_background": "light"
          }
        }
      ]
    },
    {
      "cell_type": "code",
      "source": [
        "#ACCURACY calculation\n",
        "gru_loss_and_metrics = mdl_gru.evaluate(X_input, y_output, batch_size=64)\n",
        "print(\"The accuracy is: \"+str(gru_loss_and_metrics[1]))"
      ],
      "metadata": {
        "colab": {
          "base_uri": "https://localhost:8080/"
        },
        "id": "qsSBaDyYlcrq",
        "outputId": "708baaa7-7259-4d0f-d524-d28df7582f0c"
      },
      "execution_count": null,
      "outputs": [
        {
          "output_type": "stream",
          "name": "stdout",
          "text": [
            "952/952 [==============================] - 8s 8ms/step - loss: 0.2030 - accuracy: 0.9138\n",
            "The accuracy is: 0.9138460755348206\n"
          ]
        }
      ]
    },
    {
      "cell_type": "markdown",
      "source": [
        "#hybrid model"
      ],
      "metadata": {
        "id": "6Sac6Ogy61Ne"
      }
    },
    {
      "cell_type": "code",
      "source": [
        "mdl_hybrid = Sequential()\n",
        "\n",
        "mdl_hybrid.add(Embedding(vocabulary_length, 10, input_length=3))\n",
        "mdl_hybrid.add(GRU(1000, return_sequences=True))\n",
        "mdl_hybrid.add(Conv1D(200, kernel_size=3, activation = \"relu\"))\n",
        "mdl_hybrid.add(LSTM(1000, return_sequences=True))\n",
        "mdl_hybrid.add(Dropout(0.5))\n",
        "mdl_hybrid.add(LSTM(1000))\n",
        "mdl_hybrid.add(Dense(1000, activation=\"relu\"))\n",
        "mdl_hybrid.add(Dense(vocabulary_length, activation=\"softmax\"))\n",
        "\n",
        "mdl_hybrid.add(Dense(1000, activation=\"relu\"))\n",
        "mdl_hybrid.add(Dense(vocabulary_length, activation=\"softmax\"))"
      ],
      "metadata": {
        "id": "ffBgHJA164QT"
      },
      "execution_count": null,
      "outputs": []
    },
    {
      "cell_type": "code",
      "source": [
        "mdl_hybrid.summary()"
      ],
      "metadata": {
        "colab": {
          "base_uri": "https://localhost:8080/"
        },
        "id": "WPKltNLLEna6",
        "outputId": "d0c45cb2-8c57-4f5b-ac66-2345b3652b60"
      },
      "execution_count": null,
      "outputs": [
        {
          "output_type": "stream",
          "name": "stdout",
          "text": [
            "Model: \"sequential_2\"\n",
            "_________________________________________________________________\n",
            " Layer (type)                Output Shape              Param #   \n",
            "=================================================================\n",
            " embedding_1 (Embedding)     (None, 3, 10)             76490     \n",
            "                                                                 \n",
            " gru_1 (GRU)                 (None, 3, 1000)           3036000   \n",
            "                                                                 \n",
            " conv1d_1 (Conv1D)           (None, 1, 200)            600200    \n",
            "                                                                 \n",
            " lstm_2 (LSTM)               (None, 1, 1000)           4804000   \n",
            "                                                                 \n",
            " dropout_2 (Dropout)         (None, 1, 1000)           0         \n",
            "                                                                 \n",
            " lstm_3 (LSTM)               (None, 1000)              8004000   \n",
            "                                                                 \n",
            " dense_4 (Dense)             (None, 1000)              1001000   \n",
            "                                                                 \n",
            " dense_5 (Dense)             (None, 7649)              7656649   \n",
            "                                                                 \n",
            " dense_6 (Dense)             (None, 1000)              7650000   \n",
            "                                                                 \n",
            " dense_7 (Dense)             (None, 7649)              7656649   \n",
            "                                                                 \n",
            "=================================================================\n",
            "Total params: 40,484,988\n",
            "Trainable params: 40,484,988\n",
            "Non-trainable params: 0\n",
            "_________________________________________________________________\n"
          ]
        }
      ]
    },
    {
      "cell_type": "code",
      "source": [
        "keras.utils.plot_model(mdl_hybrid, to_file= 'final_imaging_hybrid_model.png', show_layer_names=True)"
      ],
      "metadata": {
        "colab": {
          "base_uri": "https://localhost:8080/",
          "height": 1000
        },
        "id": "btm1LzcJE5JR",
        "outputId": "55c41a68-6918-4e3c-be4f-39674246646f"
      },
      "execution_count": null,
      "outputs": [
        {
          "output_type": "execute_result",
          "data": {
            "image/png": "[encoded data removed]",
            "text/plain": [
              "<IPython.core.display.Image object>"
            ]
          },
          "metadata": {},
          "execution_count": 42
        }
      ]
    },
    {
      "cell_type": "code",
      "source": [
        "chckpnt_hybrid = ModelCheckpoint(\"next_word_prediction_hybrid_mdl.h5\", monitor=\"loss\", verbose=1, save_best_only=True)\n",
        "mdl_hybrid.compile(loss=\"categorical_crossentropy\", optimizer=Adam(learning_rate=0.001), metrics=['accuracy'])"
      ],
      "metadata": {
        "id": "JyQwAQOsFSji"
      },
      "execution_count": null,
      "outputs": []
    },
    {
      "cell_type": "code",
      "source": [
        "training_hstry_hybrid = mdl_hybrid.fit(X_input, y_output, epochs=100, batch_size=64, callbacks=[chckpnt_hybrid])\n",
        "print(mdl_hybrid)"
      ],
      "metadata": {
        "colab": {
          "base_uri": "https://localhost:8080/"
        },
        "id": "pMw28ugYFrGG",
        "outputId": "5a56c8a7-fe8d-4a28-c31d-681da324b798"
      },
      "execution_count": null,
      "outputs": [
        {
          "output_type": "stream",
          "name": "stdout",
          "text": [
            "Epoch 1/100\n",
            "950/952 [============================>.] - ETA: 0s - loss: 6.9557 - accuracy: 0.0845\n",
            "Epoch 1: loss improved from inf to 6.95534, saving model to next_word_prediction_hybrid_mdl.h5\n",
            "952/952 [==============================] - 28s 25ms/step - loss: 6.9553 - accuracy: 0.0845\n",
            "Epoch 2/100\n",
            "951/952 [============================>.] - ETA: 0s - loss: 6.6803 - accuracy: 0.0846\n",
            "Epoch 2: loss improved from 6.95534 to 6.68029, saving model to next_word_prediction_hybrid_mdl.h5\n",
            "952/952 [==============================] - 23s 24ms/step - loss: 6.6803 - accuracy: 0.0846\n",
            "Epoch 3/100\n",
            "952/952 [==============================] - ETA: 0s - loss: 6.6653 - accuracy: 0.0846\n",
            "Epoch 3: loss improved from 6.68029 to 6.66534, saving model to next_word_prediction_hybrid_mdl.h5\n",
            "952/952 [==============================] - 23s 24ms/step - loss: 6.6653 - accuracy: 0.0846\n",
            "Epoch 4/100\n",
            "952/952 [==============================] - ETA: 0s - loss: 6.6639 - accuracy: 0.0846\n",
            "Epoch 4: loss improved from 6.66534 to 6.66386, saving model to next_word_prediction_hybrid_mdl.h5\n",
            "952/952 [==============================] - 23s 24ms/step - loss: 6.6639 - accuracy: 0.0846\n",
            "Epoch 5/100\n",
            "951/952 [============================>.] - ETA: 0s - loss: 6.6612 - accuracy: 0.0846\n",
            "Epoch 5: loss improved from 6.66386 to 6.66127, saving model to next_word_prediction_hybrid_mdl.h5\n",
            "952/952 [==============================] - 23s 24ms/step - loss: 6.6613 - accuracy: 0.0846\n",
            "Epoch 6/100\n",
            "950/952 [============================>.] - ETA: 0s - loss: 6.6598 - accuracy: 0.0846\n",
            "Epoch 6: loss improved from 6.66127 to 6.66017, saving model to next_word_prediction_hybrid_mdl.h5\n",
            "952/952 [==============================] - 23s 25ms/step - loss: 6.6602 - accuracy: 0.0846\n",
            "Epoch 7/100\n",
            "951/952 [============================>.] - ETA: 0s - loss: 6.6592 - accuracy: 0.0846\n",
            "Epoch 7: loss improved from 6.66017 to 6.65905, saving model to next_word_prediction_hybrid_mdl.h5\n",
            "952/952 [==============================] - 23s 24ms/step - loss: 6.6590 - accuracy: 0.0846\n",
            "Epoch 8/100\n",
            "952/952 [==============================] - ETA: 0s - loss: 6.6573 - accuracy: 0.0846\n",
            "Epoch 8: loss improved from 6.65905 to 6.65735, saving model to next_word_prediction_hybrid_mdl.h5\n",
            "952/952 [==============================] - 23s 24ms/step - loss: 6.6573 - accuracy: 0.0846\n",
            "Epoch 9/100\n",
            "951/952 [============================>.] - ETA: 0s - loss: 6.6575 - accuracy: 0.0846\n",
            "Epoch 9: loss improved from 6.65735 to 6.65725, saving model to next_word_prediction_hybrid_mdl.h5\n",
            "952/952 [==============================] - 23s 24ms/step - loss: 6.6573 - accuracy: 0.0846\n",
            "Epoch 10/100\n",
            "952/952 [==============================] - ETA: 0s - loss: 6.6558 - accuracy: 0.0846\n",
            "Epoch 10: loss improved from 6.65725 to 6.65582, saving model to next_word_prediction_hybrid_mdl.h5\n",
            "952/952 [==============================] - 23s 24ms/step - loss: 6.6558 - accuracy: 0.0846\n",
            "Epoch 11/100\n",
            "952/952 [==============================] - ETA: 0s - loss: 6.6549 - accuracy: 0.0846\n",
            "Epoch 11: loss improved from 6.65582 to 6.65486, saving model to next_word_prediction_hybrid_mdl.h5\n",
            "952/952 [==============================] - 23s 24ms/step - loss: 6.6549 - accuracy: 0.0846\n",
            "Epoch 12/100\n",
            "950/952 [============================>.] - ETA: 0s - loss: 6.6542 - accuracy: 0.0846\n",
            "Epoch 12: loss improved from 6.65486 to 6.65421, saving model to next_word_prediction_hybrid_mdl.h5\n",
            "952/952 [==============================] - 23s 24ms/step - loss: 6.6542 - accuracy: 0.0846\n",
            "Epoch 13/100\n",
            "950/952 [============================>.] - ETA: 0s - loss: 6.6534 - accuracy: 0.0845\n",
            "Epoch 13: loss improved from 6.65421 to 6.65319, saving model to next_word_prediction_hybrid_mdl.h5\n",
            "952/952 [==============================] - 23s 24ms/step - loss: 6.6532 - accuracy: 0.0846\n",
            "Epoch 14/100\n",
            "951/952 [============================>.] - ETA: 0s - loss: 6.6526 - accuracy: 0.0845\n",
            "Epoch 14: loss improved from 6.65319 to 6.65240, saving model to next_word_prediction_hybrid_mdl.h5\n",
            "952/952 [==============================] - 23s 25ms/step - loss: 6.6524 - accuracy: 0.0846\n",
            "Epoch 15/100\n",
            "951/952 [============================>.] - ETA: 0s - loss: 6.6519 - accuracy: 0.0846\n",
            "Epoch 15: loss improved from 6.65240 to 6.65181, saving model to next_word_prediction_hybrid_mdl.h5\n",
            "952/952 [==============================] - 23s 24ms/step - loss: 6.6518 - accuracy: 0.0846\n",
            "Epoch 16/100\n",
            "951/952 [============================>.] - ETA: 0s - loss: 6.6516 - accuracy: 0.0846\n",
            "Epoch 16: loss improved from 6.65181 to 6.65119, saving model to next_word_prediction_hybrid_mdl.h5\n",
            "952/952 [==============================] - 23s 24ms/step - loss: 6.6512 - accuracy: 0.0846\n",
            "Epoch 17/100\n",
            "951/952 [============================>.] - ETA: 0s - loss: 6.6500 - accuracy: 0.0846\n",
            "Epoch 17: loss improved from 6.65119 to 6.65005, saving model to next_word_prediction_hybrid_mdl.h5\n",
            "952/952 [==============================] - 23s 24ms/step - loss: 6.6500 - accuracy: 0.0846\n",
            "Epoch 18/100\n",
            "950/952 [============================>.] - ETA: 0s - loss: 6.6494 - accuracy: 0.0846\n",
            "Epoch 18: loss improved from 6.65005 to 6.64936, saving model to next_word_prediction_hybrid_mdl.h5\n",
            "952/952 [==============================] - 23s 24ms/step - loss: 6.6494 - accuracy: 0.0846\n",
            "Epoch 19/100\n",
            "952/952 [==============================] - ETA: 0s - loss: 6.6493 - accuracy: 0.0846\n",
            "Epoch 19: loss improved from 6.64936 to 6.64929, saving model to next_word_prediction_hybrid_mdl.h5\n",
            "952/952 [==============================] - 23s 24ms/step - loss: 6.6493 - accuracy: 0.0846\n",
            "Epoch 20/100\n",
            "951/952 [============================>.] - ETA: 0s - loss: 6.6491 - accuracy: 0.0845\n",
            "Epoch 20: loss improved from 6.64929 to 6.64905, saving model to next_word_prediction_hybrid_mdl.h5\n",
            "952/952 [==============================] - 23s 25ms/step - loss: 6.6491 - accuracy: 0.0846\n",
            "Epoch 21/100\n",
            "950/952 [============================>.] - ETA: 0s - loss: 6.6495 - accuracy: 0.0846\n",
            "Epoch 21: loss improved from 6.64905 to 6.64860, saving model to next_word_prediction_hybrid_mdl.h5\n",
            "952/952 [==============================] - 23s 25ms/step - loss: 6.6486 - accuracy: 0.0846\n",
            "Epoch 22/100\n",
            "952/952 [==============================] - ETA: 0s - loss: 6.6475 - accuracy: 0.0846\n",
            "Epoch 22: loss improved from 6.64860 to 6.64752, saving model to next_word_prediction_hybrid_mdl.h5\n",
            "952/952 [==============================] - 24s 25ms/step - loss: 6.6475 - accuracy: 0.0846\n",
            "Epoch 23/100\n",
            "952/952 [==============================] - ETA: 0s - loss: 6.6468 - accuracy: 0.0846\n",
            "Epoch 23: loss improved from 6.64752 to 6.64675, saving model to next_word_prediction_hybrid_mdl.h5\n",
            "952/952 [==============================] - 23s 24ms/step - loss: 6.6468 - accuracy: 0.0846\n",
            "Epoch 24/100\n",
            "952/952 [==============================] - ETA: 0s - loss: 6.6461 - accuracy: 0.0846\n",
            "Epoch 24: loss improved from 6.64675 to 6.64608, saving model to next_word_prediction_hybrid_mdl.h5\n",
            "952/952 [==============================] - 23s 24ms/step - loss: 6.6461 - accuracy: 0.0846\n",
            "Epoch 25/100\n",
            "951/952 [============================>.] - ETA: 0s - loss: 6.6458 - accuracy: 0.0846\n",
            "Epoch 25: loss improved from 6.64608 to 6.64567, saving model to next_word_prediction_hybrid_mdl.h5\n",
            "952/952 [==============================] - 23s 24ms/step - loss: 6.6457 - accuracy: 0.0846\n",
            "Epoch 26/100\n",
            "952/952 [==============================] - ETA: 0s - loss: 6.6454 - accuracy: 0.0846\n",
            "Epoch 26: loss improved from 6.64567 to 6.64537, saving model to next_word_prediction_hybrid_mdl.h5\n",
            "952/952 [==============================] - 23s 24ms/step - loss: 6.6454 - accuracy: 0.0846\n",
            "Epoch 27/100\n",
            "950/952 [============================>.] - ETA: 0s - loss: 6.6448 - accuracy: 0.0846\n",
            "Epoch 27: loss improved from 6.64537 to 6.64423, saving model to next_word_prediction_hybrid_mdl.h5\n",
            "952/952 [==============================] - 23s 24ms/step - loss: 6.6442 - accuracy: 0.0846\n",
            "Epoch 28/100\n",
            "951/952 [============================>.] - ETA: 0s - loss: 6.6440 - accuracy: 0.0846\n",
            "Epoch 28: loss improved from 6.64423 to 6.64366, saving model to next_word_prediction_hybrid_mdl.h5\n",
            "952/952 [==============================] - 23s 24ms/step - loss: 6.6437 - accuracy: 0.0846\n",
            "Epoch 29/100\n",
            "950/952 [============================>.] - ETA: 0s - loss: 6.6442 - accuracy: 0.0846\n",
            "Epoch 29: loss did not improve from 6.64366\n",
            "952/952 [==============================] - 21s 22ms/step - loss: 6.6438 - accuracy: 0.0846\n",
            "Epoch 30/100\n",
            "950/952 [============================>.] - ETA: 0s - loss: 6.6436 - accuracy: 0.0846\n",
            "Epoch 30: loss improved from 6.64366 to 6.64354, saving model to next_word_prediction_hybrid_mdl.h5\n",
            "952/952 [==============================] - 23s 24ms/step - loss: 6.6435 - accuracy: 0.0846\n",
            "Epoch 31/100\n",
            "950/952 [============================>.] - ETA: 0s - loss: 6.6428 - accuracy: 0.0846\n",
            "Epoch 31: loss improved from 6.64354 to 6.64287, saving model to next_word_prediction_hybrid_mdl.h5\n",
            "952/952 [==============================] - 23s 24ms/step - loss: 6.6429 - accuracy: 0.0846\n",
            "Epoch 32/100\n",
            "951/952 [============================>.] - ETA: 0s - loss: 6.6414 - accuracy: 0.0846\n",
            "Epoch 32: loss improved from 6.64287 to 6.64190, saving model to next_word_prediction_hybrid_mdl.h5\n",
            "952/952 [==============================] - 23s 24ms/step - loss: 6.6419 - accuracy: 0.0846\n",
            "Epoch 33/100\n",
            "952/952 [==============================] - ETA: 0s - loss: 6.6423 - accuracy: 0.0846\n",
            "Epoch 33: loss did not improve from 6.64190\n",
            "952/952 [==============================] - 21s 22ms/step - loss: 6.6423 - accuracy: 0.0846\n",
            "Epoch 34/100\n",
            "952/952 [==============================] - ETA: 0s - loss: 6.6414 - accuracy: 0.0846\n",
            "Epoch 34: loss improved from 6.64190 to 6.64136, saving model to next_word_prediction_hybrid_mdl.h5\n",
            "952/952 [==============================] - 23s 24ms/step - loss: 6.6414 - accuracy: 0.0846\n",
            "Epoch 35/100\n",
            "951/952 [============================>.] - ETA: 0s - loss: 6.6408 - accuracy: 0.0846\n",
            "Epoch 35: loss improved from 6.64136 to 6.64124, saving model to next_word_prediction_hybrid_mdl.h5\n",
            "952/952 [==============================] - 23s 24ms/step - loss: 6.6412 - accuracy: 0.0846\n",
            "Epoch 36/100\n",
            "952/952 [==============================] - ETA: 0s - loss: 6.6414 - accuracy: 0.0846\n",
            "Epoch 36: loss did not improve from 6.64124\n",
            "952/952 [==============================] - 22s 23ms/step - loss: 6.6414 - accuracy: 0.0846\n",
            "Epoch 37/100\n",
            "950/952 [============================>.] - ETA: 0s - loss: 6.6409 - accuracy: 0.0846\n",
            "Epoch 37: loss improved from 6.64124 to 6.64091, saving model to next_word_prediction_hybrid_mdl.h5\n",
            "952/952 [==============================] - 23s 25ms/step - loss: 6.6409 - accuracy: 0.0846\n",
            "Epoch 38/100\n",
            "952/952 [==============================] - ETA: 0s - loss: 6.6402 - accuracy: 0.0846\n",
            "Epoch 38: loss improved from 6.64091 to 6.64023, saving model to next_word_prediction_hybrid_mdl.h5\n",
            "952/952 [==============================] - 23s 25ms/step - loss: 6.6402 - accuracy: 0.0846\n",
            "Epoch 39/100\n",
            "950/952 [============================>.] - ETA: 0s - loss: 6.6392 - accuracy: 0.0846\n",
            "Epoch 39: loss improved from 6.64023 to 6.63985, saving model to next_word_prediction_hybrid_mdl.h5\n",
            "952/952 [==============================] - 23s 24ms/step - loss: 6.6399 - accuracy: 0.0846\n",
            "Epoch 40/100\n",
            "950/952 [============================>.] - ETA: 0s - loss: 6.6401 - accuracy: 0.0845\n",
            "Epoch 40: loss improved from 6.63985 to 6.63975, saving model to next_word_prediction_hybrid_mdl.h5\n",
            "952/952 [==============================] - 23s 24ms/step - loss: 6.6398 - accuracy: 0.0846\n",
            "Epoch 41/100\n",
            "952/952 [==============================] - ETA: 0s - loss: 6.6395 - accuracy: 0.0846\n",
            "Epoch 41: loss improved from 6.63975 to 6.63950, saving model to next_word_prediction_hybrid_mdl.h5\n",
            "952/952 [==============================] - 23s 24ms/step - loss: 6.6395 - accuracy: 0.0846\n",
            "Epoch 42/100\n",
            "950/952 [============================>.] - ETA: 0s - loss: 6.6389 - accuracy: 0.0847\n",
            "Epoch 42: loss improved from 6.63950 to 6.63922, saving model to next_word_prediction_hybrid_mdl.h5\n",
            "952/952 [==============================] - 23s 24ms/step - loss: 6.6392 - accuracy: 0.0846\n",
            "Epoch 43/100\n",
            "950/952 [============================>.] - ETA: 0s - loss: 6.6388 - accuracy: 0.0845\n",
            "Epoch 43: loss improved from 6.63922 to 6.63864, saving model to next_word_prediction_hybrid_mdl.h5\n",
            "952/952 [==============================] - 23s 24ms/step - loss: 6.6386 - accuracy: 0.0846\n",
            "Epoch 44/100\n",
            "950/952 [============================>.] - ETA: 0s - loss: 6.6380 - accuracy: 0.0847\n",
            "Epoch 44: loss improved from 6.63864 to 6.63841, saving model to next_word_prediction_hybrid_mdl.h5\n",
            "952/952 [==============================] - 23s 24ms/step - loss: 6.6384 - accuracy: 0.0846\n",
            "Epoch 45/100\n",
            "950/952 [============================>.] - ETA: 0s - loss: 6.6386 - accuracy: 0.0846\n",
            "Epoch 45: loss did not improve from 6.63841\n",
            "952/952 [==============================] - 22s 23ms/step - loss: 6.6387 - accuracy: 0.0846\n",
            "Epoch 46/100\n",
            "951/952 [============================>.] - ETA: 0s - loss: 6.6381 - accuracy: 0.0846\n",
            "Epoch 46: loss improved from 6.63841 to 6.63806, saving model to next_word_prediction_hybrid_mdl.h5\n",
            "952/952 [==============================] - 24s 25ms/step - loss: 6.6381 - accuracy: 0.0846\n",
            "Epoch 47/100\n",
            "950/952 [============================>.] - ETA: 0s - loss: 6.6381 - accuracy: 0.0846\n",
            "Epoch 47: loss did not improve from 6.63806\n",
            "952/952 [==============================] - 22s 23ms/step - loss: 6.6382 - accuracy: 0.0846\n",
            "Epoch 48/100\n",
            "951/952 [============================>.] - ETA: 0s - loss: 6.6379 - accuracy: 0.0846\n",
            "Epoch 48: loss improved from 6.63806 to 6.63788, saving model to next_word_prediction_hybrid_mdl.h5\n",
            "952/952 [==============================] - 24s 25ms/step - loss: 6.6379 - accuracy: 0.0846\n",
            "Epoch 49/100\n",
            "950/952 [============================>.] - ETA: 0s - loss: 6.6377 - accuracy: 0.0846\n",
            "Epoch 49: loss improved from 6.63788 to 6.63761, saving model to next_word_prediction_hybrid_mdl.h5\n",
            "952/952 [==============================] - 24s 25ms/step - loss: 6.6376 - accuracy: 0.0846\n",
            "Epoch 50/100\n",
            "951/952 [============================>.] - ETA: 0s - loss: 6.6372 - accuracy: 0.0846\n",
            "Epoch 50: loss improved from 6.63761 to 6.63730, saving model to next_word_prediction_hybrid_mdl.h5\n",
            "952/952 [==============================] - 23s 25ms/step - loss: 6.6373 - accuracy: 0.0846\n",
            "Epoch 51/100\n",
            "950/952 [============================>.] - ETA: 0s - loss: 6.6377 - accuracy: 0.0846\n",
            "Epoch 51: loss did not improve from 6.63730\n",
            "952/952 [==============================] - 22s 23ms/step - loss: 6.6373 - accuracy: 0.0846\n",
            "Epoch 52/100\n",
            "952/952 [==============================] - ETA: 0s - loss: 6.6370 - accuracy: 0.0846\n",
            "Epoch 52: loss improved from 6.63730 to 6.63697, saving model to next_word_prediction_hybrid_mdl.h5\n",
            "952/952 [==============================] - 23s 24ms/step - loss: 6.6370 - accuracy: 0.0846\n",
            "Epoch 53/100\n",
            "952/952 [==============================] - ETA: 0s - loss: 6.6368 - accuracy: 0.0846\n",
            "Epoch 53: loss improved from 6.63697 to 6.63684, saving model to next_word_prediction_hybrid_mdl.h5\n",
            "952/952 [==============================] - 23s 25ms/step - loss: 6.6368 - accuracy: 0.0846\n",
            "Epoch 54/100\n",
            "951/952 [============================>.] - ETA: 0s - loss: 6.6370 - accuracy: 0.0846\n",
            "Epoch 54: loss did not improve from 6.63684\n",
            "952/952 [==============================] - 22s 23ms/step - loss: 6.6370 - accuracy: 0.0846\n",
            "Epoch 55/100\n",
            "951/952 [============================>.] - ETA: 0s - loss: 6.6366 - accuracy: 0.0846\n",
            "Epoch 55: loss improved from 6.63684 to 6.63668, saving model to next_word_prediction_hybrid_mdl.h5\n",
            "952/952 [==============================] - 23s 25ms/step - loss: 6.6367 - accuracy: 0.0846\n",
            "Epoch 56/100\n",
            "952/952 [==============================] - ETA: 0s - loss: 6.6361 - accuracy: 0.0846\n",
            "Epoch 56: loss improved from 6.63668 to 6.63607, saving model to next_word_prediction_hybrid_mdl.h5\n",
            "952/952 [==============================] - 23s 25ms/step - loss: 6.6361 - accuracy: 0.0846\n",
            "Epoch 57/100\n",
            "950/952 [============================>.] - ETA: 0s - loss: 6.6357 - accuracy: 0.0846\n",
            "Epoch 57: loss did not improve from 6.63607\n",
            "952/952 [==============================] - 22s 23ms/step - loss: 6.6361 - accuracy: 0.0846\n",
            "Epoch 58/100\n",
            "951/952 [============================>.] - ETA: 0s - loss: 6.6360 - accuracy: 0.0846\n",
            "Epoch 58: loss improved from 6.63607 to 6.63585, saving model to next_word_prediction_hybrid_mdl.h5\n",
            "952/952 [==============================] - 23s 24ms/step - loss: 6.6359 - accuracy: 0.0846\n",
            "Epoch 59/100\n",
            "951/952 [============================>.] - ETA: 0s - loss: 6.6360 - accuracy: 0.0846\n",
            "Epoch 59: loss improved from 6.63585 to 6.63584, saving model to next_word_prediction_hybrid_mdl.h5\n",
            "952/952 [==============================] - 24s 25ms/step - loss: 6.6358 - accuracy: 0.0846\n",
            "Epoch 60/100\n",
            "950/952 [============================>.] - ETA: 0s - loss: 6.6356 - accuracy: 0.0846\n",
            "Epoch 60: loss improved from 6.63584 to 6.63553, saving model to next_word_prediction_hybrid_mdl.h5\n",
            "952/952 [==============================] - 24s 25ms/step - loss: 6.6355 - accuracy: 0.0846\n",
            "Epoch 61/100\n",
            "950/952 [============================>.] - ETA: 0s - loss: 6.6354 - accuracy: 0.0846\n",
            "Epoch 61: loss improved from 6.63553 to 6.63552, saving model to next_word_prediction_hybrid_mdl.h5\n",
            "952/952 [==============================] - 24s 25ms/step - loss: 6.6355 - accuracy: 0.0846\n",
            "Epoch 62/100\n",
            "951/952 [============================>.] - ETA: 0s - loss: 6.6363 - accuracy: 0.0846\n",
            "Epoch 62: loss did not improve from 6.63552\n",
            "952/952 [==============================] - 22s 23ms/step - loss: 6.6357 - accuracy: 0.0846\n",
            "Epoch 63/100\n",
            "951/952 [============================>.] - ETA: 0s - loss: 6.6351 - accuracy: 0.0846\n",
            "Epoch 63: loss improved from 6.63552 to 6.63530, saving model to next_word_prediction_hybrid_mdl.h5\n",
            "952/952 [==============================] - 24s 25ms/step - loss: 6.6353 - accuracy: 0.0846\n",
            "Epoch 64/100\n",
            "952/952 [==============================] - ETA: 0s - loss: 6.6352 - accuracy: 0.0846\n",
            "Epoch 64: loss improved from 6.63530 to 6.63518, saving model to next_word_prediction_hybrid_mdl.h5\n",
            "952/952 [==============================] - 24s 25ms/step - loss: 6.6352 - accuracy: 0.0846\n",
            "Epoch 65/100\n",
            "950/952 [============================>.] - ETA: 0s - loss: 6.6344 - accuracy: 0.0846\n",
            "Epoch 65: loss improved from 6.63518 to 6.63497, saving model to next_word_prediction_hybrid_mdl.h5\n",
            "952/952 [==============================] - 24s 25ms/step - loss: 6.6350 - accuracy: 0.0846\n",
            "Epoch 66/100\n",
            "952/952 [==============================] - ETA: 0s - loss: 6.6351 - accuracy: 0.0846\n",
            "Epoch 66: loss did not improve from 6.63497\n",
            "952/952 [==============================] - 22s 23ms/step - loss: 6.6351 - accuracy: 0.0846\n",
            "Epoch 67/100\n",
            "951/952 [============================>.] - ETA: 0s - loss: 6.6350 - accuracy: 0.0846\n",
            "Epoch 67: loss improved from 6.63497 to 6.63496, saving model to next_word_prediction_hybrid_mdl.h5\n",
            "952/952 [==============================] - 24s 25ms/step - loss: 6.6350 - accuracy: 0.0846\n",
            "Epoch 68/100\n",
            "952/952 [==============================] - ETA: 0s - loss: 6.6348 - accuracy: 0.0846\n",
            "Epoch 68: loss improved from 6.63496 to 6.63480, saving model to next_word_prediction_hybrid_mdl.h5\n",
            "952/952 [==============================] - 24s 25ms/step - loss: 6.6348 - accuracy: 0.0846\n",
            "Epoch 69/100\n",
            "952/952 [==============================] - ETA: 0s - loss: 6.6348 - accuracy: 0.0846\n",
            "Epoch 69: loss improved from 6.63480 to 6.63480, saving model to next_word_prediction_hybrid_mdl.h5\n",
            "952/952 [==============================] - 24s 25ms/step - loss: 6.6348 - accuracy: 0.0846\n",
            "Epoch 70/100\n",
            "950/952 [============================>.] - ETA: 0s - loss: 6.6354 - accuracy: 0.0845\n",
            "Epoch 70: loss improved from 6.63480 to 6.63472, saving model to next_word_prediction_hybrid_mdl.h5\n",
            "952/952 [==============================] - 24s 25ms/step - loss: 6.6347 - accuracy: 0.0846\n",
            "Epoch 71/100\n",
            "950/952 [============================>.] - ETA: 0s - loss: 6.6344 - accuracy: 0.0846\n",
            "Epoch 71: loss improved from 6.63472 to 6.63453, saving model to next_word_prediction_hybrid_mdl.h5\n",
            "952/952 [==============================] - 24s 25ms/step - loss: 6.6345 - accuracy: 0.0846\n",
            "Epoch 72/100\n",
            "951/952 [============================>.] - ETA: 0s - loss: 6.6346 - accuracy: 0.0846\n",
            "Epoch 72: loss improved from 6.63453 to 6.63428, saving model to next_word_prediction_hybrid_mdl.h5\n",
            "952/952 [==============================] - 24s 25ms/step - loss: 6.6343 - accuracy: 0.0846\n",
            "Epoch 73/100\n",
            "951/952 [============================>.] - ETA: 0s - loss: 6.6345 - accuracy: 0.0846\n",
            "Epoch 73: loss did not improve from 6.63428\n",
            "952/952 [==============================] - 22s 23ms/step - loss: 6.6343 - accuracy: 0.0846\n",
            "Epoch 74/100\n",
            "950/952 [============================>.] - ETA: 0s - loss: 6.6342 - accuracy: 0.0847\n",
            "Epoch 74: loss did not improve from 6.63428\n",
            "952/952 [==============================] - 22s 23ms/step - loss: 6.6343 - accuracy: 0.0846\n",
            "Epoch 75/100\n",
            "951/952 [============================>.] - ETA: 0s - loss: 6.6344 - accuracy: 0.0846\n",
            "Epoch 75: loss improved from 6.63428 to 6.63427, saving model to next_word_prediction_hybrid_mdl.h5\n",
            "952/952 [==============================] - 24s 25ms/step - loss: 6.6343 - accuracy: 0.0846\n",
            "Epoch 76/100\n",
            "951/952 [============================>.] - ETA: 0s - loss: 6.6337 - accuracy: 0.0846\n",
            "Epoch 76: loss improved from 6.63427 to 6.63393, saving model to next_word_prediction_hybrid_mdl.h5\n",
            "952/952 [==============================] - 24s 25ms/step - loss: 6.6339 - accuracy: 0.0846\n",
            "Epoch 77/100\n",
            "951/952 [============================>.] - ETA: 0s - loss: 6.6342 - accuracy: 0.0846\n",
            "Epoch 77: loss did not improve from 6.63393\n",
            "952/952 [==============================] - 22s 23ms/step - loss: 6.6340 - accuracy: 0.0846\n",
            "Epoch 78/100\n",
            "951/952 [============================>.] - ETA: 0s - loss: 6.6342 - accuracy: 0.0846\n",
            "Epoch 78: loss improved from 6.63393 to 6.63389, saving model to next_word_prediction_hybrid_mdl.h5\n",
            "952/952 [==============================] - 24s 25ms/step - loss: 6.6339 - accuracy: 0.0846\n",
            "Epoch 79/100\n",
            "951/952 [============================>.] - ETA: 0s - loss: 6.6339 - accuracy: 0.0846\n",
            "Epoch 79: loss improved from 6.63389 to 6.63365, saving model to next_word_prediction_hybrid_mdl.h5\n",
            "952/952 [==============================] - 24s 25ms/step - loss: 6.6336 - accuracy: 0.0846\n",
            "Epoch 80/100\n",
            "950/952 [============================>.] - ETA: 0s - loss: 6.6332 - accuracy: 0.0846\n",
            "Epoch 80: loss improved from 6.63365 to 6.63365, saving model to next_word_prediction_hybrid_mdl.h5\n",
            "952/952 [==============================] - 23s 25ms/step - loss: 6.6336 - accuracy: 0.0846\n",
            "Epoch 81/100\n",
            "952/952 [==============================] - ETA: 0s - loss: 6.6338 - accuracy: 0.0846\n",
            "Epoch 81: loss did not improve from 6.63365\n",
            "952/952 [==============================] - 22s 23ms/step - loss: 6.6338 - accuracy: 0.0846\n",
            "Epoch 82/100\n",
            "951/952 [============================>.] - ETA: 0s - loss: 6.6334 - accuracy: 0.0846\n",
            "Epoch 82: loss improved from 6.63365 to 6.63361, saving model to next_word_prediction_hybrid_mdl.h5\n",
            "952/952 [==============================] - 24s 25ms/step - loss: 6.6336 - accuracy: 0.0846\n",
            "Epoch 83/100\n",
            "950/952 [============================>.] - ETA: 0s - loss: 6.6332 - accuracy: 0.0846\n",
            "Epoch 83: loss improved from 6.63361 to 6.63343, saving model to next_word_prediction_hybrid_mdl.h5\n",
            "952/952 [==============================] - 24s 25ms/step - loss: 6.6334 - accuracy: 0.0846\n",
            "Epoch 84/100\n",
            "950/952 [============================>.] - ETA: 0s - loss: 6.6337 - accuracy: 0.0847\n",
            "Epoch 84: loss improved from 6.63343 to 6.63326, saving model to next_word_prediction_hybrid_mdl.h5\n",
            "952/952 [==============================] - 23s 25ms/step - loss: 6.6333 - accuracy: 0.0846\n",
            "Epoch 85/100\n",
            "950/952 [============================>.] - ETA: 0s - loss: 6.6333 - accuracy: 0.0846\n",
            "Epoch 85: loss did not improve from 6.63326\n",
            "952/952 [==============================] - 22s 23ms/step - loss: 6.6333 - accuracy: 0.0846\n",
            "Epoch 86/100\n",
            "952/952 [==============================] - ETA: 0s - loss: 6.6333 - accuracy: 0.0846\n",
            "Epoch 86: loss did not improve from 6.63326\n",
            "952/952 [==============================] - 22s 23ms/step - loss: 6.6333 - accuracy: 0.0846\n",
            "Epoch 87/100\n",
            "950/952 [============================>.] - ETA: 0s - loss: 6.6337 - accuracy: 0.0846\n",
            "Epoch 87: loss did not improve from 6.63326\n",
            "952/952 [==============================] - 22s 23ms/step - loss: 6.6333 - accuracy: 0.0846\n",
            "Epoch 88/100\n",
            "952/952 [==============================] - ETA: 0s - loss: 6.6332 - accuracy: 0.0846\n",
            "Epoch 88: loss improved from 6.63326 to 6.63319, saving model to next_word_prediction_hybrid_mdl.h5\n",
            "952/952 [==============================] - 24s 25ms/step - loss: 6.6332 - accuracy: 0.0846\n",
            "Epoch 89/100\n",
            "952/952 [==============================] - ETA: 0s - loss: 6.6330 - accuracy: 0.0846\n",
            "Epoch 89: loss improved from 6.63319 to 6.63296, saving model to next_word_prediction_hybrid_mdl.h5\n",
            "952/952 [==============================] - 24s 25ms/step - loss: 6.6330 - accuracy: 0.0846\n",
            "Epoch 90/100\n",
            "951/952 [============================>.] - ETA: 0s - loss: 6.6331 - accuracy: 0.0846\n",
            "Epoch 90: loss did not improve from 6.63296\n",
            "952/952 [==============================] - 22s 23ms/step - loss: 6.6330 - accuracy: 0.0846\n",
            "Epoch 91/100\n",
            "951/952 [============================>.] - ETA: 0s - loss: 6.6327 - accuracy: 0.0846\n",
            "Epoch 91: loss improved from 6.63296 to 6.63291, saving model to next_word_prediction_hybrid_mdl.h5\n",
            "952/952 [==============================] - 23s 25ms/step - loss: 6.6329 - accuracy: 0.0846\n",
            "Epoch 92/100\n",
            "952/952 [==============================] - ETA: 0s - loss: 6.6329 - accuracy: 0.0846\n",
            "Epoch 92: loss improved from 6.63291 to 6.63290, saving model to next_word_prediction_hybrid_mdl.h5\n",
            "952/952 [==============================] - 23s 25ms/step - loss: 6.6329 - accuracy: 0.0846\n",
            "Epoch 93/100\n",
            "952/952 [==============================] - ETA: 0s - loss: 6.6328 - accuracy: 0.0846\n",
            "Epoch 93: loss improved from 6.63290 to 6.63280, saving model to next_word_prediction_hybrid_mdl.h5\n",
            "952/952 [==============================] - 24s 25ms/step - loss: 6.6328 - accuracy: 0.0846\n",
            "Epoch 94/100\n",
            "952/952 [==============================] - ETA: 0s - loss: 6.6328 - accuracy: 0.0846\n",
            "Epoch 94: loss improved from 6.63280 to 6.63279, saving model to next_word_prediction_hybrid_mdl.h5\n",
            "952/952 [==============================] - 24s 25ms/step - loss: 6.6328 - accuracy: 0.0846\n",
            "Epoch 95/100\n",
            "951/952 [============================>.] - ETA: 0s - loss: 6.6325 - accuracy: 0.0846\n",
            "Epoch 95: loss improved from 6.63279 to 6.63260, saving model to next_word_prediction_hybrid_mdl.h5\n",
            "952/952 [==============================] - 24s 25ms/step - loss: 6.6326 - accuracy: 0.0846\n",
            "Epoch 96/100\n",
            "952/952 [==============================] - ETA: 0s - loss: 6.6326 - accuracy: 0.0846\n",
            "Epoch 96: loss did not improve from 6.63260\n",
            "952/952 [==============================] - 22s 23ms/step - loss: 6.6326 - accuracy: 0.0846\n",
            "Epoch 97/100\n",
            "952/952 [==============================] - ETA: 0s - loss: 6.6324 - accuracy: 0.0846\n",
            "Epoch 97: loss improved from 6.63260 to 6.63241, saving model to next_word_prediction_hybrid_mdl.h5\n",
            "952/952 [==============================] - 24s 25ms/step - loss: 6.6324 - accuracy: 0.0846\n",
            "Epoch 98/100\n",
            "950/952 [============================>.] - ETA: 0s - loss: 6.6326 - accuracy: 0.0846\n",
            "Epoch 98: loss did not improve from 6.63241\n",
            "952/952 [==============================] - 22s 23ms/step - loss: 6.6324 - accuracy: 0.0846\n",
            "Epoch 99/100\n",
            "951/952 [============================>.] - ETA: 0s - loss: 6.6325 - accuracy: 0.0845\n",
            "Epoch 99: loss did not improve from 6.63241\n",
            "952/952 [==============================] - 22s 23ms/step - loss: 6.6325 - accuracy: 0.0846\n",
            "Epoch 100/100\n",
            "950/952 [============================>.] - ETA: 0s - loss: 6.6332 - accuracy: 0.0845\n",
            "Epoch 100: loss improved from 6.63241 to 6.63234, saving model to next_word_prediction_hybrid_mdl.h5\n",
            "952/952 [==============================] - 24s 25ms/step - loss: 6.6323 - accuracy: 0.0846\n",
            "<keras.engine.sequential.Sequential object at 0x7fe2de16a990>\n"
          ]
        }
      ]
    },
    {
      "cell_type": "code",
      "source": [
        "mdl_hybrid = load_model(\"next_word_prediction_hybrid_mdl.h5\")"
      ],
      "metadata": {
        "id": "KVndGcSjf1E5"
      },
      "execution_count": null,
      "outputs": []
    },
    {
      "cell_type": "code",
      "source": [
        "keyboard(mdl_hybrid, data_tknzr)"
      ],
      "metadata": {
        "colab": {
          "base_uri": "https://localhost:8080/"
        },
        "id": "C_kcIrZSjXB4",
        "outputId": "e3a39ec9-690b-40c2-a458-1628775a26a9"
      },
      "execution_count": null,
      "outputs": [
        {
          "output_type": "stream",
          "name": "stdout",
          "text": [
            "Enter string: The heroic command of\n",
            "['heroic', 'command', 'of']\n",
            "the\n",
            "Enter string: I am a good\n",
            "['am', 'a', 'good']\n",
            "the\n",
            "Enter string: the project gutenberb website\n",
            "['project', 'gutenberb', 'website']\n",
            "Something went wrong:  in user code:\n",
            "\n",
            "    File \"/usr/local/lib/python3.7/dist-packages/keras/engine/training.py\", line 1801, in predict_function  *\n",
            "        return step_function(self, iterator)\n",
            "    File \"/usr/local/lib/python3.7/dist-packages/keras/engine/training.py\", line 1790, in step_function  **\n",
            "        outputs = model.distribute_strategy.run(run_step, args=(data,))\n",
            "    File \"/usr/local/lib/python3.7/dist-packages/keras/engine/training.py\", line 1783, in run_step  **\n",
            "        outputs = model.predict_step(data)\n",
            "    File \"/usr/local/lib/python3.7/dist-packages/keras/engine/training.py\", line 1751, in predict_step\n",
            "        return self(x, training=False)\n",
            "    File \"/usr/local/lib/python3.7/dist-packages/keras/utils/traceback_utils.py\", line 67, in error_handler\n",
            "        raise e.with_traceback(filtered_tb) from None\n",
            "    File \"/usr/local/lib/python3.7/dist-packages/keras/engine/input_spec.py\", line 264, in assert_input_compatibility\n",
            "        raise ValueError(f'Input {input_index} of layer \"{layer_name}\" is '\n",
            "\n",
            "    ValueError: Input 0 of layer \"sequential_2\" is incompatible with the layer: expected shape=(None, 3), found shape=(None, 2)\n",
            "\n",
            "Enter string: a group of western\n",
            "['group', 'of', 'western']\n",
            "the\n",
            "Enter string: 0\n",
            "Execution Finished...\n"
          ]
        }
      ]
    },
    {
      "cell_type": "code",
      "source": [
        "ploting_achivement(training_hstry_hybrid, 'accuracy')"
      ],
      "metadata": {
        "colab": {
          "base_uri": "https://localhost:8080/",
          "height": 279
        },
        "id": "jcy5rCUtjHu4",
        "outputId": "21b69950-5520-40e4-8372-b6a2be877940"
      },
      "execution_count": null,
      "outputs": [
        {
          "output_type": "display_data",
          "data": {
            "text/plain": [
              "<Figure size 432x288 with 1 Axes>"
            ],
            "image/png": "[encoded data removed]"
          },
          "metadata": {
            "needs_background": "light"
          }
        }
      ]
    },
    {
      "cell_type": "code",
      "source": [
        "ploting_achivement(training_hstry_hybrid, 'loss')"
      ],
      "metadata": {
        "colab": {
          "base_uri": "https://localhost:8080/",
          "height": 279
        },
        "id": "FisLNtQDj73n",
        "outputId": "2de2baa7-e23f-4f08-bfa1-ef62d0d6c7f6"
      },
      "execution_count": null,
      "outputs": [
        {
          "output_type": "display_data",
          "data": {
            "text/plain": [
              "<Figure size 432x288 with 1 Axes>"
            ],
            "image/png": "[encoded data removed]"
          },
          "metadata": {
            "needs_background": "light"
          }
        }
      ]
    },
    {
      "cell_type": "code",
      "source": [
        "#ACCURACY calculation\n",
        "hybrid_loss_and_metrics = mdl_hybrid.evaluate(X_input, y_output, batch_size=64)\n",
        "print(\"The accuracy is: \"+str(hybrid_loss_and_metrics[1]))"
      ],
      "metadata": {
        "colab": {
          "base_uri": "https://localhost:8080/"
        },
        "id": "p6VL280GMsRw",
        "outputId": "7a38a491-abe7-44b8-d1c7-9deda1ed688a"
      },
      "execution_count": null,
      "outputs": [
        {
          "output_type": "stream",
          "name": "stdout",
          "text": [
            "952/952 [==============================] - 10s 10ms/step - loss: 6.6220 - accuracy: 0.0846\n",
            "The accuracy is: 0.08459378033876419\n"
          ]
        }
      ]
    },
    {
      "cell_type": "code",
      "source": [
        "print(\"*****************Accuracy calculation and comparision of the explored models:   *********************\")\n",
        "print('\\n')\n",
        "\n",
        "print(\"LSTM model accuracy:                     \"+str(lstm_loss_and_metrics[1]))\n",
        "print('\\n')\n",
        "\n",
        "print(\"Bi-LSTM model accuracy:                \"+str(bilstm_loss_and_metrics[1]))\n",
        "print('\\n')\n",
        "print(\"GRU model accuracy:                        \"+str(gru_loss_and_metrics[1]))\n",
        "print('\\n')\n",
        "print(\"Hybrid model accuracy:                     \"+str(hybrid_loss_and_metrics[1]))"
      ],
      "metadata": {
        "colab": {
          "base_uri": "https://localhost:8080/",
          "height": 287
        },
        "id": "4Uw0saJmf3ZN",
        "outputId": "5cd6fd74-5c59-4191-faf1-12a6ed1b2d30"
      },
      "execution_count": null,
      "outputs": [
        {
          "output_type": "stream",
          "name": "stdout",
          "text": [
            "*****************Accuracy calculation and comparision of the explored models:   *********************\n",
            "\n",
            "\n"
          ]
        },
        {
          "output_type": "error",
          "ename": "NameError",
          "evalue": "ignored",
          "traceback": [
            "\u001b[0;31m---------------------------------------------------------------------------\u001b[0m",
            "\u001b[0;31mNameError\u001b[0m                                 Traceback (most recent call last)",
            "\u001b[0;32m<ipython-input-39-30ff68b428f8>\u001b[0m in \u001b[0;36m<module>\u001b[0;34m\u001b[0m\n\u001b[1;32m      2\u001b[0m \u001b[0mprint\u001b[0m\u001b[0;34m(\u001b[0m\u001b[0;34m'\\n'\u001b[0m\u001b[0;34m)\u001b[0m\u001b[0;34m\u001b[0m\u001b[0;34m\u001b[0m\u001b[0m\n\u001b[1;32m      3\u001b[0m \u001b[0;34m\u001b[0m\u001b[0m\n\u001b[0;32m----> 4\u001b[0;31m \u001b[0mprint\u001b[0m\u001b[0;34m(\u001b[0m\u001b[0;34m\"LSTM model accuracy:                     \"\u001b[0m\u001b[0;34m+\u001b[0m\u001b[0mstr\u001b[0m\u001b[0;34m(\u001b[0m\u001b[0mlstm_loss_and_metrics\u001b[0m\u001b[0;34m[\u001b[0m\u001b[0;36m1\u001b[0m\u001b[0;34m]\u001b[0m\u001b[0;34m)\u001b[0m\u001b[0;34m)\u001b[0m\u001b[0;34m\u001b[0m\u001b[0;34m\u001b[0m\u001b[0m\n\u001b[0m\u001b[1;32m      5\u001b[0m \u001b[0mprint\u001b[0m\u001b[0;34m(\u001b[0m\u001b[0;34m'\\n'\u001b[0m\u001b[0;34m)\u001b[0m\u001b[0;34m\u001b[0m\u001b[0;34m\u001b[0m\u001b[0m\n\u001b[1;32m      6\u001b[0m \u001b[0;34m\u001b[0m\u001b[0m\n",
            "\u001b[0;31mNameError\u001b[0m: name 'lstm_loss_and_metrics' is not defined"
          ]
        }
      ]
    }
  ]
}